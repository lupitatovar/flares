{
 "cells": [
  {
   "cell_type": "code",
   "execution_count": 1,
   "metadata": {},
   "outputs": [],
   "source": [
    "%matplotlib inline\n",
    "import numpy as np\n",
    "import matplotlib.pyplot as plt\n",
    "import pandas as pd\n",
    "from scipy import *\n",
    "import astropy\n",
    "from astropy import constants as ac\n",
    "#from astroquery.mast import Observations\n",
    "import lightkurve\n",
    "import celerite\n",
    "from celerite import terms\n",
    "from scipy.optimize import minimize\n",
    "from astropy.io import fits\n",
    "from astropy.table import Table"
   ]
  },
  {
   "cell_type": "code",
   "execution_count": 2,
   "metadata": {},
   "outputs": [],
   "source": [
    "from matplotlib import rcParams\n",
    "rcParams[\"savefig.dpi\"] = 100\n",
    "rcParams[\"figure.dpi\"] = 100\n",
    "rcParams[\"font.size\"] = 20\n",
    "rcParams[\"figure.figsize\"] = [8, 5]\n",
    "rcParams[\"font.family\"] = \"serif\"\n",
    "rcParams[\"font.sans-serif\"] = [\"Computer Modern Sans Serif\"]\n",
    "rcParams[\"text.usetex\"] = True"
   ]
  },
  {
   "cell_type": "code",
   "execution_count": 3,
   "metadata": {},
   "outputs": [],
   "source": [
    "flare_table=pd.read_csv('https://raw.githubusercontent.com/jradavenport/GJ1243-Flares/master/data/gj1243_master_flares.tbl',\n",
    "            skiprows=23,delim_whitespace=True,names=['index of flare start in \"gj1243_master_slc.dat\"',\n",
    "                                                   'index of flare stop in \"gj1243_master_slc.dat\"','t_start','t_stop'\n",
    "                                                   ,'t_peak','t_rise','t_decay','flux peak',\n",
    "                                                   'ED','Duration of rise',\n",
    "                                                   'Duration of decay','Complex flag',\n",
    "                                                   '# of people that identified flare event exists',\n",
    "                                                   '# of people that analyzed this month',\n",
    "                                                   '# of flare template components fit to event'])"
   ]
  },
  {
   "cell_type": "code",
   "execution_count": 4,
   "metadata": {},
   "outputs": [],
   "source": [
    "t_starts=flare_table.loc[:,'t_start']\n",
    "t_stops=flare_table.loc[:,'t_stop']\n",
    "flux_peak = flare_table.loc[:,'flux peak']\n",
    "complex_flag = flare_table['Complex flag'] #2=complex, 1 = classical\n",
    "ED = flare_table['ED'] #units=seconds\n",
    "flare_table['Flare_Duration'] = 1440.*(t_stops-t_starts) #units = minutes"
   ]
  },
  {
   "cell_type": "code",
   "execution_count": 5,
   "metadata": {},
   "outputs": [
    {
     "name": "stdout",
     "output_type": "stream",
     "text": [
      "The number of classical flares : 5162\n",
      "The number of complex flares : 945\n",
      "The number of total flares with a duration between 20-75min : 1641\n",
      "902\n",
      "902\n"
     ]
    },
    {
     "name": "stderr",
     "output_type": "stream",
     "text": [
      "/Users/lupitatovar/anaconda3/lib/python3.7/site-packages/ipykernel_launcher.py:20: SettingWithCopyWarning: \n",
      "A value is trying to be set on a copy of a slice from a DataFrame.\n",
      "Try using .loc[row_indexer,col_indexer] = value instead\n",
      "\n",
      "See the caveats in the documentation: https://pandas.pydata.org/pandas-docs/stable/user_guide/indexing.html#returning-a-view-versus-a-copy\n"
     ]
    }
   ],
   "source": [
    "# Separating the types of flares\n",
    "classical = len([i for i in complex_flag if i < 2.0]) \n",
    "print (\"The number of classical flares : \" + str(classical)) \n",
    "\n",
    "cmplx = len([i for i in complex_flag if i > 1.0]) \n",
    "print (\"The number of complex flares : \" + str(cmplx)) \n",
    "\n",
    "complex_flares = flare_table[flare_table['Complex flag'] == 2.0]\n",
    "classical_flares = flare_table[flare_table['Complex flag'] == 1.0]\n",
    "\n",
    "#-----------------------------------------------------------------------------------------\n",
    "min_dur = 20.0 #minutes\n",
    "max_dur = 75.0\n",
    "\n",
    "dur_limit = len([i for i in flare_table['Flare_Duration'] if i >= min_dur and i<max_dur]) \n",
    "print (\"The number of total flares with a duration between 20-75min : \" + str(dur_limit))\n",
    "\n",
    "#------------------------------------------------------------------------------------------\n",
    "#adding in a column that is the flare duration into the table \n",
    "classical_flares['Flare_Duration'] = 1440.*(classical_flares['t_stop'] - classical_flares['t_start'])\n",
    "#classical_flares\n",
    "\n",
    "print (len([i for i in classical_flares['Flare_Duration'] if i >= min_dur and i < max_dur]))\n",
    "\n",
    "#------------------------------------------------------------------------------------------\n",
    "\n",
    "#Table of Classical flares that are between 20-75 minutes as defined in Davenport(2014)\n",
    "\n",
    "timed_classical = classical_flares[(classical_flares['Flare_Duration'] >= min_dur) & (classical_flares['Flare_Duration'] < max_dur)]\n",
    "print(len(timed_classical))"
   ]
  },
  {
   "cell_type": "markdown",
   "metadata": {},
   "source": [
    "### Importing in GJ1243 light curve (DR-25)"
   ]
  },
  {
   "cell_type": "code",
   "execution_count": 6,
   "metadata": {},
   "outputs": [],
   "source": [
    "from lightkurve import search_lightcurvefile\n",
    "from lightkurve import search_targetpixelfile\n",
    "target = '9726699'\n",
    "gj1243_collection = search_lightcurvefile(target,cadence='short').download_all()\n",
    "\n",
    "gj1243lc = gj1243_collection[0].PDCSAP_FLUX.remove_nans()\n",
    "\n",
    "#stitching together the full light curve\n",
    "for q in range(1,len(gj1243_collection)):\n",
    "    try:\n",
    "        gj1243lc = gj1243lc.append(gj1243_collection[q].PDCSAP_FLUX).remove_nans()\n",
    "    except:\n",
    "            print(q)"
   ]
  },
  {
   "cell_type": "code",
   "execution_count": 7,
   "metadata": {},
   "outputs": [
    {
     "name": "stdout",
     "output_type": "stream",
     "text": [
      "0 (46806, 7)\n",
      "1 (42289, 7)\n",
      "2 (32946, 7)\n",
      "3 (39984, 7)\n",
      "4 (44060, 7)\n",
      "5 (34037, 7)\n",
      "6 (45254, 7)\n",
      "7 (39630, 7)\n",
      "8 (43978, 7)\n",
      "9 (45006, 7)\n",
      "10 (39121, 7)\n"
     ]
    },
    {
     "data": {
      "image/png": "[encoded data removed]",
      "text/plain": [
       "<Figure size 1500x400 with 1 Axes>"
      ]
     },
     "metadata": {
      "needs_background": "light"
     },
     "output_type": "display_data"
    }
   ],
   "source": [
    "#Reading in the 11 mo gp files\n",
    "from glob import glob\n",
    "\n",
    "gp_files = glob('*11mo_*.csv')\n",
    "\n",
    "for k in range(len(gp_files)): \n",
    "    df_tmp = pd.read_csv(gp_files[k]) \n",
    "    print(k, df_tmp.shape) \n",
    "    if k==0: \n",
    "        df = df_tmp \n",
    "    else: \n",
    "         df = df.append(df_tmp) \n",
    "\n",
    "df = df.sort_values(by='time')\n",
    "\n",
    "plt.figure(figsize=(15,4))\n",
    "plt.plot(df['time'], df['detrended_flux'])\n",
    "plt.plot(df['time'], df['mean'])\n",
    "plt.show()\n"
   ]
  },
  {
   "cell_type": "code",
   "execution_count": 8,
   "metadata": {},
   "outputs": [
    {
     "name": "stdout",
     "output_type": "stream",
     "text": [
      "453111\n"
     ]
    }
   ],
   "source": [
    "print(len(df['df_flux_err']))"
   ]
  },
  {
   "cell_type": "code",
   "execution_count": 9,
   "metadata": {},
   "outputs": [
    {
     "name": "stdout",
     "output_type": "stream",
     "text": [
      "453111\n"
     ]
    }
   ],
   "source": [
    "#dropping the nans in the table\n",
    "df = df.dropna()\n",
    "df = df.reset_index(drop=True)\n",
    "print(len(df))"
   ]
  },
  {
   "cell_type": "code",
   "execution_count": 10,
   "metadata": {},
   "outputs": [
    {
     "data": {
      "text/plain": [
       "Text(0.5, 0, 'Time - 2457000 [BTJD days]')"
      ]
     },
     "execution_count": 10,
     "metadata": {},
     "output_type": "execute_result"
    },
    {
     "data": {
      "image/png": "[encoded data removed]",
      "text/plain": [
       "<Figure size 800x400 with 1 Axes>"
      ]
     },
     "metadata": {
      "needs_background": "light"
     },
     "output_type": "display_data"
    }
   ],
   "source": [
    "\n",
    "#rcParams[\"savefig.dpi\"] = 300\n",
    "#rcParams[\"figure.dpi\"] = 100\n",
    "rcParams[\"font.size\"] = 18\n",
    "#rcParams[\"figure.figsize\"] = [8, 4]\n",
    "#rcParams[\"font.family\"] = \"sans-serif\"\n",
    "#rcParams[\"font.sans-serif\"] = [\"Computer Modern Sans Serif\"]\n",
    "#rcParams[\"text.usetex\"] = True\n",
    "\n",
    "plt.figure(figsize=[8,4])\n",
    "\n",
    "color = \"#ff7f0e\"\n",
    "\n",
    "plt.rcParams['axes.linewidth']=1.5\n",
    "#plt.rcParams['xtick.major.width'] = 1.5\n",
    "#plt.rcParams['ytick.major.width'] = 1.5\n",
    "#plt.rc('xtick.major', size=6, pad=5)\n",
    "plt.tick_params(direction='in',width=1.5,length=5,pad=7)\n",
    "\n",
    "plt.xticks(np.arange(572,574.5, step=0.5))\n",
    "\n",
    "\n",
    "plt.plot(df['time'], df['detrended_flux'],alpha=0.9)\n",
    "plt.plot(df['time'], df['mean'])\n",
    "plt.fill_between(df['time'], df['mean']+df['std'], df['mean']-df['std'],color=color, alpha=0.5,\n",
    "                 edgecolor=\"none\",label='gp')\n",
    "\n",
    "plt.xlim(572,574)\n",
    "#plt.xlim(914,916)\n",
    "plt.ylim(1,1.068)\n",
    "plt.ylabel(\"Normalized Flux\")\n",
    "plt.xlabel(\"Time - 2457000 [BTJD days]\")\n",
    "\n",
    "#plt.savefig('/Users/lupitatovar/flares/figures/gp_overlay.png',bbox_inches='tight')\n",
    "\n",
    "#plt.show()"
   ]
  },
  {
   "cell_type": "code",
   "execution_count": 11,
   "metadata": {},
   "outputs": [],
   "source": [
    "detrended = df['detrended_flux'].values - df['mean'].values\n",
    "#print(detrended)"
   ]
  },
  {
   "cell_type": "code",
   "execution_count": 12,
   "metadata": {},
   "outputs": [],
   "source": [
    "#timed_classical\n",
    "classic_start=timed_classical.loc[:,'t_start'].values\n",
    "classic_stop=timed_classical.loc[:,'t_stop'].values\n",
    "classic_dur = timed_classical.loc[:,'Flare_Duration'].values\n",
    "#print(classic_start)"
   ]
  },
  {
   "cell_type": "code",
   "execution_count": 13,
   "metadata": {},
   "outputs": [],
   "source": [
    "#timed_classical"
   ]
  },
  {
   "cell_type": "markdown",
   "metadata": {},
   "source": [
    "Trying out new stacking procedure"
   ]
  },
  {
   "cell_type": "code",
   "execution_count": 15,
   "metadata": {},
   "outputs": [
    {
     "data": {
      "text/plain": [
       "<matplotlib.legend.Legend at 0x191e783910>"
      ]
     },
     "execution_count": 15,
     "metadata": {},
     "output_type": "execute_result"
    },
    {
     "data": {
      "image/png": "[encoded data removed]",
      "text/plain": [
       "<Figure size 1200x500 with 2 Axes>"
      ]
     },
     "metadata": {
      "needs_background": "light"
     },
     "output_type": "display_data"
    }
   ],
   "source": [
    "i=0\n",
    "#Mask of the times (t_start and t_stop) between each flare \n",
    "temp = np.where((df['time'] < timed_classical['t_stop'].values[i]) & \n",
    "                    (df['time'] > timed_classical['t_start'].values[i]))[0]\n",
    "    \n",
    "# cummulative distribution of detrended fluxes within each flare\n",
    "cd_detrended = np.cumsum((detrended[temp])/np.sum(detrended[temp]))\n",
    "\n",
    "#print(cd_detrended)\n",
    "    \n",
    "#print((cd_detrended[i]),(df['time'][i]))\n",
    "\n",
    "# interpolation over the flux of each flare: yvals are percentiles of cummulative flux & x_interp gives corresponding times\n",
    "# note that we are looking at times and fluxes in cummulative space\n",
    "    \n",
    "yvals = np.array([0.25,0.5,0.75])\n",
    "xinterp = np.interp(yvals, cd_detrended, df['time'][temp])\n",
    "\n",
    "#############. Plotting #################\n",
    "\n",
    "\n",
    "rcParams[\"figure.figsize\"] = [12, 5]\n",
    "fig, (ax1, ax2) = plt.subplots(1, 2)\n",
    "\n",
    "\n",
    "ax1.plot(xinterp,yvals,'o',color='orange', label= 'interp data')\n",
    "\n",
    "ax1.plot(df['time'][temp],cd_detrended,alpha=0.5,color='k')\n",
    "ax2.plot(df['time'][temp],detrended[temp])\n",
    "\n",
    "#start/stop times\n",
    "#ax1.axvline(x=timed_classical['t_start'].values[i], color='g', linestyle='-')\n",
    "#ax1.axvline(x=timed_classical['t_stop'].values[i], color='g', linestyle='-')\n",
    "\n",
    "#ax2.axvline(x=timed_classical['t_start'].values[i], color='g', linestyle='-')\n",
    "#ax2.axvline(x=timed_classical['t_stop'].values[i], color='g', linestyle='-')\n",
    "\n",
    "#ax2.scatter(xinterp[2],yvals[2],color='orange')\n",
    "\n",
    "#Setting Titles\n",
    "\n",
    "ax1.set_title('Cumulative Distribution')\n",
    "ax2.set_title('Flare')\n",
    "\n",
    "#Axes\n",
    "ax1.set_ylabel(\"Flux\")\n",
    "ax1.set_xlabel(\"Time\")\n",
    "ax2.set_xlabel(\"Time\")\n",
    "\n",
    "#Legend\n",
    "ax1.legend(loc='lower right')"
   ]
  },
  {
   "cell_type": "code",
   "execution_count": 16,
   "metadata": {},
   "outputs": [
    {
     "name": "stdout",
     "output_type": "stream",
     "text": [
      "[539.65080103 539.65348481 539.6574552 ]\n",
      "[0.25 0.5  0.75]\n",
      "539.6466675\n",
      "539.6711426\n"
     ]
    }
   ],
   "source": [
    "print(xinterp)\n",
    "print(yvals)\n",
    "print(timed_classical['t_start'].values[i])\n",
    "print(timed_classical['t_stop'].values[i])"
   ]
  },
  {
   "cell_type": "markdown",
   "metadata": {},
   "source": [
    "Translating cumulative distribution back to corresponding interpolated flare to get a flux value\n",
    "This cell is missing something -- still not getting back the flux values from the light curve, need to check interp"
   ]
  },
  {
   "cell_type": "code",
   "execution_count": 17,
   "metadata": {},
   "outputs": [
    {
     "data": {
      "text/plain": [
       "Text(0, 0.5, 'Flux')"
      ]
     },
     "execution_count": 17,
     "metadata": {},
     "output_type": "execute_result"
    },
    {
     "data": {
      "image/png": "[encoded data removed]",
      "text/plain": [
       "<Figure size 600x400 with 1 Axes>"
      ]
     },
     "metadata": {
      "needs_background": "light"
     },
     "output_type": "display_data"
    }
   ],
   "source": [
    "i=0\n",
    "#Mask of the times (t_start and t_stop) between each flare \n",
    "temp = np.where((df['time'] < timed_classical['t_stop'].values[i]) & \n",
    "                    (df['time'] > timed_classical['t_start'].values[i]))[0]\n",
    "    \n",
    "# cummulative distribution of detrended fluxes within each flare\n",
    "cd_detrended = np.cumsum((detrended[temp])/np.sum(detrended[temp]))\n",
    "\n",
    "#print(cd_detrended)\n",
    "    \n",
    "#print((cd_detrended[i]),(df['time'][i]))\n",
    "\n",
    "# interpolation over the flux of each flare: yvals are percentiles of cummulative flux & x_interp gives corresponding times\n",
    "# note that we are looking at times and fluxes in cummulative space\n",
    "    \n",
    "yvals = np.array([0.25,0.5,0.75])\n",
    "xinterp = np.interp(yvals, cd_detrended, df['time'][temp])\n",
    "\n",
    "#un_flare = df['time'][temp].values\n",
    "\n",
    "new_y_interp_vals = np.interp(xinterp,df['time'][temp],cd_detrended)\n",
    "\n",
    "#############. Plotting #################\n",
    "plt.figure(figsize=[6,4])\n",
    "plt.plot(xinterp,new_y_interp_vals,color='blue', label = 'flare')\n",
    "\n",
    "plt.plot(xinterp,yvals,'o',color='orange', label= 'interp data')\n",
    "\n",
    "plt.plot(df['time'][temp],cd_detrended,alpha=0.5,color='k')\n",
    "#plt.plot(df['time'][temp],detrended[temp])\n",
    "\n",
    "\n",
    "plt.xlabel('Time')\n",
    "plt.ylabel('Flux')"
   ]
  },
  {
   "cell_type": "code",
   "execution_count": 18,
   "metadata": {},
   "outputs": [
    {
     "name": "stdout",
     "output_type": "stream",
     "text": [
      "[0.25 0.5  0.75]\n",
      "[539.65080103 539.65348481 539.6574552 ]\n",
      "[539.64673045 539.64741158 539.6480928  539.64877392 539.64945504\n",
      " 539.65013617 539.65081729 539.65149841 539.65217963 539.65286075\n",
      " 539.65354188 539.6542231  539.65490422 539.65558524 539.65626647\n",
      " 539.65694759 539.65762871 539.65830993 539.65899105 539.65967218\n",
      " 539.6603534  539.66103442 539.66171554 539.66239677 539.66307789\n",
      " 539.66375901 539.66444023 539.66512135 539.66580248 539.6664837\n",
      " 539.66716472 539.66784584 539.66852707 539.66920819 539.66988931\n",
      " 539.67057053]\n",
      "-0.000635575516936937\n"
     ]
    }
   ],
   "source": [
    "print(new_y_interp_vals)\n",
    "print(xinterp)\n",
    "print(df['time'][temp].values)\n",
    "print(detrended[temp][0])"
   ]
  },
  {
   "cell_type": "code",
   "execution_count": null,
   "metadata": {},
   "outputs": [],
   "source": []
  },
  {
   "cell_type": "markdown",
   "metadata": {},
   "source": [
    "## Putting everything into a loop to stack all flares"
   ]
  },
  {
   "cell_type": "markdown",
   "metadata": {},
   "source": [
    "Variables being calculated for the flare model: center time, scale height, scale duration"
   ]
  },
  {
   "cell_type": "code",
   "execution_count": 28,
   "metadata": {},
   "outputs": [
    {
     "data": {
      "image/png": "[encoded data removed]",
      "text/plain": [
       "<Figure size 1200x500 with 1 Axes>"
      ]
     },
     "metadata": {
      "needs_background": "light"
     },
     "output_type": "display_data"
    }
   ],
   "source": [
    "t_50 = np.array([])          # time at 50% cummulative flux of each flare\n",
    "scale_height = np.array([])  # mean flux of the entire flare \n",
    "scale_dur = np.array([])     # (t_75 - t_25)\n",
    "\n",
    "\n",
    "for i in range(0,2):#len(timed_classical)):\n",
    "\n",
    "    #Mask of the times (t_start and t_stop) between each flare \n",
    "    temp = np.where((df['time'] < timed_classical['t_stop'].values[i]) & \n",
    "                    (df['time'] > timed_classical['t_start'].values[i]))[0]\n",
    "    \n",
    "    # cummulative distribution of detrended fluxes within each flare\n",
    "    cd_detrended = np.cumsum((detrended[temp])/np.sum(detrended[temp]))\n",
    "    \n",
    "\n",
    "    # interpolation over the flux of each flare: yvals are percentiles of cummulative flux & x_interp gives corresponding times\n",
    "    # note that we are looking at times and fluxes in cummulative space\n",
    "    \n",
    "    yvals = np.array([0.25,0.5,0.75])\n",
    "    xinterp = np.interp(yvals, cd_detrended, df['time'][temp])\n",
    "\n",
    "    # t_50\n",
    "    cd_i_max = np.argmax(detrended[temp])\n",
    "    t_max = (df['time'].values[temp][cd_i_max])\n",
    "    cd_flux_max = (detrended[temp][cd_i_max])\n",
    "    \n",
    "    \n",
    "    #double check this part\n",
    "\n",
    "    t_50_flux = cd_flux_max / 2.0\n",
    "    \n",
    "    t_50 = np.append(t_50,t_50_flux)\n",
    "    \n",
    "    #i_xs = np.where((xinterp[temp] > t_50_flux[i]))[0]\n",
    "    #time_xs = yvals[temp][i_xs]\n",
    "    \n",
    "    # defining the scale height\n",
    "    cd_mean = np.mean(detrended[temp])\n",
    "    scale_height = np.append(scale_height,cd_mean)\n",
    "    \n",
    "    \n",
    "    # scale duration\n",
    "    #t_75 = time_xs #need to specify time at 75%\n",
    "    #diff_dur = t_50 - t_75\n",
    "    #scale_dur = np.append(scale_dur,diff_dur)\n",
    "    \n",
    "    \n",
    "    ######## PLOTTING ################\n",
    "    \n",
    "    plt.plot(xinterp,yvals,'x',color='orange')\n",
    "    #plt.scatter(df['time'][i],cd_detrended[i])\n",
    "    plt.plot(df['time'][temp],cd_detrended)\n",
    "    plt.xlabel(\"Time\")\n",
    "    plt.ylabel(\"Flux\")\n"
   ]
  },
  {
   "cell_type": "code",
   "execution_count": 30,
   "metadata": {},
   "outputs": [
    {
     "name": "stdout",
     "output_type": "stream",
     "text": [
      "[0.00396543 0.00476001]\n",
      "[0.00118262 0.00113051]\n",
      "0.0011305058337203718\n"
     ]
    }
   ],
   "source": [
    "print(t_50)\n",
    "print(scale_height)\n",
    "print(cd_mean)\n",
    "#print(time_xs)"
   ]
  },
  {
   "cell_type": "code",
   "execution_count": 31,
   "metadata": {},
   "outputs": [
    {
     "name": "stdout",
     "output_type": "stream",
     "text": [
      "2\n",
      "0\n",
      "2\n"
     ]
    }
   ],
   "source": [
    "print(len(t_50))\n",
    "#print(cd_flux_max)\n",
    "print(len(scale_dur))\n",
    "print(len(scale_height))"
   ]
  },
  {
   "cell_type": "code",
   "execution_count": null,
   "metadata": {},
   "outputs": [],
   "source": [
    "#To plot the stacked flares\n",
    "#x_stack = (df['time'] - t_50[i] / scale_dur)\n",
    "#y_stack = (detrended/t_50[i])"
   ]
  },
  {
   "cell_type": "markdown",
   "metadata": {},
   "source": [
    "Plotting the stacked flares that use a new stacking technique"
   ]
  },
  {
   "cell_type": "code",
   "execution_count": null,
   "metadata": {},
   "outputs": [],
   "source": [
    "#############. Plotting #################\n",
    "\n",
    "\n",
    "rcParams[\"figure.figsize\"] = [12, 5]\n",
    "fig, (ax1, ax2) = plt.subplots(1, 2)\n",
    "\n",
    "\n",
    "ax1.plot(xinterp,yvals,'o',color='orange', label= 'interp data')\n",
    "\n",
    "ax1.plot(df['time'][temp],cd_detrended,alpha=0.5,color='k')\n",
    "ax2.plot(df['time'][temp],detrended[temp])\n",
    "\n",
    "#start/stop times\n",
    "#ax1.axvline(x=timed_classical['t_start'].values[i], color='g', linestyle='-')\n",
    "#ax1.axvline(x=timed_classical['t_stop'].values[i], color='g', linestyle='-')\n",
    "\n",
    "#ax2.axvline(x=timed_classical['t_start'].values[i], color='g', linestyle='-')\n",
    "#ax2.axvline(x=timed_classical['t_stop'].values[i], color='g', linestyle='-')\n",
    "\n",
    "#ax2.scatter(xinterp[2],yvals[2],color='orange')\n",
    "\n",
    "#Setting Titles\n",
    "\n",
    "ax1.set_title('Cumulative Distribution')\n",
    "ax2.set_title('Flare')\n",
    "\n",
    "#Axes\n",
    "ax1.set_ylabel(\"Flux\")\n",
    "ax1.set_xlabel(\"Time\")\n",
    "ax2.set_xlabel(\"Time\")\n",
    "\n",
    "#Legend\n",
    "ax1.legend(loc='lower right')"
   ]
  },
  {
   "cell_type": "code",
   "execution_count": null,
   "metadata": {},
   "outputs": [],
   "source": [
    "for i in range(0,len(timed_classical)):\n",
    "    # the x array should be the times between each of the flares (i.e time between classic_start[i],classic_stop[i])\n",
    "    # the y array should be the cummulative flux w/in each flare / total sum of flux w/in each flare\n",
    "        \n",
    "        \n",
    "        #############. Plotting #################\n",
    "        x_ns = \n",
    "        y_ns = \n",
    "        #plt.scatter(x_ns,y_ns,color='b',alpha=0.1)\n",
    "\n",
    "        rcParams[\"figure.figsize\"] = [12, 5]\n",
    "        fig, (ax1, ax2) = plt.subplots(1, 2)\n",
    "\n",
    "\n",
    "        ax1.plot(xinterp,yvals,'o',color='orange', label= 'interp data')\n",
    "\n",
    "        #ax1.plot(df['time'][temp],cd_detrended,alpha=0.5,color='k')\n",
    "        #ax2.plot(df['time'][temp],detrended[temp])\n",
    "\n",
    "        #start/stop times\n",
    "        #ax1.axvline(x=timed_classical['t_start'].values[i], color='g', linestyle='-')\n",
    "        #ax1.axvline(x=timed_classical['t_stop'].values[i], color='g', linestyle='-')\n",
    "\n",
    "        #ax2.axvline(x=timed_classical['t_start'].values[i], color='g', linestyle='-')\n",
    "        #ax2.axvline(x=timed_classical['t_stop'].values[i], color='g', linestyle='-')\n",
    "\n",
    "        #ax2.scatter(xinterp[2],yvals[2],color='orange')\n",
    "\n",
    "        #Setting Titles\n",
    "\n",
    "        ax1.set_title('Cumulative Distribution')\n",
    "        ax2.set_title('Flare')\n",
    "\n",
    "        #Axes\n",
    "        ax1.set_ylabel(\"Flux\")\n",
    "        ax1.set_xlabel(\"Time\")\n",
    "        ax2.set_xlabel(\"Time\")\n",
    "\n",
    "        #Legend\n",
    "        ax1.legend(loc='lower right')\n",
    "        \n",
    "        \n",
    "\n",
    "\n",
    "\n",
    "        #plt.xlabel('Time')\n",
    "        #plt.ylabel('Relative Flux')\n",
    "        #plt.ylim(-1,10)\n",
    "        #plt.xlim(-3000,4000)\n",
    "        #plt.ylim(-0.4,1.5)\n"
   ]
  },
  {
   "cell_type": "code",
   "execution_count": null,
   "metadata": {},
   "outputs": [],
   "source": []
  },
  {
   "cell_type": "code",
   "execution_count": null,
   "metadata": {},
   "outputs": [],
   "source": []
  },
  {
   "cell_type": "code",
   "execution_count": null,
   "metadata": {},
   "outputs": [],
   "source": []
  },
  {
   "cell_type": "code",
   "execution_count": null,
   "metadata": {},
   "outputs": [],
   "source": []
  },
  {
   "cell_type": "code",
   "execution_count": null,
   "metadata": {},
   "outputs": [],
   "source": []
  },
  {
   "cell_type": "code",
   "execution_count": null,
   "metadata": {},
   "outputs": [],
   "source": []
  },
  {
   "cell_type": "code",
   "execution_count": null,
   "metadata": {},
   "outputs": [],
   "source": []
  },
  {
   "cell_type": "markdown",
   "metadata": {},
   "source": [
    "### Interpolating over full light curve "
   ]
  },
  {
   "cell_type": "code",
   "execution_count": null,
   "metadata": {},
   "outputs": [],
   "source": [
    "#interpolating the full light curve\n",
    "plt.scatter(df['time'],detrended)\n",
    "\n",
    "plt.xlabel(\"Time\")\n",
    "plt.ylabel(\"Flux\")\n",
    "\n",
    "padding_factor = 10\n",
    "steps = padding_factor*len(detrended)\n",
    "\n",
    "xvals_lc = np.linspace(539.460, 1273.07, steps)\n",
    "yinterp_lc = np.interp(xvals_lc, df['time'], detrended)\n",
    "plt.plot(xvals_lc,yinterp_lc,'-x',color='orange',alpha=0.5)"
   ]
  },
  {
   "cell_type": "markdown",
   "metadata": {},
   "source": [
    "Interpolating over cummulative distribution"
   ]
  },
  {
   "cell_type": "code",
   "execution_count": null,
   "metadata": {},
   "outputs": [],
   "source": [
    "\n",
    "#padding_factor = 10\n",
    "#steps = padding_factor*len(detrended)\n",
    "cd_detrended = np.cumsum(detrended)\n",
    "\n",
    "xvals_cd = np.linspace(539.460, 1273.07, steps)\n",
    "yinterp_cd = np.interp(xvals_cd, df['time'], cd_detrended)\n",
    "plt.plot(xvals_cd,yinterp_cd,'-x',color='orange',alpha=0.1)\n",
    "\n",
    "plt.scatter(df['time'],cd_detrended)\n",
    "\n",
    "plt.xlabel(\"Time\")\n",
    "plt.ylabel(\"Flux\")\n"
   ]
  },
  {
   "cell_type": "code",
   "execution_count": null,
   "metadata": {},
   "outputs": [],
   "source": [
    "#timed_classical\n",
    "classic_start=timed_classical.loc[:,'t_start'].values\n",
    "classic_stop=timed_classical.loc[:,'t_stop'].values\n",
    "classic_dur = timed_classical.loc[:,'Flare_Duration'].values\n",
    "#print(classic_start)"
   ]
  },
  {
   "cell_type": "code",
   "execution_count": null,
   "metadata": {},
   "outputs": [],
   "source": [
    "print(len(detrended))\n",
    "print(len(np.cumsum(detrended)))"
   ]
  },
  {
   "cell_type": "code",
   "execution_count": null,
   "metadata": {},
   "outputs": [],
   "source": [
    "print(np.percentile(cd_detrended,50))\n",
    "print(np.percentile(detrended,50))"
   ]
  },
  {
   "cell_type": "markdown",
   "metadata": {},
   "source": [
    "#### Finding the flux and time values where local maxes occur w/in interpolated data (i.e where the flares happen)"
   ]
  },
  {
   "cell_type": "code",
   "execution_count": null,
   "metadata": {},
   "outputs": [],
   "source": [
    "''''\n",
    "time_max = np.array([])\n",
    "peaks = np.array([])\n",
    "t_halfs = np.array([])\n",
    "for i in range(0,len(timed_classical)):\n",
    "    #for interpolated data\n",
    "    temp1 = np.where((xvals < timed_classical['t_stop'].values[i]) & \n",
    "                    (xvals > timed_classical['t_start'].values[i]))[0]\n",
    "    \n",
    "    #for normal data\n",
    "    temp2 = np.where((df['time'] < timed_classical['t_stop'].values[i]) & \n",
    "                    (df['time'] > timed_classical['t_start'].values[i]))[0]\n",
    "    \n",
    "    i_max = np.argmax(detrended[temp2])\n",
    "    t_max = (df['time'].values[temp2][i_max])\n",
    "    flux_max = (detrended[temp2][i_max])\n",
    "    time_max = np.append(time_max,t_max)\n",
    "    peaks = np.append(peaks,flux_max)\n",
    "    half_peaks = peaks/2.0\n",
    "    i_xs = np.where((yinterp[temp1] > half_peaks[i]))[0]\n",
    "    time_xs = xvals[temp1][i_xs]\n",
    "    t_half = max(time_xs) - min(time_xs)\n",
    "    t_halfs = np.append(t_halfs,t_half)\n",
    "    flux_fwhm = np.where(yinterp > half_peaks[i])[0]  #fluzes above the fwhm \n",
    "    \n",
    "#####################################################################################    \n",
    "    #plotting and saving 902 flares \n",
    "#####################################################################################    \n",
    "    \n",
    "    #plt.figure(figsize=[12,6])\n",
    "    \n",
    "    #plt.scatter(time_max[i],peaks[i],color='blue',label='peak',s=50)\n",
    "    #plt.plot(xvals,yinterp,color='black',alpha=0.8,label='interp_data')\n",
    "    ##plt.plot(np.where(xvals,np.where((yinterp > half_peaks[i]))[0],color='black',alpha=0.8,label='interp_data')\n",
    "    #plt.scatter(xvals[flux_fwhm],yinterp[flux_fwhm], color='red', s=20,label='flux>fwhm',alpha=0.5)\n",
    "\n",
    "    ##plt.axhline(y=half_peaks[i], color='green', linestyle='-',label='t_half',alpha=0.7)\n",
    "    #plt.axvline(x=classic_start[i], color='green', linestyle='-',alpha=0.7)\n",
    "    #plt.axvline(x=classic_stop[i], color='green', linestyle='-',alpha=0.7)\n",
    "    \n",
    "\n",
    "    #plt.ylim(-.002,timed_classical['flux peak'].values[i]+.005)\n",
    "    ##plt.xlim(timed_classical['t_start'].values[i]-.1,timed_classical['t_stop'].values[i]+.1)\n",
    "    #plt.xlim(timed_classical['t_start'].values[i]-.005*classic_dur[i],timed_classical['t_stop'].values[i]+.005*classic_dur[i])\n",
    "    #plt.legend(bbox_to_anchor=(1.01, 1), loc='upper left', borderaxespad=0.)\n",
    "    #plt.title('Flare:'+ str(i))\n",
    "    #plt.xlabel('Time')\n",
    "    #plt.ylabel('Flux')\n",
    "    #plt.savefig('/Users/lupitatovar/flares/notebooks/flare_diagnostics/'+'flare'+str(i)+'.png',bbox_inches='tight')\n",
    "    #plt.close()"
   ]
  },
  {
   "cell_type": "code",
   "execution_count": null,
   "metadata": {},
   "outputs": [],
   "source": [
    "#for i in range(0,len(m1_flares_dur_limit)):\n",
    "    #plt.figure()\n",
    "\n",
    "    #plt.axhline(y=half_peaks[i], color='green', linestyle='-',label='t_half')\n",
    "    #plt.scatter(time_max[i],peaks[i],color='blue',label='peak',s=30)\n",
    "    #plt.plot(month1_xvals,month1_yinterp,color='black',alpha=0.8,label='interp_data')\n",
    "    #plt.scatter(oneflare_x,detrended_unmes,color='red',alpha=0.5,s=10,label='raw data')\n",
    "    #plt.xlim(m1_flares_dur_limit['t_start'].values[i],m1_flares_dur_limit['t_stop'].values[i])\n",
    "    #plt.ylim(-.002,m1_flares_dur_limit['flux peak'].values[i]+.005)\n",
    "    #plt.legend()\n",
    "    #plt.xlabel('Time')\n",
    "    #plt.ylabel('Flux')\n",
    "    \n",
    "    #plt.show()"
   ]
  },
  {
   "cell_type": "code",
   "execution_count": null,
   "metadata": {},
   "outputs": [],
   "source": [
    "print(max(detrended))\n",
    "print(np.max(detrended))\n",
    "print(xvals)"
   ]
  },
  {
   "cell_type": "markdown",
   "metadata": {},
   "source": [
    "Trying new stacking technique - the goal is to make the model less sensitive to sampling\n",
    "\n",
    "We are trying out new ways to avoid having an infinite peak such as using the cummulative distribution of the detrended flux which would give a more robust peak time "
   ]
  },
  {
   "cell_type": "markdown",
   "metadata": {},
   "source": [
    "### Plotting the Stacked Flares"
   ]
  },
  {
   "cell_type": "code",
   "execution_count": null,
   "metadata": {},
   "outputs": [],
   "source": [
    "for i in range(0,len(timed_classical)):\n",
    "        cd_x = (df['time'] - cd_time_max[i])/(cd_t_halfs[i])\n",
    "        cd_y = ((cd_detrended)/(cd_peaks[i]))\n",
    "        plt.plot(cd_x,cd_y,color='b',alpha=0.01)\n",
    "\n",
    "\n",
    "        plt.xlabel('Time')\n",
    "        plt.ylabel('Relative Flux')\n",
    "        plt.ylim(-1,10)\n",
    "        plt.xlim(-3000,4000)\n",
    "        #plt.ylim(-0.4,1.5)\n"
   ]
  },
  {
   "cell_type": "markdown",
   "metadata": {},
   "source": [
    "### Flare Diagnostics on 902 classical flares"
   ]
  },
  {
   "cell_type": "code",
   "execution_count": null,
   "metadata": {},
   "outputs": [],
   "source": [
    "# have the padding be +/- duration = timed_clasical[t_start]-t_stop\n",
    "#len(timed_classical)\n",
    "\n",
    "for i in range(0,2):\n",
    "    plt.figure(figsize=[12,6])\n",
    "    flux_fwhm = np.where(yinterp_cd > cd_half_peaks[i])[0] \n",
    "    \n",
    "    plt.scatter(cd_time_max[i],cd_peaks[i],color='blue',label='peak',s=50)\n",
    "    plt.plot(xvals,yinterp_cd,color='black',alpha=0.8,label='interp data')\n",
    "    #plt.plot(np.where(xvals,np.where((yinterp > half_peaks[i]))[0],color='black',alpha=0.8,label='interp_data')\n",
    "    plt.scatter(xvals[cd_flux_fwhm],yinterp_cd[cd_flux_fwhm], color='red', s=20,label='flux>fwhm',alpha=0.5)\n",
    "\n",
    "    #plt.axhline(y=half_peaks[i], color='green', linestyle='-',label='t_half',alpha=0.7)\n",
    "    plt.axvline(x=classic_start[i], color='green', linestyle='-',alpha=0.7)\n",
    "    plt.axvline(x=classic_stop[i], color='green', linestyle='-',alpha=0.7)\n",
    "    \n",
    "\n",
    "    plt.ylim(-.002,timed_classical['flux peak'].values[i]+.005)\n",
    "    #plt.xlim(timed_classical['t_start'].values[i]-.1,timed_classical['t_stop'].values[i]+.1)\n",
    "    plt.xlim(timed_classical['t_start'].values[i]-.005*classic_dur[i],timed_classical['t_stop'].values[i]+.005*classic_dur[i])\n",
    "    plt.legend(bbox_to_anchor=(1.01, 1), loc='upper left', borderaxespad=0.)\n",
    "    plt.title('Flare:'+ str(i))\n",
    "    plt.xlabel('Time')\n",
    "    plt.ylabel('Flux')\n",
    "    #plt.savefig('/Users/lupitatovar/flares/notebooks/flare_diagnostics/'+'flare'+str(i)+'.png',bbox_inches='tight')\n",
    "    #plt.close()\n"
   ]
  },
  {
   "cell_type": "code",
   "execution_count": null,
   "metadata": {},
   "outputs": [],
   "source": [
    "#notebook kept dying so had to split up the flares into two batches\n",
    "''''\n",
    "for i in range(533,len(timed_classical)):\n",
    "    plt.figure(figsize=[12,6])\n",
    "    flux_fwhm = np.where(yinterp > half_peaks[i])[0] \n",
    "    \n",
    "    plt.scatter(time_max[i],peaks[i],color='blue',label='peak',s=50)\n",
    "    plt.plot(xvals,yinterp,color='black',alpha=0.8,label='interp_data')\n",
    "    #plt.plot(np.where(xvals,np.where((yinterp > half_peaks[i]))[0],color='black',alpha=0.8,label='interp_data')\n",
    "    plt.scatter(xvals[flux_fwhm],yinterp[flux_fwhm], color='red', s=20,label='flux>fwhm',alpha=0.5)\n",
    "\n",
    "    #plt.axhline(y=half_peaks[i], color='green', linestyle='-',label='t_half',alpha=0.7)\n",
    "    plt.axvline(x=classic_start[i], color='green', linestyle='-',alpha=0.7)\n",
    "    plt.axvline(x=classic_stop[i], color='green', linestyle='-',alpha=0.7)\n",
    "    \n",
    "\n",
    "    plt.ylim(-.002,timed_classical['flux peak'].values[i]+.005)\n",
    "    #plt.xlim(timed_classical['t_start'].values[i]-.1,timed_classical['t_stop'].values[i]+.1)\n",
    "    plt.xlim(timed_classical['t_start'].values[i]-.005*classic_dur[i],timed_classical['t_stop'].values[i]+.005*classic_dur[i])\n",
    "    plt.legend(bbox_to_anchor=(1.01, 1), loc='upper left', borderaxespad=0.)\n",
    "    plt.title('Flare:'+ str(i))\n",
    "    plt.xlabel('Time')\n",
    "    plt.ylabel('Flux')\n",
    "    plt.savefig('/Users/lupitatovar/flares/notebooks/flare_diagnostics/'+'flare'+str(i)+'.png',bbox_inches='tight')\n",
    "    plt.close()\n",
    "    \n",
    "''''"
   ]
  },
  {
   "cell_type": "markdown",
   "metadata": {},
   "source": [
    "### Cleaning up the Flare Sample\n",
    "Flares to use below"
   ]
  },
  {
   "cell_type": "code",
   "execution_count": null,
   "metadata": {},
   "outputs": [],
   "source": [
    "new_flares=pd.read_csv('/Users/lupitatovar/flares/notebooks/flare_diagnostics/flare_diagnostics.csv',\n",
    "            delim_whitespace=True,names=[\"Flare_Number\",\"Type\",\"Notes\"])"
   ]
  },
  {
   "cell_type": "code",
   "execution_count": null,
   "metadata": {},
   "outputs": [],
   "source": [
    "flag = pd.to_numeric(new_flares[\"Type\"].values, errors='coerce') #nan = classical , 2= adjust start/stop , 3= remove"
   ]
  },
  {
   "cell_type": "code",
   "execution_count": null,
   "metadata": {},
   "outputs": [],
   "source": [
    "# Separating the new set of flares and printing new ammounts of flares\n",
    "\n",
    "still_classical = len(np.where(np.isnan(flag))[0])\n",
    "print (\"The number of remaining classical flares : \" + str(still_classical)) \n",
    "\n",
    "toss = len([i for i in flag if i == 3.]) \n",
    "print (\"The number flares tossed out : \" + str(toss)) \n",
    "\n",
    "edit = len([i for i in flag if i == 2.]) \n",
    "print (\"The number of flares who need edited times : \" + str(edit)) \n",
    "\n",
    "\n",
    "# Creating the data tables of newly classified flares (use these to make stacked flares plot)\n",
    "edit_times = new_flares[new_flares[\"Type\"].values == '2']\n",
    "toss_flares = new_flares[new_flares[\"Type\"].values == '3']\n",
    "still_classic_flares = new_flares[pd.isnull(new_flares[\"Type\"].values)]\n",
    "\n",
    "#includes falres that need start/stop times edited\n",
    "keep_flares = edit_times.combine_first(still_classic_flares)"
   ]
  },
  {
   "cell_type": "code",
   "execution_count": null,
   "metadata": {},
   "outputs": [],
   "source": [
    "#adding index column to Jim's original timed_calssical flares list\n",
    "timed_classical['Index'] = np.arange(len(timed_classical))\n",
    "#timed_classical"
   ]
  },
  {
   "cell_type": "code",
   "execution_count": null,
   "metadata": {},
   "outputs": [],
   "source": [
    "#cross matching the two lists to get new table that has all the flare info!\n",
    "\n",
    "cross_match = pd.merge(left=timed_classical, right=keep_flares, left_on='Index', right_on='Flare_Number')\n",
    "cross_match.shape\n",
    "#cross_match\n"
   ]
  },
  {
   "cell_type": "code",
   "execution_count": null,
   "metadata": {},
   "outputs": [],
   "source": [
    "new_time_max = np.array([])\n",
    "new_peaks = np.array([])\n",
    "new_t_halfs = np.array([])\n",
    "for i in range(0,len(cross_match)):\n",
    "    #for interpolated data\n",
    "    temp1 = np.where((xvals < cross_match['t_stop'].values[i]) & \n",
    "                    (xvals > cross_match['t_start'].values[i]))[0]\n",
    "    \n",
    "    #for normal data\n",
    "    temp2 = np.where((df['time'] < cross_match['t_stop'].values[i]) & \n",
    "                    (df['time'] > cross_match['t_start'].values[i]))[0]\n",
    "    \n",
    "    \n",
    "    i_max = np.argmax(detrended[temp2])\n",
    "    t_max = (df['time'].values[temp2][i_max])\n",
    "    flux_max = (detrended[temp2][i_max])\n",
    "    new_time_max = np.append(new_time_max,t_max)\n",
    "    new_peaks = np.append(new_peaks,flux_max)\n",
    "    nhalf_peaks = new_peaks/2.0\n",
    "    i_xs = np.where((yinterp[temp1] > nhalf_peaks[i]))[0]\n",
    "    time_xs = xvals[temp1][i_xs]\n",
    "    t_half = max(time_xs) - min(time_xs)\n",
    "    new_t_halfs = np.append(new_t_halfs,t_half)\n",
    "    flux_fwhm = np.where(yinterp > nhalf_peaks[i])[0]  #fluxes above the fwhm "
   ]
  },
  {
   "cell_type": "code",
   "execution_count": null,
   "metadata": {},
   "outputs": [],
   "source": [
    "print(len(new_peaks))"
   ]
  },
  {
   "cell_type": "markdown",
   "metadata": {},
   "source": [
    "## Stacked flares with newly vetted flare list"
   ]
  },
  {
   "cell_type": "code",
   "execution_count": null,
   "metadata": {},
   "outputs": [],
   "source": [
    "#New stack of flares\n",
    "\n",
    "for i in range(0,len(cross_match)):\n",
    "        x_new = (df['time'] - new_time_max[i])/(new_t_halfs[i])\n",
    "        y_new = ((detrended)/(new_peaks[i]))\n",
    "        plt.plot(x_new,y_new,color='b',alpha=0.01)\n",
    "\n",
    "\n",
    "        plt.xlabel('Time')\n",
    "        plt.ylabel('Relative Flux')\n",
    "        plt.ylim(-0.4,1.05)\n",
    "        plt.xlim(-5,15)"
   ]
  },
  {
   "cell_type": "code",
   "execution_count": null,
   "metadata": {},
   "outputs": [],
   "source": [
    "print(len(timed_classical))\n",
    "print(len(cross_match))"
   ]
  },
  {
   "cell_type": "code",
   "execution_count": null,
   "metadata": {},
   "outputs": [],
   "source": [
    "toss = pd.merge(left=timed_classical, right=toss_flares, left_on='Index', right_on='Flare_Number')\n",
    "toss.shape\n",
    "#toss\n"
   ]
  },
  {
   "cell_type": "code",
   "execution_count": null,
   "metadata": {},
   "outputs": [],
   "source": [
    "#plt.plot(df['time'].values,detrended)\n",
    "df['std'].values"
   ]
  },
  {
   "cell_type": "markdown",
   "metadata": {},
   "source": [
    "### Comparison of DR25 and DR23"
   ]
  },
  {
   "cell_type": "code",
   "execution_count": null,
   "metadata": {},
   "outputs": [],
   "source": [
    "#time,flux,err,detrended_flux\n",
    "dr23 = pd.read_csv('https://raw.githubusercontent.com/jradavenport/GJ1243-Flares/1732d4130daf663532596749d566d8f78be8f7b2/data/gj1243_master_slc.dat'\n",
    "                  ,skiprows=1,delim_whitespace=True,names=['time','flux','error','detrended_flux'])\n",
    "\n",
    "#dr23\n",
    "\n"
   ]
  },
  {
   "cell_type": "code",
   "execution_count": null,
   "metadata": {},
   "outputs": [],
   "source": [
    "plt.plot(dr23['time'].values,dr23['detrended_flux'].values)\n",
    "plt.plot(gj1243lc.time,gj1243lc.flux)"
   ]
  },
  {
   "cell_type": "markdown",
   "metadata": {},
   "source": [
    "### Overplotting Jim's flare model onto this w/ amp=1,t_half=1,peak=0\n",
    "https://github.com/jradavenport/appaloosa/blob/master/appaloosa/aflare.py"
   ]
  },
  {
   "cell_type": "code",
   "execution_count": null,
   "metadata": {},
   "outputs": [],
   "source": [
    "from scipy.stats import binned_statistic\n",
    "\n",
    "def aflare1(t, tpeak, fwhm, ampl, upsample=False, uptime=10):\n",
    "    '''\n",
    "    The Analytic Flare Model evaluated for a single-peak (classical).\n",
    "    Reference Davenport et al. (2014) http://arxiv.org/abs/1411.3723\n",
    "    Use this function for fitting classical flares with most curve_fit\n",
    "    tools.\n",
    "    Note: this model assumes the flux before the flare is zero centered\n",
    "    Parameters\n",
    "    ----------\n",
    "    t : 1-d array\n",
    "        The time array to evaluate the flare over\n",
    "    tpeak : float\n",
    "        The time of the flare peak\n",
    "    fwhm : float\n",
    "        The \"Full Width at Half Maximum\", timescale of the flare\n",
    "    ampl : float\n",
    "        The amplitude of the flare\n",
    "    upsample : bool\n",
    "        If True up-sample the model flare to ensure more precise energies.\n",
    "    uptime : float\n",
    "        How many times to up-sample the data (Default is 10)\n",
    "    Returns\n",
    "    -------\n",
    "    flare : 1-d array\n",
    "        The flux of the flare model evaluated at each time\n",
    "    '''\n",
    "    _fr = [1.00000, 1.94053, -0.175084, -2.24588, -1.12498]\n",
    "    _fd = [0.689008, -1.60053, 0.302963, -0.278318]\n",
    "\n",
    "    if upsample:\n",
    "        dt = np.nanmedian(np.diff(t))\n",
    "        timeup = np.linspace(min(t)-dt, max(t)+dt, t.size * uptime)\n",
    "\n",
    "        flareup = np.piecewise(timeup, [(timeup<= tpeak) * (timeup-tpeak)/fwhm > -1.,\n",
    "                                        (timeup > tpeak)],\n",
    "                                    [lambda x: (_fr[0]+                       # 0th order\n",
    "                                                _fr[1]*((x-tpeak)/fwhm)+      # 1st order\n",
    "                                                _fr[2]*((x-tpeak)/fwhm)**2.+  # 2nd order\n",
    "                                                _fr[3]*((x-tpeak)/fwhm)**3.+  # 3rd order\n",
    "                                                _fr[4]*((x-tpeak)/fwhm)**4. ),# 4th order\n",
    "                                     lambda x: (_fd[0]*np.exp( ((x-tpeak)/fwhm)*_fd[1] ) +\n",
    "                                                _fd[2]*np.exp( ((x-tpeak)/fwhm)*_fd[3] ))]\n",
    "                                    ) * np.abs(ampl) # amplitude\n",
    "\n",
    "        # and now downsample back to the original time...\n",
    "        ## this way might be better, but makes assumption of uniform time bins\n",
    "        # flare = np.nanmean(flareup.reshape(-1, uptime), axis=1)\n",
    "\n",
    "        ## This way does linear interp. back to any input time grid\n",
    "        # flare = np.interp(t, timeup, flareup)\n",
    "\n",
    "        ## this was uses \"binned statistic\"\n",
    "        downbins = np.concatenate((t-dt/2.,[max(t)+dt/2.]))\n",
    "        flare,_,_ = binned_statistic(timeup, flareup, statistic='mean',\n",
    "                                 bins=downbins)\n",
    "\n",
    "    else:\n",
    "        flare = np.piecewise(t, [(t<= tpeak) * (t-tpeak)/fwhm > -1.,\n",
    "                                 (t > tpeak)],\n",
    "                                [lambda x: (_fr[0]+                       # 0th order\n",
    "                                            _fr[1]*((x-tpeak)/fwhm)+      # 1st order\n",
    "                                            _fr[2]*((x-tpeak)/fwhm)**2.+  # 2nd order\n",
    "                                            _fr[3]*((x-tpeak)/fwhm)**3.+  # 3rd order\n",
    "                                            _fr[4]*((x-tpeak)/fwhm)**4. ),# 4th order\n",
    "                                 lambda x: (_fd[0]*np.exp( ((x-tpeak)/fwhm)*_fd[1] ) +\n",
    "                                            _fd[2]*np.exp( ((x-tpeak)/fwhm)*_fd[3] ))]\n",
    "                                ) * np.abs(ampl) # amplitude\n",
    "\n",
    "    return flare"
   ]
  },
  {
   "cell_type": "code",
   "execution_count": null,
   "metadata": {},
   "outputs": [],
   "source": [
    "plt.plot(x_new,aflare1(x_new.values,0,1,1))\n",
    "#plt.plot(x,jim_model,color='red')\n",
    "plt.xlim(-5,15)"
   ]
  },
  {
   "cell_type": "markdown",
   "metadata": {},
   "source": [
    "The arrays below contain time, flux, flux_err, and standard deviation for each flare within the ranges of [-5,15]"
   ]
  },
  {
   "cell_type": "code",
   "execution_count": null,
   "metadata": {},
   "outputs": [],
   "source": [
    "new_x_all=np.array([])\n",
    "new_y_all=np.array([])\n",
    "new_y_err = np.array([])\n",
    "new_gp_st_dev = np.array([])\n",
    "xmin=-5\n",
    "xmax=15\n",
    "\n",
    "\n",
    "for i in range(0,len(cross_match)):\n",
    "        x_new = (df['time'].values - new_time_max[i])/(new_t_halfs[i])\n",
    "        y_new = ((detrended)/(new_peaks[i]))\n",
    "        plt.plot(x_new,y_new,color='b',alpha=0.01)\n",
    "\n",
    "        plt.xlabel('Time')\n",
    "        plt.ylabel('Relative Flux')\n",
    "        plt.ylim(-0.4,1.05)\n",
    "        plt.xlim(-5,15)\n",
    "        \n",
    "        #Time Arrays\n",
    "        nxs = np.where((x_new <= xmax) & (x_new>=xmin))[0]\n",
    "        new_x_all = np.append(new_x_all,x_new[nxs])\n",
    "        \n",
    "        #Flux Arrays\n",
    "        new_y_all = np.append(new_y_all,y_new[nxs])\n",
    "        \n",
    "        #Flux Errors\n",
    "        new_flux_err = df['df_flux_err'].values/new_peaks[i] \n",
    "        new_y_err = np.append(new_y_err,new_flux_err[nxs])\n",
    "        \n",
    "        #GP Standard Deviation\n",
    "        new_st_dev = df['std'].values/new_peaks[i]\n",
    "        new_gp_st_dev = np.append(new_gp_st_dev,new_st_dev[nxs])\n",
    "                  \n",
    "plt.plot(x_new,aflare1(x_new,0,1,1),color='red',label='Jims Model')        \n",
    "plt.legend(bbox_to_anchor=(1.05, 1), loc='upper left', borderaxespad=0.)"
   ]
  },
  {
   "cell_type": "code",
   "execution_count": null,
   "metadata": {},
   "outputs": [],
   "source": [
    "#saving the arrays to a file\n",
    "#dict_i = {'time':x_all,'flux': y_all, 'flux_err': y_err, 'gp_st_dev': gp_st_dev} \n",
    "#stacked_flares = pd.DataFrame(data=dict_i) \n",
    "#stacked_flares.to_csv(r'stacked_flare_values.csv',header=True,index=True)\n",
    "\n",
    "\n",
    "#dict_n = {'time':new_x_all,'flux': new_y_all, 'flux_err': new_y_err, 'gp_st_dev': new_gp_st_dev} \n",
    "#new_stacked_flares = pd.DataFrame(data=dict_n) \n",
    "#new_stacked_flares.to_csv(r'new_stacked_flare_values.csv',header=True,index=True)"
   ]
  },
  {
   "cell_type": "code",
   "execution_count": null,
   "metadata": {},
   "outputs": [],
   "source": [
    "#new_stacked_flare_vals=pd.read_csv('stacked_flare_values.csv')"
   ]
  },
  {
   "cell_type": "code",
   "execution_count": null,
   "metadata": {},
   "outputs": [],
   "source": [
    "s_all = np.argsort(x_all)\n",
    "jim_model = aflare1(x_all,0,1,1)\n",
    "plt.scatter(x_all,y_all,alpha=.07,s=10,marker='.')\n",
    "plt.ylim(-0.4,1.05)\n",
    "plt.plot(x_all[s_all],jim_model[s_all],color='red')  \n",
    "plt.xlabel('Time')\n",
    "plt.ylabel('Relative Flux')\n",
    "\n",
    "#plt.legend(bbox_to_anchor=(1.05, 1), loc='upper left', borderaxespad=0.)"
   ]
  },
  {
   "cell_type": "code",
   "execution_count": null,
   "metadata": {},
   "outputs": [],
   "source": [
    "ns_all = np.argsort(new_x_all)\n",
    "jim_model = aflare1(new_x_all,0,1,1)\n",
    "\n",
    "from matplotlib import rcParams\n",
    "rcParams[\"savefig.dpi\"] = 100\n",
    "rcParams[\"figure.dpi\"] = 100\n",
    "rcParams[\"font.size\"] = 20\n",
    "rcParams[\"figure.figsize\"] = [8, 5]\n",
    "rcParams[\"font.family\"] = \"sans-serif\"\n",
    "rcParams[\"font.sans-serif\"] = [\"Computer Modern Sans Serif\"]\n",
    "rcParams[\"text.usetex\"] = True\n",
    "\n",
    "\n",
    "plt.scatter(new_x_all,new_y_all,alpha=.15,s=10,marker='.',color='grey')\n",
    "plt.ylim(-0.2,1.05)\n",
    "plt.xlim(-5,15)\n",
    "plt.plot(new_x_all[ns_all],jim_model[ns_all],color='firebrick')  \n",
    "plt.xlabel('Time')\n",
    "plt.ylabel('Relative Flux')\n",
    "#plt.savefig('/Users/lupitatovar/flares/figures/new_stacked_2014fit.png',bbox_inches='tight')"
   ]
  },
  {
   "cell_type": "code",
   "execution_count": null,
   "metadata": {},
   "outputs": [],
   "source": [
    "#plot of the gp uncertainty in our detrended data\n",
    "plt.scatter(new_x_all[ns_all],new_gp_st_dev[ns_all],alpha=.05,s=10,marker='.')\n",
    "plt.ylim(0,.2)"
   ]
  },
  {
   "cell_type": "markdown",
   "metadata": {},
   "source": [
    "Below is the flux error from the gp. We expect it to be a straight line centered at zero, however there is some variance between 0-0.3"
   ]
  },
  {
   "cell_type": "code",
   "execution_count": null,
   "metadata": {},
   "outputs": [],
   "source": [
    "#plot the rolling mean and y_err\n",
    "\n",
    "plt.scatter(new_x_all[ns_all],new_y_err[ns_all],alpha=.05,s=8,marker='.')\n",
    "#plt.ylim(0,1)"
   ]
  },
  {
   "cell_type": "code",
   "execution_count": null,
   "metadata": {},
   "outputs": [],
   "source": [
    "#plotting the variance of the st_dev (which is just the st_dev squared?)\n",
    "plt.scatter(new_x_all,new_gp_st_dev**2,alpha=.05,s=10,marker='.')\n",
    "plt.ylim(0,.2)"
   ]
  },
  {
   "cell_type": "markdown",
   "metadata": {},
   "source": [
    "### Fitting the Model"
   ]
  },
  {
   "cell_type": "markdown",
   "metadata": {},
   "source": [
    "Importing in the new continuous model"
   ]
  },
  {
   "cell_type": "code",
   "execution_count": null,
   "metadata": {},
   "outputs": [],
   "source": [
    "'''\n",
    "Now lets combine the two functions into one continuous analytic flare model\n",
    "\n",
    "    Parameters (similar as Davenport 2014 aflare1 model)\n",
    "    ----------\n",
    "    t : 1-d array\n",
    "        The time array to evaluate the flare over\n",
    "    t_0 : float\n",
    "        The time of the flare peak\n",
    "    sig/tau : float\n",
    "        The \"Full Width at Half Maximum\", timescale of the flare\n",
    "    A/amp : float\n",
    "        The amplitude of the flare\n",
    "    Returns\n",
    "    -------\n",
    "    flare : 1-d array\n",
    "        The flux of the flare model evaluated at each time\n",
    "\n",
    "'''\n"
   ]
  }
 ],
 "metadata": {
  "kernelspec": {
   "display_name": "Python3",
   "language": "python",
   "name": "python3"
  },
  "language_info": {
   "codemirror_mode": {
    "name": "ipython",
    "version": 3
   },
   "file_extension": ".py",
   "mimetype": "text/x-python",
   "name": "python",
   "nbconvert_exporter": "python",
   "pygments_lexer": "ipython3",
   "version": "3.7.9"
  }
 },
 "nbformat": 4,
 "nbformat_minor": 4
}
