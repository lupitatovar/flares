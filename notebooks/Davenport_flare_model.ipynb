{
 "cells": [
  {
   "cell_type": "code",
   "execution_count": 1,
   "metadata": {},
   "outputs": [],
   "source": [
    "%matplotlib inline\n",
    "import numpy as np\n",
    "import matplotlib.pyplot as plt\n",
    "import pandas as pd\n",
    "from scipy import *\n",
    "import astropy\n",
    "from astropy import constants as ac\n",
    "import lightkurve"
   ]
  },
  {
   "cell_type": "code",
   "execution_count": null,
   "metadata": {},
   "outputs": [],
   "source": [
    "def flare_model(t,p):\n",
    "\n",
    "#p = [tpeak, fwhm (units of time), amplitude (units of flux)] x N\n",
    "\n",
    "\n",
    "Nflare = floor(n_elements(p)/3.0)\n",
    "\n",
    "# 4th order polynomial from t=[-1:0]\n",
    "\n",
    "f_rise = [1.000, 1.941, -0.175, -2.245, -1.125]\n",
    "\n",
    "\n",
    "# double exponential from t=[0:*]\n",
    "\n",
    "f_decay = [0.6890, -1.600, 0.3030, -0.2783]\n",
    "\n",
    "flare = fltarr(n_elements(t))\n",
    "\n",
    "for i=0l,Nflare-1 do begin\n",
    "   outm=((fr[0]+$                                             ; 0th order\n",
    "          fr[1]*((t-p[0+i*3])/p[1+i*3])+$                     ; 1st order\n",
    "          fr[2]*((t-p[0+i*3])/p[1+i*3])^2.+$                  ; 2nd order\n",
    "          fr[3]*((t-p[0+i*3])/p[1+i*3])^3.+$                  ; 3rd order\n",
    "          fr[4]*((t-p[0+i*3])/p[1+i*3])^4. )*$                ; 4th order\n",
    "         (t le p[0+i*3] and (t-p[0+i*3])/p[1+i*3] gt -1.) + $ ; rise  mask\n",
    "         ( fd[0]*exp( ((t-p[0+i*3])/p[1+i*3])*fd[1] ) + $     ; first exp\n",
    "           fd[2]*exp( ((t-p[0+i*3])/p[1+i*3])*fd[3] ) ) * $   ; second exp\n",
    "         (t gt p[0+i*3])) * $                                 ; decay  mask\n",
    "        P[2+i*3]                                              ; amplitude\n",
    "   \n",
    "   flare = flare + outm\n",
    "\n",
    "return flare\n"
   ]
  }
 ],
 "metadata": {
  "kernelspec": {
   "display_name": "Python3",
   "language": "python",
   "name": "python3"
  },
  "language_info": {
   "codemirror_mode": {
    "name": "ipython",
    "version": 3
   },
   "file_extension": ".py",
   "mimetype": "text/x-python",
   "name": "python",
   "nbconvert_exporter": "python",
   "pygments_lexer": "ipython3",
   "version": "3.7.3"
  }
 },
 "nbformat": 4,
 "nbformat_minor": 2
}
