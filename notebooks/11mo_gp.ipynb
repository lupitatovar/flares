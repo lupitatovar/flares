{
 "cells": [
  {
   "cell_type": "code",
   "execution_count": null,
   "metadata": {},
   "outputs": [],
   "source": [
    "%matplotlib inline\n",
    "import numpy as np\n",
    "import matplotlib.pyplot as plt\n",
    "import pandas as pd\n",
    "from scipy import *\n",
    "import astropy\n",
    "from astropy import constants as ac\n",
    "from astroquery.mast import Observations\n",
    "import lightkurve\n",
    "import celerite\n",
    "from celerite import terms\n",
    "from scipy.optimize import minimize\n",
    "from astropy.io import fits\n",
    "from astropy.table import Table"
   ]
  },
  {
   "cell_type": "code",
   "execution_count": null,
   "metadata": {},
   "outputs": [],
   "source": [
    "flare_table=pd.read_csv('https://raw.githubusercontent.com/jradavenport/GJ1243-Flares/master/data/gj1243_master_flares.tbl',\n",
    "            skiprows=23,delim_whitespace=True,names=['index of flare start in \"gj1243_master_slc.dat\"',\n",
    "                                                   'index of flare stop in \"gj1243_master_slc.dat\"','t_start','t_stop'\n",
    "                                                   ,'t_peak','t_rise','t_decay','flux peak',\n",
    "                                                   'ED','Duration of rise',\n",
    "                                                   'Duration of decay','Complex flag',\n",
    "                                                   '# of people that identified flare event exists',\n",
    "                                                   '# of people that analyzed this month',\n",
    "                                                   '# of flare template components fit to event'])\n",
    "\n",
    "t_starts=flare_table.loc[:,'t_start']\n",
    "t_stops=flare_table.loc[:,'t_stop']\n",
    "flux_peak = flare_table.loc[:,'flux peak']"
   ]
  },
  {
   "cell_type": "markdown",
   "metadata": {},
   "source": [
    "### Importing in GJ1243 light curve (DR-25)"
   ]
  },
  {
   "cell_type": "code",
   "execution_count": null,
   "metadata": {},
   "outputs": [],
   "source": [
    "from lightkurve import search_lightcurvefile\n",
    "from lightkurve import search_targetpixelfile\n",
    "target = '9726699'\n",
    "gj1243_collection = search_lightcurvefile(target,cadence='short').download_all()\n",
    "\n",
    "gj1243lc = gj1243_collection[0].PDCSAP_FLUX\n",
    "\n",
    "#stitching together the full light curve\n",
    "for q in range(1,len(gj1243_collection)):\n",
    "    try:\n",
    "        gj1243lc = gj1243lc.append(gj1243_collection[q].PDCSAP_FLUX)\n",
    "    except:\n",
    "            print(q)"
   ]
  },
  {
   "cell_type": "markdown",
   "metadata": {},
   "source": [
    "### Masking out the flares"
   ]
  },
  {
   "cell_type": "code",
   "execution_count": null,
   "metadata": {},
   "outputs": [],
   "source": [
    "f_mask = np.zeros_like(gj1243lc.time, dtype=bool)\n",
    "for i in range(len(t_starts)):\n",
    "    dur = t_stops[i] - t_starts[i]\n",
    "    c1 = 0.25\n",
    "    c2 = 0.5  \n",
    "    buffer = (gj1243lc.time >= t_starts[i] - c1*dur) & (gj1243lc.time <= t_stops[i] + c2*dur)\n",
    "    temp = (gj1243lc.time >= t_starts[i]) & (gj1243lc.time <= t_stops[i])\n",
    "    f_mask = f_mask + buffer\n",
    "print(f_mask)\n",
    "no_flares = np.where((f_mask == False))[0]"
   ]
  },
  {
   "cell_type": "code",
   "execution_count": null,
   "metadata": {},
   "outputs": [],
   "source": [
    "flares_x=gj1243lc.time[f_mask]\n",
    "flares_y = gj1243lc.flux[f_mask]/np.nanmedian(gj1243lc.flux)\n",
    "\n",
    "fig = plt.figure(figsize=(20,10))\n",
    "import matplotlib\n",
    "matplotlib.rcParams.update({'font.size':30})\n",
    "matplotlib.rcParams.update({'font.family':'serif'})\n",
    "\n",
    "fig.subplots_adjust(hspace=0.3, wspace=0.4)\n",
    "\n",
    "\n",
    "\n",
    "plt.plot(gj1243lc.time[:84887],gj1243lc.flux[:84887]/np.nanmedian(gj1243lc.flux),linewidth=0.5,alpha=0.99,color='C0')\n",
    "plt.plot(gj1243lc.time[84888:217976],gj1243lc.flux[84888:217976]/np.nanmedian(gj1243lc.flux),linewidth=0.5,color='C0',alpha=0.99)\n",
    "plt.plot(gj1243lc.time[217976:],gj1243lc.flux[217976:]/np.nanmedian(gj1243lc.flux),linewidth=0.5,color='C0',alpha=0.99)\n",
    "\n",
    "\n",
    "plt.scatter(flares_x,flares_y,linewidth=0.7,color='darkorange',s=35)\n",
    "\n",
    "\n",
    "\n",
    "#Text\n",
    "plt.text(520, 3, 'DR 25', fontsize=18, color ='k')\n",
    "\n",
    "\n",
    "plt.ylabel(\"Normalized Flux\")\n",
    "plt.xlabel(\"Time - 2457000 [BTJD days]\")\n",
    "\n",
    "\n",
    "#plt.savefig('gj1243_keplerlc.pdf',dpi=300, bbox_inches='tight', pad_inches=0.5)"
   ]
  },
  {
   "cell_type": "markdown",
   "metadata": {},
   "source": [
    "### Accounting for quarterly discontinuities"
   ]
  },
  {
   "cell_type": "code",
   "execution_count": null,
   "metadata": {},
   "outputs": [],
   "source": [
    "total_median = np.nanmedian(gj1243lc.flux[no_flares])\n",
    "raw_flux = 1+((gj1243lc.flux - total_median)/total_median)"
   ]
  },
  {
   "cell_type": "code",
   "execution_count": null,
   "metadata": {},
   "outputs": [],
   "source": [
    "# arrays of start and stop times of each month of data\n",
    "start_time = np.array([])\n",
    "stop_time = np.array ([])\n",
    "med_nf = np.array([])\n",
    "for i in range(0,len(gj1243_collection)):\n",
    "    try:\n",
    "        month = np.where((gj1243lc.time[no_flares] >= np.min(gj1243_collection[i].time)) & \n",
    "          (gj1243lc.time[no_flares] <= np.max(gj1243_collection[i].time)))[0]\n",
    "        start = np.min(gj1243_collection[i].time)\n",
    "        stop = np.max(gj1243_collection[i].time)\n",
    "        med = np.nanmedian(gj1243lc.flux[no_flares][month])\n",
    "        start_time = np.append(start_time,start)\n",
    "        stop_time = np.append(stop_time,stop)\n",
    "        med_nf = np.append(med_nf,med)\n",
    "        \n",
    "    except:\n",
    "        print(i)"
   ]
  },
  {
   "cell_type": "code",
   "execution_count": null,
   "metadata": {},
   "outputs": [],
   "source": [
    "#Array of median fluxes across each month of data\n",
    "\n",
    "medflux=np.array([])\n",
    "for i in range(0,len(gj1243_collection)):\n",
    "    try:\n",
    "        \n",
    "        month = np.where((gj1243lc.time[no_flares] >= np.min(gj1243_collection[i].time)) & \n",
    "          (gj1243lc.time[no_flares] <= np.max(gj1243_collection[i].time)))[0]\n",
    "\n",
    "        med = 1+((gj1243lc.flux[no_flares][month] - med_nf[i]))/total_median)\n",
    "        medflux = np.append(medflux,med)\n",
    "    except:\n",
    "            print(i)\n"
   ]
  },
  {
   "cell_type": "markdown",
   "metadata": {},
   "source": [
    "### Running the Gaussian Process"
   ]
  },
  {
   "cell_type": "code",
   "execution_count": null,
   "metadata": {},
   "outputs": [],
   "source": [
    "import celerite\n",
    "from scipy.optimize import minimize\n",
    "\n",
    "for i in range (0,len(gj1243_collection)):\n",
    "        try:\n",
    "            #month is the times of each month w/o flares\n",
    "            month = np.where((gj1243lc.time[no_flares] >= np.min(gj1243_collection[i].time)) & \n",
    "                            (gj1243lc.time[no_flares] <= np.max(gj1243_collection[i].time)))[0]\n",
    "            y = med_flux[month]\n",
    "            t = gj1243lc.time[no_flares][month]\n",
    "            yerr = 1+((gj1243lc.flux_err[no_flares][month] - np.nanmedian(gj1243lc.flux[no_flares][month]))/(np.nanmedian(gj1243lc.flux[no_flares][month])))\n",
    "            yerr = np.sqrt(yerr**2 + np.nanmedian(pd.Series(y).rolling(10,center=True).std())**2)\n",
    "            Q = 0.001\n",
    "            w0 = 2*np.pi/0.59\n",
    "            S0 = np.var(y) / (w0 * Q)\n",
    "            bounds = dict(log_S0=(-15,15), log_Q=(-15,15), log_omega0=(-15,15))\n",
    "            kernel = terms.SHOTerm(log_S0=np.log(S0), log_Q=np.log(Q), log_omega0=np.log(w0),bounds=bounds)\n",
    "            \n",
    "            #Running the gp\n",
    "            gp = celerite.GP(kernel, mean=np.mean(y),fit_mean=True)\n",
    "            gp.compute(t, yerr)  # You always need to call compute once.\n",
    "            \n",
    "            def neg_log_like(params, y, gp):\n",
    "                gp.set_parameter_vector(params)\n",
    "                return -gp.log_likelihood(y)\n",
    "            initial_params = gp.get_parameter_vector()\n",
    "            bounds = gp.get_parameter_bounds()\n",
    "            r = minimize(neg_log_like, initial_params, method=\"L-BFGS-B\", bounds=bounds, args=(y, gp))\n",
    "            gp.set_parameter_vector(r.x)\n",
    "            \n",
    "            \n",
    "            month_flares = np.where((gj1243lc.time >= np.min(gj1243_collection[i].time)) & \n",
    "                                    (gj1243lc.time <= np.max(gj1243_collection[i].time)))[0]\n",
    "            x = gj1243lc.time[month_flares]\n",
    "            pred_mean, pred_var = gp.predict(y, x, return_var=True)\n",
    "            pred_std = np.sqrt(pred_var)\n",
    "            \n",
    "            #Saving each month of the gp run\n",
    "            dict = {'time':x,'mean': pred_mean, 'std': pred_std, 'var': pred_var, \n",
    "                    'detrended_flux':(1+((gj1243lc.flux[month_flares] - med_nf[i]))/total_median),\n",
    "                    'df_flux_err':(gj1243lc.flux[month_flares])/total_median}  \n",
    "            gp_out = pd.DataFrame(dict) \n",
    "            gp_out.to_csv(r'gp_values_'+str(i)+'.csv',header=True,index=True)\n",
    "            \n",
    "            #plotting to make sure each month looks reasonable\n",
    "            plt.figure()\n",
    "            plt.plot(x,(1+((gj1243lc.flux[month_flares] - med_nf[i]))/total_median))\n",
    "            plt.plot(x,pred_mean)\n",
    "            plt.xlabel(\"Time\")\n",
    "            plt.ylabel(\"Flux\")\n",
    "            plt.title(str(i))\n",
    "            plt.show()\n",
    "            \n",
    "            \n",
    "        except:\n",
    "            print(i)\n",
    "            plt.errorbar(t,y,yerr=yerr)\n",
    "            print(\"Initial log likelihood: {0}\".format(gp.log_likelihood(y)))\n",
    "            print(r)\n"
   ]
  }
 ],
 "metadata": {
  "kernelspec": {
   "display_name": "Python3",
   "language": "python",
   "name": "python3"
  },
  "language_info": {
   "codemirror_mode": {
    "name": "ipython",
    "version": 3
   },
   "file_extension": ".py",
   "mimetype": "text/x-python",
   "name": "python",
   "nbconvert_exporter": "python",
   "pygments_lexer": "ipython3",
   "version": "3.7.3"
  }
 },
 "nbformat": 4,
 "nbformat_minor": 2
}
