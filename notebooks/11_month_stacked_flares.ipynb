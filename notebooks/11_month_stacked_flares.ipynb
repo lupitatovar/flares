{
 "cells": [
  {
   "cell_type": "code",
   "execution_count": 2,
   "metadata": {},
   "outputs": [],
   "source": [
    "%matplotlib inline\n",
    "import numpy as np\n",
    "import matplotlib.pyplot as plt\n",
    "import pandas as pd\n",
    "from scipy import *\n",
    "import astropy\n",
    "from astropy import constants as ac\n",
    "from astroquery.mast import Observations\n",
    "import lightkurve\n",
    "import celerite\n",
    "from celerite import terms\n",
    "from scipy.optimize import minimize\n",
    "from astropy.io import fits\n",
    "from astropy.table import Table"
   ]
  },
  {
   "cell_type": "code",
   "execution_count": 3,
   "metadata": {},
   "outputs": [],
   "source": [
    "flare_table=pd.read_csv('https://raw.githubusercontent.com/jradavenport/GJ1243-Flares/master/data/gj1243_master_flares.tbl',\n",
    "            skiprows=23,delim_whitespace=True,names=['index of flare start in \"gj1243_master_slc.dat\"',\n",
    "                                                   'index of flare stop in \"gj1243_master_slc.dat\"','t_start','t_stop'\n",
    "                                                   ,'t_peak','t_rise','t_decay','flux peak',\n",
    "                                                   'ED','Duration of rise',\n",
    "                                                   'Duration of decay','Complex flag',\n",
    "                                                   '# of people that identified flare event exists',\n",
    "                                                   '# of people that analyzed this month',\n",
    "                                                   '# of flare template components fit to event'])"
   ]
  },
  {
   "cell_type": "code",
   "execution_count": 4,
   "metadata": {},
   "outputs": [],
   "source": [
    "t_starts=flare_table.loc[:,'t_start']\n",
    "t_stops=flare_table.loc[:,'t_stop']\n",
    "flux_peak = flare_table.loc[:,'flux peak']\n",
    "complex_flag = flare_table['Complex flag'] #2=complex, 1 = classical\n",
    "ED = flare_table['ED'] #units=seconds\n",
    "flare_table['Flare_Duration'] = 1440.*(t_stops-t_starts) #units = minutes"
   ]
  },
  {
   "cell_type": "code",
   "execution_count": 5,
   "metadata": {},
   "outputs": [
    {
     "name": "stdout",
     "output_type": "stream",
     "text": [
      "The number of classical flares : 5162\n",
      "The number of complex flares : 945\n",
      "The number of total flares with a duration between 20-75min : 1641\n",
      "902\n",
      "902\n"
     ]
    },
    {
     "name": "stderr",
     "output_type": "stream",
     "text": [
      "/Users/lupitatovar/anaconda3/lib/python3.7/site-packages/ipykernel_launcher.py:20: SettingWithCopyWarning: \n",
      "A value is trying to be set on a copy of a slice from a DataFrame.\n",
      "Try using .loc[row_indexer,col_indexer] = value instead\n",
      "\n",
      "See the caveats in the documentation: http://pandas.pydata.org/pandas-docs/stable/indexing.html#indexing-view-versus-copy\n"
     ]
    }
   ],
   "source": [
    "# Separating the types of flares\n",
    "classical = len([i for i in complex_flag if i < 2.0]) \n",
    "print (\"The number of classical flares : \" + str(classical)) \n",
    "\n",
    "cmplx = len([i for i in complex_flag if i > 1.0]) \n",
    "print (\"The number of complex flares : \" + str(cmplx)) \n",
    "\n",
    "complex_flares = flare_table[flare_table['Complex flag'] == 2.0]\n",
    "classical_flares = flare_table[flare_table['Complex flag'] == 1.0]\n",
    "\n",
    "#-----------------------------------------------------------------------------------------\n",
    "min_dur = 20.0 #minutes\n",
    "max_dur = 75.0\n",
    "\n",
    "dur_limit = len([i for i in flare_table['Flare_Duration'] if i >= min_dur and i<max_dur]) \n",
    "print (\"The number of total flares with a duration between 20-75min : \" + str(dur_limit))\n",
    "\n",
    "#------------------------------------------------------------------------------------------\n",
    "#adding in a column that is the flare duration into the table \n",
    "classical_flares['Flare_Duration'] = 1440.*(classical_flares['t_stop'] - classical_flares['t_start'])\n",
    "#classical_flares\n",
    "\n",
    "print (len([i for i in classical_flares['Flare_Duration'] if i >= min_dur and i < max_dur]))\n",
    "\n",
    "#------------------------------------------------------------------------------------------\n",
    "\n",
    "#Table of Classical flares that are between 20-75 minutes as defined in Davenport(2014)\n",
    "\n",
    "timed_classical = classical_flares[(classical_flares['Flare_Duration'] >= min_dur) & (classical_flares['Flare_Duration'] < max_dur)]\n",
    "print(len(timed_classical))"
   ]
  },
  {
   "cell_type": "markdown",
   "metadata": {},
   "source": [
    "### Importing in GJ1243 light curve (DR-25)"
   ]
  },
  {
   "cell_type": "code",
   "execution_count": 6,
   "metadata": {},
   "outputs": [],
   "source": [
    "from lightkurve import search_lightcurvefile\n",
    "from lightkurve import search_targetpixelfile\n",
    "target = '9726699'\n",
    "gj1243_collection = search_lightcurvefile(target,cadence='short').download_all()\n",
    "\n",
    "gj1243lc = gj1243_collection[0].PDCSAP_FLUX.remove_nans()\n",
    "\n",
    "#stitching together the full light curve\n",
    "for q in range(1,len(gj1243_collection)):\n",
    "    try:\n",
    "        gj1243lc = gj1243lc.append(gj1243_collection[q].PDCSAP_FLUX).remove_nans()\n",
    "    except:\n",
    "            print(q)"
   ]
  },
  {
   "cell_type": "code",
   "execution_count": 7,
   "metadata": {},
   "outputs": [
    {
     "name": "stdout",
     "output_type": "stream",
     "text": [
      "0 (46806, 7)\n",
      "1 (42289, 7)\n",
      "2 (32946, 7)\n",
      "3 (39984, 7)\n",
      "4 (44060, 7)\n",
      "5 (34037, 7)\n",
      "6 (45254, 7)\n",
      "7 (39630, 7)\n",
      "8 (43978, 7)\n",
      "9 (45006, 7)\n",
      "10 (39121, 7)\n"
     ]
    },
    {
     "data": {
      "image/png": "[encoded data removed]",
      "text/plain": [
       "<Figure size 1080x288 with 1 Axes>"
      ]
     },
     "metadata": {
      "needs_background": "light"
     },
     "output_type": "display_data"
    }
   ],
   "source": [
    "#Reading in the 11 mo gp files\n",
    "from glob import glob\n",
    "\n",
    "gp_files = glob('*11mo_*.csv')\n",
    "\n",
    "for k in range(len(gp_files)): \n",
    "    df_tmp = pd.read_csv(gp_files[k]) \n",
    "    print(k, df_tmp.shape) \n",
    "    if k==0: \n",
    "        df = df_tmp \n",
    "    else: \n",
    "         df = df.append(df_tmp) \n",
    "\n",
    "df = df.sort_values(by='time')\n",
    "\n",
    "plt.figure(figsize=(15,4))\n",
    "plt.plot(df['time'], df['detrended_flux'])\n",
    "plt.plot(df['time'], df['mean'])\n",
    "plt.show()\n"
   ]
  },
  {
   "cell_type": "code",
   "execution_count": 8,
   "metadata": {},
   "outputs": [
    {
     "name": "stdout",
     "output_type": "stream",
     "text": [
      "453111\n"
     ]
    }
   ],
   "source": [
    "print(len(df['df_flux_err']))"
   ]
  },
  {
   "cell_type": "code",
   "execution_count": 9,
   "metadata": {},
   "outputs": [
    {
     "name": "stdout",
     "output_type": "stream",
     "text": [
      "453111\n"
     ]
    }
   ],
   "source": [
    "#dropping the nans in the table\n",
    "df = df.dropna()\n",
    "df = df.reset_index(drop=True)\n",
    "print(len(df))"
   ]
  },
  {
   "cell_type": "code",
   "execution_count": 10,
   "metadata": {},
   "outputs": [
    {
     "data": {
      "image/png": "[encoded data removed]",
      "text/plain": [
       "<Figure size 576x288 with 1 Axes>"
      ]
     },
     "metadata": {
      "needs_background": "light"
     },
     "output_type": "display_data"
    }
   ],
   "source": [
    "plt.figure(figsize=(8,4))\n",
    "font = {'size'   : 16}\n",
    "plt.rc('font', **font)\n",
    "color = \"#ff7f0e\"\n",
    "plt.plot(df['time'], df['detrended_flux'])\n",
    "plt.plot(df['time'], df['mean'])\n",
    "plt.fill_between(df['time'], df['mean']+df['std'], df['mean']-df['std'],color=color, alpha=0.5,\n",
    "                 edgecolor=\"none\",label='gp')\n",
    "\n",
    "plt.xlim(1210,1213)\n",
    "plt.ylim(.986,1.03)\n",
    "plt.xlabel(\"Time\")\n",
    "plt.ylabel(\"Flux\")\n",
    "plt.show()"
   ]
  },
  {
   "cell_type": "code",
   "execution_count": 11,
   "metadata": {},
   "outputs": [],
   "source": [
    "detrended = df['detrended_flux'].values - df['mean'].values\n",
    "#print(detrended)"
   ]
  },
  {
   "cell_type": "markdown",
   "metadata": {},
   "source": [
    "### Interpolating over full light curve "
   ]
  },
  {
   "cell_type": "code",
   "execution_count": 12,
   "metadata": {},
   "outputs": [
    {
     "data": {
      "text/plain": [
       "[<matplotlib.lines.Line2D at 0x12a933278>]"
      ]
     },
     "execution_count": 12,
     "metadata": {},
     "output_type": "execute_result"
    },
    {
     "data": {
      "image/png": "[encoded data removed]",
      "text/plain": [
       "<Figure size 432x288 with 1 Axes>"
      ]
     },
     "metadata": {
      "needs_background": "light"
     },
     "output_type": "display_data"
    }
   ],
   "source": [
    "#interpolating the full light curve\n",
    "plt.scatter(df['time'],detrended)\n",
    "\n",
    "plt.xlabel(\"Time\")\n",
    "plt.ylabel(\"Flux\")\n",
    "\n",
    "padding_factor = 10\n",
    "steps = padding_factor*len(detrended)\n",
    "\n",
    "xvals = np.linspace(539.460, 1273.07, steps)\n",
    "yinterp = np.interp(xvals, df['time'], detrended)\n",
    "plt.plot(xvals,yinterp,'-x',color='orange',alpha=0.5)"
   ]
  },
  {
   "cell_type": "code",
   "execution_count": 13,
   "metadata": {},
   "outputs": [],
   "source": [
    "timed_classical\n",
    "classic_start=timed_classical.loc[:,'t_start'].values\n",
    "classic_stop=timed_classical.loc[:,'t_stop'].values\n",
    "classic_dur = timed_classical.loc[:,'Flare_Duration'].values\n",
    "#print(classic_start)"
   ]
  },
  {
   "cell_type": "markdown",
   "metadata": {},
   "source": [
    "#### Finding the flux and time values where local maxes occur w/in interpolated data (i.e where the flares happen)"
   ]
  },
  {
   "cell_type": "code",
   "execution_count": 14,
   "metadata": {},
   "outputs": [],
   "source": [
    "time_max = np.array([])\n",
    "peaks = np.array([])\n",
    "t_halfs = np.array([])\n",
    "for i in range(0,len(timed_classical)):\n",
    "    #for interpolated data\n",
    "    temp1 = np.where((xvals < timed_classical['t_stop'].values[i]) & \n",
    "                    (xvals > timed_classical['t_start'].values[i]))[0]\n",
    "    \n",
    "    #for normal data\n",
    "    temp2 = np.where((df['time'] < timed_classical['t_stop'].values[i]) & \n",
    "                    (df['time'] > timed_classical['t_start'].values[i]))[0]\n",
    "    \n",
    "    i_max = np.argmax(detrended[temp2])\n",
    "    t_max = (df['time'].values[temp2][i_max])\n",
    "    flux_max = (detrended[temp2][i_max])\n",
    "    time_max = np.append(time_max,t_max)\n",
    "    peaks = np.append(peaks,flux_max)\n",
    "    half_peaks = peaks/2.0\n",
    "    i_xs = np.where((yinterp[temp1] > half_peaks[i]))[0]\n",
    "    time_xs = xvals[temp1][i_xs]\n",
    "    t_half = max(time_xs) - min(time_xs)\n",
    "    t_halfs = np.append(t_halfs,t_half)\n",
    "    flux_fwhm = np.where(yinterp > half_peaks[i])[0]  #fluzes above the fwhm \n",
    "    \n",
    "#####################################################################################    \n",
    "    #plotting and saving 902 flares \n",
    "#####################################################################################    \n",
    "    \n",
    "    #plt.figure(figsize=[12,6])\n",
    "    \n",
    "    #plt.scatter(time_max[i],peaks[i],color='blue',label='peak',s=50)\n",
    "    #plt.plot(xvals,yinterp,color='black',alpha=0.8,label='interp_data')\n",
    "    ##plt.plot(np.where(xvals,np.where((yinterp > half_peaks[i]))[0],color='black',alpha=0.8,label='interp_data')\n",
    "    #plt.scatter(xvals[flux_fwhm],yinterp[flux_fwhm], color='red', s=20,label='flux>fwhm',alpha=0.5)\n",
    "\n",
    "    ##plt.axhline(y=half_peaks[i], color='green', linestyle='-',label='t_half',alpha=0.7)\n",
    "    #plt.axvline(x=classic_start[i], color='green', linestyle='-',alpha=0.7)\n",
    "    #plt.axvline(x=classic_stop[i], color='green', linestyle='-',alpha=0.7)\n",
    "    \n",
    "\n",
    "    #plt.ylim(-.002,timed_classical['flux peak'].values[i]+.005)\n",
    "    ##plt.xlim(timed_classical['t_start'].values[i]-.1,timed_classical['t_stop'].values[i]+.1)\n",
    "    #plt.xlim(timed_classical['t_start'].values[i]-.005*classic_dur[i],timed_classical['t_stop'].values[i]+.005*classic_dur[i])\n",
    "    #plt.legend(bbox_to_anchor=(1.01, 1), loc='upper left', borderaxespad=0.)\n",
    "    #plt.title('Flare:'+ str(i))\n",
    "    #plt.xlabel('Time')\n",
    "    #plt.ylabel('Flux')\n",
    "    #plt.savefig('/Users/lupitatovar/flares/notebooks/flare_diagnostics/'+'flare'+str(i)+'.png',bbox_inches='tight')\n",
    "    #plt.close()"
   ]
  },
  {
   "cell_type": "code",
   "execution_count": 15,
   "metadata": {},
   "outputs": [
    {
     "name": "stdout",
     "output_type": "stream",
     "text": [
      "902\n",
      "902\n",
      "902\n",
      "4531110\n",
      "4531110\n",
      "134306\n"
     ]
    }
   ],
   "source": [
    "print(len(t_halfs))\n",
    "print(len(peaks))\n",
    "print(len(time_max))\n",
    "print(len(yinterp))\n",
    "print(len(xvals))\n",
    "print(len(flux_fwhm))"
   ]
  },
  {
   "cell_type": "markdown",
   "metadata": {},
   "source": [
    "### Plotting the Stacked Flares"
   ]
  },
  {
   "cell_type": "code",
   "execution_count": 15,
   "metadata": {},
   "outputs": [
    {
     "data": {
      "image/png": "[encoded data removed]",
      "text/plain": [
       "<Figure size 432x288 with 1 Axes>"
      ]
     },
     "metadata": {
      "needs_background": "light"
     },
     "output_type": "display_data"
    }
   ],
   "source": [
    "for i in range(0,len(timed_classical)):\n",
    "        x = (df['time'] - time_max[i])/(t_halfs[i])\n",
    "        y = ((detrended)/(peaks[i]))\n",
    "        plt.plot(x,y,color='b',alpha=0.01)\n",
    "\n",
    "\n",
    "        plt.xlabel('Time')\n",
    "        plt.ylabel('Relative Flux')\n",
    "        plt.ylim(-0.4,1.05)\n",
    "        plt.xlim(-5,15)\n",
    "        #plt.ylim(-0.4,1.5)\n"
   ]
  },
  {
   "cell_type": "markdown",
   "metadata": {},
   "source": [
    "### Flare Diagnostics on 902 classical flares"
   ]
  },
  {
   "cell_type": "code",
   "execution_count": null,
   "metadata": {},
   "outputs": [],
   "source": [
    "# have the padding be +/- duration = timed_clasical[t_start]-t_stop\n",
    "#len(timed_classical)\n",
    "\n",
    "for i in range(0,len(timed_classical)):\n",
    "    plt.figure(figsize=[12,6])\n",
    "    flux_fwhm = np.where(yinterp > half_peaks[i])[0] \n",
    "    \n",
    "    plt.scatter(time_max[i],peaks[i],color='blue',label='peak',s=50)\n",
    "    plt.plot(xvals,yinterp,color='black',alpha=0.8,label='interp_data')\n",
    "    #plt.plot(np.where(xvals,np.where((yinterp > half_peaks[i]))[0],color='black',alpha=0.8,label='interp_data')\n",
    "    plt.scatter(xvals[flux_fwhm],yinterp[flux_fwhm], color='red', s=20,label='flux>fwhm',alpha=0.5)\n",
    "\n",
    "    #plt.axhline(y=half_peaks[i], color='green', linestyle='-',label='t_half',alpha=0.7)\n",
    "    plt.axvline(x=classic_start[i], color='green', linestyle='-',alpha=0.7)\n",
    "    plt.axvline(x=classic_stop[i], color='green', linestyle='-',alpha=0.7)\n",
    "    \n",
    "\n",
    "    plt.ylim(-.002,timed_classical['flux peak'].values[i]+.005)\n",
    "    #plt.xlim(timed_classical['t_start'].values[i]-.1,timed_classical['t_stop'].values[i]+.1)\n",
    "    plt.xlim(timed_classical['t_start'].values[i]-.005*classic_dur[i],timed_classical['t_stop'].values[i]+.005*classic_dur[i])\n",
    "    plt.legend(bbox_to_anchor=(1.01, 1), loc='upper left', borderaxespad=0.)\n",
    "    plt.title('Flare:'+ str(i))\n",
    "    plt.xlabel('Time')\n",
    "    plt.ylabel('Flux')\n",
    "    plt.savefig('/Users/lupitatovar/flares/notebooks/flare_diagnostics/'+'flare'+str(i)+'.png',bbox_inches='tight')\n",
    "    plt.close()\n"
   ]
  },
  {
   "cell_type": "code",
   "execution_count": 16,
   "metadata": {},
   "outputs": [],
   "source": [
    "#notebook kept dying so had to split up the flares into two batches\n",
    "\n",
    "for i in range(533,len(timed_classical)):\n",
    "    plt.figure(figsize=[12,6])\n",
    "    flux_fwhm = np.where(yinterp > half_peaks[i])[0] \n",
    "    \n",
    "    plt.scatter(time_max[i],peaks[i],color='blue',label='peak',s=50)\n",
    "    plt.plot(xvals,yinterp,color='black',alpha=0.8,label='interp_data')\n",
    "    #plt.plot(np.where(xvals,np.where((yinterp > half_peaks[i]))[0],color='black',alpha=0.8,label='interp_data')\n",
    "    plt.scatter(xvals[flux_fwhm],yinterp[flux_fwhm], color='red', s=20,label='flux>fwhm',alpha=0.5)\n",
    "\n",
    "    #plt.axhline(y=half_peaks[i], color='green', linestyle='-',label='t_half',alpha=0.7)\n",
    "    plt.axvline(x=classic_start[i], color='green', linestyle='-',alpha=0.7)\n",
    "    plt.axvline(x=classic_stop[i], color='green', linestyle='-',alpha=0.7)\n",
    "    \n",
    "\n",
    "    plt.ylim(-.002,timed_classical['flux peak'].values[i]+.005)\n",
    "    #plt.xlim(timed_classical['t_start'].values[i]-.1,timed_classical['t_stop'].values[i]+.1)\n",
    "    plt.xlim(timed_classical['t_start'].values[i]-.005*classic_dur[i],timed_classical['t_stop'].values[i]+.005*classic_dur[i])\n",
    "    plt.legend(bbox_to_anchor=(1.01, 1), loc='upper left', borderaxespad=0.)\n",
    "    plt.title('Flare:'+ str(i))\n",
    "    plt.xlabel('Time')\n",
    "    plt.ylabel('Flux')\n",
    "    plt.savefig('/Users/lupitatovar/flares/notebooks/flare_diagnostics/'+'flare'+str(i)+'.png',bbox_inches='tight')\n",
    "    plt.close()\n",
    "    \n"
   ]
  },
  {
   "cell_type": "markdown",
   "metadata": {},
   "source": [
    "### Cleaning up the Flare Sample\n",
    "Flares to use below"
   ]
  },
  {
   "cell_type": "code",
   "execution_count": null,
   "metadata": {},
   "outputs": [],
   "source": []
  },
  {
   "cell_type": "markdown",
   "metadata": {},
   "source": [
    "### Overplotting Jim's flare model onto this w/ amp=1,t_half=1,peak=0\n",
    "https://github.com/jradavenport/appaloosa/blob/master/appaloosa/aflare.py"
   ]
  },
  {
   "cell_type": "code",
   "execution_count": null,
   "metadata": {},
   "outputs": [],
   "source": [
    "from scipy.stats import binned_statistic\n",
    "\n",
    "def aflare1(t, tpeak, fwhm, ampl, upsample=False, uptime=10):\n",
    "    '''\n",
    "    The Analytic Flare Model evaluated for a single-peak (classical).\n",
    "    Reference Davenport et al. (2014) http://arxiv.org/abs/1411.3723\n",
    "    Use this function for fitting classical flares with most curve_fit\n",
    "    tools.\n",
    "    Note: this model assumes the flux before the flare is zero centered\n",
    "    Parameters\n",
    "    ----------\n",
    "    t : 1-d array\n",
    "        The time array to evaluate the flare over\n",
    "    tpeak : float\n",
    "        The time of the flare peak\n",
    "    fwhm : float\n",
    "        The \"Full Width at Half Maximum\", timescale of the flare\n",
    "    ampl : float\n",
    "        The amplitude of the flare\n",
    "    upsample : bool\n",
    "        If True up-sample the model flare to ensure more precise energies.\n",
    "    uptime : float\n",
    "        How many times to up-sample the data (Default is 10)\n",
    "    Returns\n",
    "    -------\n",
    "    flare : 1-d array\n",
    "        The flux of the flare model evaluated at each time\n",
    "    '''\n",
    "    _fr = [1.00000, 1.94053, -0.175084, -2.24588, -1.12498]\n",
    "    _fd = [0.689008, -1.60053, 0.302963, -0.278318]\n",
    "\n",
    "    if upsample:\n",
    "        dt = np.nanmedian(np.diff(t))\n",
    "        timeup = np.linspace(min(t)-dt, max(t)+dt, t.size * uptime)\n",
    "\n",
    "        flareup = np.piecewise(timeup, [(timeup<= tpeak) * (timeup-tpeak)/fwhm > -1.,\n",
    "                                        (timeup > tpeak)],\n",
    "                                    [lambda x: (_fr[0]+                       # 0th order\n",
    "                                                _fr[1]*((x-tpeak)/fwhm)+      # 1st order\n",
    "                                                _fr[2]*((x-tpeak)/fwhm)**2.+  # 2nd order\n",
    "                                                _fr[3]*((x-tpeak)/fwhm)**3.+  # 3rd order\n",
    "                                                _fr[4]*((x-tpeak)/fwhm)**4. ),# 4th order\n",
    "                                     lambda x: (_fd[0]*np.exp( ((x-tpeak)/fwhm)*_fd[1] ) +\n",
    "                                                _fd[2]*np.exp( ((x-tpeak)/fwhm)*_fd[3] ))]\n",
    "                                    ) * np.abs(ampl) # amplitude\n",
    "\n",
    "        # and now downsample back to the original time...\n",
    "        ## this way might be better, but makes assumption of uniform time bins\n",
    "        # flare = np.nanmean(flareup.reshape(-1, uptime), axis=1)\n",
    "\n",
    "        ## This way does linear interp. back to any input time grid\n",
    "        # flare = np.interp(t, timeup, flareup)\n",
    "\n",
    "        ## this was uses \"binned statistic\"\n",
    "        downbins = np.concatenate((t-dt/2.,[max(t)+dt/2.]))\n",
    "        flare,_,_ = binned_statistic(timeup, flareup, statistic='mean',\n",
    "                                 bins=downbins)\n",
    "\n",
    "    else:\n",
    "        flare = np.piecewise(t, [(t<= tpeak) * (t-tpeak)/fwhm > -1.,\n",
    "                                 (t > tpeak)],\n",
    "                                [lambda x: (_fr[0]+                       # 0th order\n",
    "                                            _fr[1]*((x-tpeak)/fwhm)+      # 1st order\n",
    "                                            _fr[2]*((x-tpeak)/fwhm)**2.+  # 2nd order\n",
    "                                            _fr[3]*((x-tpeak)/fwhm)**3.+  # 3rd order\n",
    "                                            _fr[4]*((x-tpeak)/fwhm)**4. ),# 4th order\n",
    "                                 lambda x: (_fd[0]*np.exp( ((x-tpeak)/fwhm)*_fd[1] ) +\n",
    "                                            _fd[2]*np.exp( ((x-tpeak)/fwhm)*_fd[3] ))]\n",
    "                                ) * np.abs(ampl) # amplitude\n",
    "\n",
    "    return flare"
   ]
  },
  {
   "cell_type": "code",
   "execution_count": null,
   "metadata": {},
   "outputs": [],
   "source": [
    "plt.plot(x,aflare1(x.values,0,1,1))\n",
    "#plt.plot(x,jim_model,color='red')\n",
    "plt.xlim(-5,15)"
   ]
  },
  {
   "cell_type": "markdown",
   "metadata": {},
   "source": [
    "The arrays below contain time, flux, flux_err, and standard deviation for each flare within the ranges of [-5,15]"
   ]
  },
  {
   "cell_type": "code",
   "execution_count": null,
   "metadata": {},
   "outputs": [],
   "source": [
    "x_all=np.array([])\n",
    "y_all=np.array([])\n",
    "y_err = np.array([])\n",
    "gp_st_dev = np.array([])\n",
    "xmin=-5\n",
    "xmax=15\n",
    "\n",
    "for i in range(0,len(timed_classical)):\n",
    "        x = (df['time'].values - time_max[i])/(t_halfs[i])\n",
    "        y = ((detrended)/(peaks[i]))\n",
    "        plt.plot(x,y,color='b',alpha=0.01)\n",
    "\n",
    "        plt.xlabel('Time')\n",
    "        plt.ylabel('Relative Flux')\n",
    "        plt.ylim(-0.4,1.05)\n",
    "        plt.xlim(-5,15)\n",
    "        \n",
    "        #Time Arrays\n",
    "        xs = np.where((x <= xmax) & (x>=xmin))[0]\n",
    "        x_all = np.append(x_all,x[xs])\n",
    "        \n",
    "        #Flux Arrays\n",
    "        y_all = np.append(y_all,y[xs])\n",
    "        \n",
    "        #Flux Errors\n",
    "        flux_err = df['df_flux_err'].values/peaks[i] \n",
    "        y_err = np.append(y_err,flux_err[xs])\n",
    "        \n",
    "        #GP Standard Deviation\n",
    "        st_dev = df['std'].values/peaks[i]\n",
    "        gp_st_dev = np.append(gp_st_dev,st_dev[xs])\n",
    "                  \n",
    "plt.plot(x,aflare1(x,0,1,1),color='red',label='Jims Model')        \n",
    "plt.legend(bbox_to_anchor=(1.05, 1), loc='upper left', borderaxespad=0.)"
   ]
  },
  {
   "cell_type": "code",
   "execution_count": null,
   "metadata": {},
   "outputs": [],
   "source": [
    "#saving the arrays to a file\n",
    "#dict_i = {'time':x_all,'flux': y_all, 'flux_err': y_err, 'gp_st_dev': gp_st_dev} \n",
    "#stacked_flares = pd.DataFrame(data=dict_i) \n",
    "#stacked_flares.to_csv(r'stacked_flare_values.csv',header=True,index=True)"
   ]
  },
  {
   "cell_type": "code",
   "execution_count": null,
   "metadata": {},
   "outputs": [],
   "source": [
    "#stacked_flare_vals=pd.read_csv('stacked_flare_values.csv')"
   ]
  },
  {
   "cell_type": "code",
   "execution_count": null,
   "metadata": {},
   "outputs": [],
   "source": [
    "s_all = np.argsort(x_all)\n",
    "jim_model = aflare1(x_all,0,1,1)\n",
    "plt.scatter(x_all,y_all,alpha=.07,s=10,marker='.')\n",
    "plt.ylim(-0.4,1.05)\n",
    "plt.plot(x_all[s_all],jim_model[s_all],color='red')  \n",
    "plt.xlabel('Time')\n",
    "plt.ylabel('Relative Flux')\n",
    "\n",
    "#plt.legend(bbox_to_anchor=(1.05, 1), loc='upper left', borderaxespad=0.)"
   ]
  },
  {
   "cell_type": "code",
   "execution_count": null,
   "metadata": {},
   "outputs": [],
   "source": [
    "#plot of the gp uncertainty in our detrended data\n",
    "plt.scatter(x_all,gp_st_dev,alpha=.05,s=10,marker='.')\n",
    "plt.ylim(0,.2)"
   ]
  },
  {
   "cell_type": "markdown",
   "metadata": {},
   "source": [
    "Below is the flux error from the gp. We expect it to be a straight line centered at zero, however there is some variance between 0-0.3"
   ]
  },
  {
   "cell_type": "code",
   "execution_count": null,
   "metadata": {},
   "outputs": [],
   "source": [
    "#plot the rolling mean and y_err\n",
    "\n",
    "plt.scatter(x_all,y_err,alpha=.05,s=8,marker='.')\n",
    "#plt.ylim(0,1)"
   ]
  },
  {
   "cell_type": "code",
   "execution_count": null,
   "metadata": {},
   "outputs": [],
   "source": [
    "#plotting the variance of the st_dev (which is just the st_dev squared?)\n",
    "plt.scatter(x_all,gp_st_dev**2,alpha=.05,s=10,marker='.')\n",
    "plt.ylim(0,.2)"
   ]
  },
  {
   "cell_type": "markdown",
   "metadata": {},
   "source": [
    "### Fitting the Model"
   ]
  },
  {
   "cell_type": "markdown",
   "metadata": {},
   "source": [
    "Importing in the new continuous model"
   ]
  },
  {
   "cell_type": "code",
   "execution_count": null,
   "metadata": {},
   "outputs": [],
   "source": [
    "'''\n",
    "Now lets combine the two functions into one continuous analytic flare model\n",
    "\n",
    "    Parameters (similar as Davenport 2014 aflare1 model)\n",
    "    ----------\n",
    "    t : 1-d array\n",
    "        The time array to evaluate the flare over\n",
    "    t_0 : float\n",
    "        The time of the flare peak\n",
    "    sig/tau : float\n",
    "        The \"Full Width at Half Maximum\", timescale of the flare\n",
    "    A/amp : float\n",
    "        The amplitude of the flare\n",
    "    Returns\n",
    "    -------\n",
    "    flare : 1-d array\n",
    "        The flux of the flare model evaluated at each time\n",
    "\n",
    "'''\n",
    "def gaussian(t,A, t_0, sig):\n",
    "    return A*np.exp((-(t-t_0)**2) / (2*sig**2))\n",
    "def double_exp(t,amp1,t_01,tau1,amp2,t_02,tau2):\n",
    "    return amp1*np.exp((-(t-t_01)/tau1)) + amp2*np.exp((-(t-t_02)/tau2))\n",
    "\n",
    "def single_exp(t,amp):\n",
    "    return amp*np.exp(-t)\n",
    "\n",
    "def single_flare_model(t,A,t_0,sig,amp):\n",
    "    template = (gaussian(t,A,t_0,sig)) * (single_exp(t,amp))\n",
    "    return template\n",
    "\n",
    "def flare_model(t,A,t_0,sig,amp1,t_01,tau1,amp2,t_02,tau2):\n",
    "    flare = (gaussian(t,A,t_0,sig)) * (double_exp(t,amp1,t_01,tau1,amp2,t_02,tau2))\n",
    "    return flare"
   ]
  },
  {
   "cell_type": "markdown",
   "metadata": {},
   "source": [
    "Plotting the new model with some arbituary values to show it reads in the time array"
   ]
  },
  {
   "cell_type": "code",
   "execution_count": null,
   "metadata": {},
   "outputs": [],
   "source": [
    "new_model = flare_model(x_all,0.3,0,1,1,0,1,1,0,1)\n",
    "#flare_model(x_all,0.3,0,1,1,0,1,1,0,1)\n",
    "#plt.scatter(x_all,y_all,alpha=.07,s=10,marker='.')\n",
    "plt.plot(x_all[s_all],new_model[s_all],color='orange')\n",
    "plt.plot(x_all[s_all],jim_model[s_all],color='red') \n",
    "#plt.ylim(-0.4,1.05)"
   ]
  },
  {
   "cell_type": "code",
   "execution_count": null,
   "metadata": {},
   "outputs": [],
   "source": [
    "single_exp_model = single_flare_model(x_all,0.6,0,1,1)\n",
    "#flare_model(x_all,0.3,0,1,1,0,1,1,0,1)\n",
    "#plt.scatter(x_all,y_all,alpha=.07,s=10,marker='.')\n",
    "plt.plot(x_all[s_all],single_exp_model[s_all],color='orange')\n",
    "plt.plot(x_all[s_all],jim_model[s_all],color='red') "
   ]
  },
  {
   "cell_type": "code",
   "execution_count": null,
   "metadata": {},
   "outputs": [],
   "source": [
    "#ans, err = quad(single_integrand, 0, 1)\n",
    "#print(ans)"
   ]
  },
  {
   "cell_type": "markdown",
   "metadata": {},
   "source": [
    "Solution to the convolution of a gaussian and a single exponential from Gryciuk et al 2017:https://ui.adsabs.harvard.edu/abs/2017SoPh..292...77G/abstract"
   ]
  },
  {
   "cell_type": "code",
   "execution_count": null,
   "metadata": {},
   "outputs": [],
   "source": [
    "from scipy import special\n",
    "def integral_sol(t,a,b,c,d):\n",
    "    z = ((2*b + c**2 *d)/(2*c))\n",
    "    f_t = (1/2) * np.sqrt(np.pi) * a * c * np.exp(d*(b-t) + ((c**2 * d**2)/4))*(special.erf(z) - special.erf(z - (t/c)))\n",
    "    return f_t"
   ]
  },
  {
   "cell_type": "code",
   "execution_count": null,
   "metadata": {},
   "outputs": [],
   "source": [
    "plt.plot(x_all[s_all],integral_sol(x_all,1.4,3,1,1)[s_all])\n",
    "plt.plot(x_all[s_all],jim_model[s_all],color='red')"
   ]
  },
  {
   "cell_type": "markdown",
   "metadata": {},
   "source": [
    "Solution to the convolution of a gaussian and a double exponential: https://en.m.wikipedia.org/wiki/Convolution"
   ]
  },
  {
   "cell_type": "code",
   "execution_count": null,
   "metadata": {},
   "outputs": [],
   "source": [
    "def integral_sol2(t,a,b,c,t01,t02,tau1,tau2,g,f):\n",
    "    j = (((2*(t-b)*tau2) + c**2)/(2*c*tau2))\n",
    "    k = (((2*b*tau2) + c**2)/(2*c*tau2))\n",
    "    m = (((2*(t-b)*tau1) + c**2)/(2*c*tau1))\n",
    "    n = (((2*b*tau1) - c**2)/(2*c*tau1))\n",
    "    f_t2 = (1/2) * np.sqrt(np.pi) * a * c * np.exp(-((b*tau2+tau1)/(tau1*tau2))) * ((g*np.exp(((4*b*tau2**2) + (4*t02*tau1*tau2) + (c**2*tau1))/(4*tau1*tau2**2))*(special.erf(j) + special.erf(k)))+ (f*(special.erf(m) + special.erf(n))*np.exp((((4*t01*tau1) + c**2)*(tau2+(4*b*tau1**2))/(4*tau1**2*tau2)))))\n",
    "    return f_t2"
   ]
  },
  {
   "cell_type": "code",
   "execution_count": null,
   "metadata": {},
   "outputs": [],
   "source": [
    "plt.plot(x_all[s_all],integral_sol2(x_all,.3,0.3,1,0,0,1,1,1,1)[s_all])\n",
    "plt.plot(x_all[s_all],jim_model[s_all],color='red')\n",
    "\n",
    "\n",
    "#t,A,t_0,sig,amp1,t_01,tau1,amp2,t_02,tau2\n",
    " #x_all,0.3,0,1,1,0,1,1,0,1"
   ]
  },
  {
   "cell_type": "markdown",
   "metadata": {},
   "source": [
    "Model used in Jackman paper"
   ]
  },
  {
   "cell_type": "code",
   "execution_count": null,
   "metadata": {},
   "outputs": [],
   "source": [
    "def jackman(t,A,B,C,D1,D2,f1):\n",
    "    z1 = ((2*B + (C**2 *D1))/(2*C))\n",
    "    z2 = ((2*B + C**2 *D2)/(2*C))\n",
    "    f2 = 1-f1\n",
    "    f_t2 = (1/2) * np.sqrt(np.pi) * A * C * ((f1 * np.exp((D1*(B-t)) + ((C**2 * D1**2)/4))*(special.erf(z1) - special.erf(z1 - (t/C)))) \n",
    "                                             + (f2 * np.exp((D2*(B-t)) + ((C**2 * D2**2)/4))*(special.erf(z2) - special.erf(z2 - (t/C)))))\n",
    "    return f_t2\n",
    "\n",
    "#D1 & D2 - gives the tail slope (influence decay)\n",
    "#A&C influence the amplitude\n",
    "#B shifts left and right (but also affects the rise phase A LOT)\n",
    "#f1 barely affects the decay slope (have made this number positive and negative and the diffs are minimal)"
   ]
  },
  {
   "cell_type": "code",
   "execution_count": null,
   "metadata": {},
   "outputs": [],
   "source": [
    "#plt.plot(x_all[s_all],jackman(x_all,6.5,.3,.1,1,1,-0.9)[s_all],label='Jackman')\n",
    "plt.plot(x_all[s_all],jackman(x_all,57,.03,.01,.9,.9,-2)[s_all],label='Jackman')\n",
    "plt.plot(x_all[s_all],jackman(x_all,6.7,.26,.1,1,1,2)[s_all],label='Jackman2')\n",
    "plt.plot(x_all[s_all],jim_model[s_all],color='red',label='Jim')\n",
    "plt.xlim(-4,5)\n",
    "plt.legend()"
   ]
  },
  {
   "cell_type": "code",
   "execution_count": null,
   "metadata": {},
   "outputs": [],
   "source": [
    "def gaussian(t,A, t_0, sig):\n",
    "    return A*np.exp((-(t-t_0)**2) / (2*sig**2))\n",
    "def double_exp(t,amp1,t_01,tau1,amp2,t_02,tau2):\n",
    "    return amp1*np.exp((-(t-t_01)/tau1)) + amp2*np.exp((-(t-t_02)/tau2))\n",
    "\n",
    "def single_exp(t,amp,tau):\n",
    "    return amp*np.exp(-t/tau)"
   ]
  },
  {
   "cell_type": "markdown",
   "metadata": {},
   "source": [
    "Comparing the integral result to numpy.convolve result"
   ]
  },
  {
   "cell_type": "code",
   "execution_count": null,
   "metadata": {},
   "outputs": [],
   "source": [
    "gauss = gaussian(x_all,1,0,1)\n",
    "doub_exp = double_exp(x_all,.01,.1,1,.01,1,1)\n",
    "one_exp = single_exp(x_all,.03,1)\n",
    "convolved = np.convolve(gauss[s_all],doub_exp[s_all],'same')\n",
    "single_convolved = np.convolve(one_exp[s_all],gauss[s_all],'same')"
   ]
  },
  {
   "cell_type": "code",
   "execution_count": null,
   "metadata": {},
   "outputs": [],
   "source": [
    "#plt.plot(x_all[s_all],convolved[s_all])\n",
    "#plt.plot(convolved)\n",
    "#plt.plot(x_all[s_all],gauss[s_all])\n",
    "#plt.plot(x_all[s_all],doub_exp[s_all])\n",
    "#plt.plot(x_all[s_all],one_exp[s_all])\n",
    "plt.plot(x_all[s_all],convolved)\n",
    "plt.plot(x_all[s_all],single_convolved)\n",
    "#plt.ylim(0,5)"
   ]
  },
  {
   "cell_type": "markdown",
   "metadata": {},
   "source": [
    "Modified Gaussian function, meaning the result of convolving a gaussian with an expoential decay that starts at t=0\n",
    "https://en.wikipedia.org/wiki/Exponentially_modified_Gaussian_distribution"
   ]
  },
  {
   "cell_type": "code",
   "execution_count": null,
   "metadata": {},
   "outputs": [],
   "source": [
    "def ModifiedGaussian(t,A,mu,sigma,tau):\n",
    "        x = 1./(2.*tau) * np.exp(.5*(sigma/tau)**2) * np.exp(- (t-mu)/tau)\n",
    "        s = A*x*( 1. + special.erf((t-mu-sigma**2/tau)/np.sqrt(2*sigma**2)))\n",
    "        return s"
   ]
  },
  {
   "cell_type": "code",
   "execution_count": null,
   "metadata": {},
   "outputs": [],
   "source": [
    "plt.plot(x_all[s_all],ModifiedGaussian(x_all,3,0,.05,2.85)[s_all])\n",
    "plt.plot(x_all[s_all],jim_model[s_all],color='red')\n",
    "plt.xlim(-1,1)\n",
    "#plt.legend()"
   ]
  },
  {
   "cell_type": "markdown",
   "metadata": {},
   "source": [
    "### Now we fit for the parameters"
   ]
  },
  {
   "cell_type": "code",
   "execution_count": null,
   "metadata": {},
   "outputs": [],
   "source": [
    "from scipy.optimize import least_squares,curve_fit, minimize\n"
   ]
  },
  {
   "cell_type": "code",
   "execution_count": null,
   "metadata": {},
   "outputs": [],
   "source": [
    "#limiting the range of the x_all array to [-1,5]\n",
    "#print(len(x_all))\n",
    "#print(len(y_all))\n",
    "#lim_xs=np.where((x_all > -1) & (x_all <5))[0]\n",
    "#lim_ys = np.where((y_all > -0.15) & (y_all < 1.05))[0]\n",
    "lim_xy = np.where((x_all > -1) & (x_all <5) & (y_all > -0.15) & (y_all < 1.05))[0]\n",
    "#print(len(x_all[lim_xs]))\n",
    "#print(len(y_all[lim_ys]))\n",
    "\n",
    "x_all_lim = x_all[lim_xy]\n",
    "y_all_lim = y_all[lim_xy]\n",
    "\n",
    "#x_all_ylim = x_all[lim_ys]\n",
    "#y_all_ylim = y_all[lim_ys]\n",
    "#print(len(x_all_lim))\n",
    "xysorter = np.argsort(x_all_lim)\n",
    "#xsorter = np.argsort(x_all_xlim)\n",
    "#ysorter = np.argsort(x_all_ylim)"
   ]
  },
  {
   "cell_type": "markdown",
   "metadata": {},
   "source": [
    "## Fitting the double exponential"
   ]
  },
  {
   "cell_type": "code",
   "execution_count": null,
   "metadata": {},
   "outputs": [],
   "source": [
    "#fitting using Jackman model (double exponential)\n",
    "jackman_model = jackman(x_all,57,.03,.01,.9,.9,-2)[xysorter]\n",
    "\n",
    "#jackman_model = jackman(x_all_ylim,0.02675881, 6.62072363, 6.51545681, 0.96707504, 0.92314355, -6.28890682)[ysorter]\n",
    "init_vals = [57,.03,.01,.9,.9,-2]  \n",
    "#init_vals = [0.02675881, 6.62072363, 6.51545681, 0.96707504, 0.92314355, -6.28890682] \n",
    "jack_best_vals, jack_covar = curve_fit(jackman, x_all_lim[xysorter], y_all_lim[xysorter], p0=init_vals,maxfev=10000)\n",
    "print('best_vals: {}'.format(jack_best_vals))"
   ]
  },
  {
   "cell_type": "code",
   "execution_count": null,
   "metadata": {},
   "outputs": [],
   "source": [
    "#plt.figure(figsize=(6, 4))\n",
    "plt.scatter(x_all_lim[xysorter],y_all_lim[xysorter],alpha=.07,s=10,marker='.',label='Data')\n",
    "plt.plot(x_all_lim[xysorter], jackman(x_all_lim[xysorter],*jack_best_vals),label='Fit',color='red')\n",
    "\n",
    "plt.plot(x_all_lim[xysorter], jackman(x_all_lim[xysorter], *init_vals),color='orange',label='init_vals')\n",
    "\n",
    "plt.legend(loc='best')\n",
    "#plt.ylim(-0.25,1.05)\n",
    "plt.show()"
   ]
  },
  {
   "cell_type": "markdown",
   "metadata": {},
   "source": [
    "#### Testing out the fit using bounds & photometric errors"
   ]
  },
  {
   "cell_type": "code",
   "execution_count": null,
   "metadata": {},
   "outputs": [],
   "source": [
    "#trying out bounds in curvefit\n",
    "\n",
    "jackman_model = jackman(x_all,6.24809994e+01,  1.39618218e-02,  4.53257289e-03,  9.00039771e-01,8.99778040e-01, -2.26811923e+03)[xysorter]\n",
    "#jackman_model = jackman(x_all_ylim,0.02675881, 6.62072363, 6.51545681, 0.96707504, 0.92314355, -6.28890682)[ysorter]\n",
    "#init_vals = [6.5,.3,.1,1,1,-0.5]  \n",
    "init_vals = [6.24809994e+01,  1.39618218e-02,  4.53257289e-03,  9.00039771e-01,8.99778040e-01, -2.26811923e+03] \n",
    "jack_best_vals, jack_covar = curve_fit(jackman,  x_all_lim[xysorter], y_all_lim[xysorter],  bounds = ((6.24809994e+01,  1.39618218e-02,  4.53257289e-03,  9.00039771e-01,8.99778040e-01, -2.26811923e+03),(70,.03,.01,1,1,-2)),sigma=y_err[lim_xy])\n",
    "print('best_vals: {}'.format(jack_best_vals))\n",
    "\n",
    "#x bounds: 0.04562397   5.5760833    6.76383529   1.08299982   0.83006122  -20.82625395\n",
    "#y bounds: 0.02641687  6.62134634  6.50814028  0.9669539   0.92302551 -6.28933267\n",
    "\n",
    "plt.scatter(x_all_lim[xysorter],y_all_lim[xysorter],alpha=.07,s=10,marker='.',label='Data')\n",
    "plt.plot(x_all_lim[xysorter], jackman(x_all_lim[xysorter],*jack_best_vals) ,\n",
    "         label='Fit',color='red')\n",
    "#plt.plot(x_all_lim[xysorter], jackman(x_all_lim[xysorter], *init_vals),color='orange')\n",
    "\n",
    "plt.legend(loc='best')\n",
    "plt.ylim(-0.25,1.05)\n",
    "plt.show()"
   ]
  },
  {
   "cell_type": "markdown",
   "metadata": {},
   "source": [
    "## Fiiting the single exponential"
   ]
  },
  {
   "cell_type": "code",
   "execution_count": null,
   "metadata": {},
   "outputs": [],
   "source": [
    "#fitting using single exponential\n",
    "#modified_model = ModifiedGaussian(x_all_lim,3,0,.05,2.85)[xysorter]\n",
    "modified_model = ModifiedGaussian(x_all_lim,1.52463877, -0.35834599, -0.18916754,  2.18883967)[xysorter]\n",
    "mod_init_vals =[1.52463877, -0.35834599, -0.18916754,  2.18883967]\n",
    "mod_best_vals, mod_covar = curve_fit(ModifiedGaussian, x_all_lim[xysorter], y_all_lim[xysorter],p0=mod_init_vals,sigma=y_err[lim_xy])\n",
    "print('best_vals: {}'.format(mod_best_vals))"
   ]
  },
  {
   "cell_type": "code",
   "execution_count": null,
   "metadata": {},
   "outputs": [],
   "source": [
    "plt.scatter(x_all_lim[xysorter],y_all_lim[xysorter],alpha=.07,s=10,marker='.',label='Data')\n",
    "plt.plot(x_all_lim[xysorter], ModifiedGaussian(x_all_lim[xysorter],*mod_best_vals) ,\n",
    "         label='Fitted function',color='red')\n",
    "\n",
    "plt.legend(loc='best')\n",
    "plt.ylim(-0.25,1.05)\n",
    "plt.show()"
   ]
  },
  {
   "cell_type": "markdown",
   "metadata": {},
   "source": [
    "#### Testing out the fit using bounds & photometric errors"
   ]
  },
  {
   "cell_type": "code",
   "execution_count": null,
   "metadata": {},
   "outputs": [],
   "source": [
    "#fitting with bounds that are based on the best fit values that were calculated using x&ylims\n",
    "modified_model = ModifiedGaussian(x_all_lim,3,0,.05,2.85)[xysorter]\n",
    "#mod_init_vals =[453.72458194, -107.91905345,  263.19153402,  436.28711402]\n",
    "#mod_init_vals =[-33482.97946148,  204.6003791,   574.73593843, -78697.53865734]\n",
    "\n",
    "\n",
    "#y bounds -33482.97946148    204.6003791     574.73593843 -78697.53865734\n",
    "#x bounds -61222.51973875    563.89092049    992.84654422 -42925.53571468\n",
    "\n",
    "mod_best_vals, mod_covar = curve_fit(ModifiedGaussian, x_all_lim[xysorter], y_all_lim[xysorter],\n",
    "                                                                 bounds =((1.52525575, -0.35800783, -0.18889691, 2.19077624),(2,-.2,-.05,3)),sigma=y_err[lim_xy])\n",
    "print('best_vals: {}'.format(mod_best_vals))\n",
    "\n",
    "plt.scatter(x_all_lim[xysorter],y_all_lim[xysorter],alpha=.07,s=10,marker='.',label='Data')\n",
    "plt.plot(x_all_lim[xysorter], ModifiedGaussian(x_all_lim[xysorter],*mod_best_vals) ,\n",
    "         label='Fitted function',color='red')\n",
    "\n",
    "plt.legend(loc='best')\n",
    "plt.ylim(-0.25,1.05)\n",
    "plt.show()"
   ]
  },
  {
   "cell_type": "markdown",
   "metadata": {},
   "source": [
    "### Troubleshooting bounds of the fit"
   ]
  },
  {
   "cell_type": "code",
   "execution_count": null,
   "metadata": {},
   "outputs": [],
   "source": [
    "# time window of like -1 to 2 in x\n",
    "# try just fitting certain sections of the data - like from -1 to 0.01, or -0.01 to 2\n",
    "\n",
    "\n",
    "lim_xy = np.where((x_all > -.1) & (x_all <.1) & (y_all > -0.15) & (y_all < 1.05))[0]\n",
    "\n",
    "x_all_lim = x_all[lim_xy]\n",
    "y_all_lim = y_all[lim_xy]\n",
    "xysorter = np.argsort(x_all_lim)"
   ]
  },
  {
   "cell_type": "markdown",
   "metadata": {},
   "source": [
    "#### Double exponential"
   ]
  },
  {
   "cell_type": "code",
   "execution_count": null,
   "metadata": {},
   "outputs": [],
   "source": [
    "#This is the fit when I limit x (-1,2)\n",
    "\n",
    "jackman_model = jackman(x_all,6.24809994e+01,  1.39618218e-02,  4.53257289e-03,  9.00039771e-01,8.99778040e-01, -2.26811923e+03)[xysorter]\n",
    "#jackman_model = jackman(x_all_ylim,0.02675881, 6.62072363, 6.51545681, 0.96707504, 0.92314355, -6.28890682)[ysorter]\n",
    "#init_vals = [6.5,.3,.1,1,1,-0.5]  \n",
    "init_vals = [6.24809994e+01,  1.39618218e-02,  4.53257289e-03,  9.00039771e-01,8.99778040e-01, -2.26811923e+03] \n",
    "jack_best_vals, jack_covar = curve_fit(jackman,  x_all_lim[xysorter], y_all_lim[xysorter],p0=init_vals,  bounds = ((6.24809994e+01,  1.39618218e-02,  4.53257289e-03,  9.00039771e-01,8.99778040e-01, -2.26811923e+03),(70,.03,.01,1,1,-2)),sigma=y_err[lim_xy])\n",
    "print('best_vals: {}'.format(jack_best_vals))\n",
    "\n",
    "#plt.figure(figsize=(6, 4))\n",
    "plt.scatter(x_all_lim[xysorter],y_all_lim[xysorter],alpha=.07,s=10,marker='.',label='Data')\n",
    "plt.plot(x_all_lim[xysorter], jackman(x_all_lim[xysorter],*jack_best_vals),label='Fit',color='red')\n",
    "\n",
    "plt.plot(x_all_lim[xysorter], jackman(x_all_lim[xysorter], *init_vals),color='orange',label='init_vals')\n",
    "\n",
    "plt.legend(loc='best')\n",
    "#plt.ylim(-0.25,1.05)\n",
    "plt.show()"
   ]
  },
  {
   "cell_type": "code",
   "execution_count": null,
   "metadata": {},
   "outputs": [],
   "source": [
    "#This is the fit when I limit x (-1,0.01)\n",
    "\n",
    "jackman_model = jackman(x_all,6.24809994e+01,  1.39618218e-02,  4.53257289e-03,  9.00039771e-01,8.99778040e-01, -2.26811923e+03)[xysorter]\n",
    "#jackman_model = jackman(x_all_ylim,0.02675881, 6.62072363, 6.51545681, 0.96707504, 0.92314355, -6.28890682)[ysorter]\n",
    "#init_vals = [6.5,.3,.1,1,1,-0.5]  \n",
    "init_vals = [6.24809994e+01,  1.39618218e-02,  4.53257289e-03,  9.00039771e-01,8.99778040e-01, -2.26811923e+03] \n",
    "jack_best_vals, jack_covar = curve_fit(jackman,  x_all_lim[xysorter], y_all_lim[xysorter],p0=init_vals,  bounds = ((6.24809994e+01,  1.39618218e-02,  4.53257289e-03,  9.00039771e-01,8.99778040e-01, -2.26811923e+03),(70,.03,.01,1,1,-2)),sigma=y_err[lim_xy])\n",
    "print('best_vals: {}'.format(jack_best_vals))\n",
    "\n",
    "#plt.figure(figsize=(6, 4))\n",
    "plt.scatter(x_all_lim[xysorter],y_all_lim[xysorter],alpha=.07,s=10,marker='.',label='Data')\n",
    "plt.plot(x_all_lim[xysorter], jackman(x_all_lim[xysorter],*jack_best_vals),label='Fit',color='red')\n",
    "\n",
    "plt.plot(x_all_lim[xysorter], jackman(x_all_lim[xysorter], *init_vals),color='orange',label='init_vals')\n",
    "\n",
    "plt.legend(loc='best')\n",
    "#plt.ylim(-0.25,1.05)\n",
    "plt.show()"
   ]
  },
  {
   "cell_type": "code",
   "execution_count": null,
   "metadata": {},
   "outputs": [],
   "source": [
    "#This is the fit when I limit x (-0.01,2)\n",
    "\n",
    "jackman_model = jackman(x_all,6.24809994e+01,  1.39618218e-02,  4.53257289e-03,  9.00039771e-01,8.99778040e-01, -2.26811923e+03)[xysorter]\n",
    "#jackman_model = jackman(x_all_ylim,0.02675881, 6.62072363, 6.51545681, 0.96707504, 0.92314355, -6.28890682)[ysorter]\n",
    "#init_vals = [6.5,.3,.1,1,1,-0.5]  \n",
    "init_vals = [6.24809994e+01,  1.39618218e-02,  4.53257289e-03,  9.00039771e-01,8.99778040e-01, -2.26811923e+03] \n",
    "jack_best_vals, jack_covar = curve_fit(jackman,  x_all_lim[xysorter], y_all_lim[xysorter],p0=init_vals,  bounds = ((6.24809994e+01,  1.39618218e-02,  4.53257289e-03,  9.00039771e-01,8.99778040e-01, -2.26811923e+03),(70,.03,.01,1,1,-2)),sigma=y_err[lim_xy])\n",
    "print('best_vals: {}'.format(jack_best_vals))\n",
    "\n",
    "#plt.figure(figsize=(6, 4))\n",
    "plt.scatter(x_all_lim[xysorter],y_all_lim[xysorter],alpha=.07,s=10,marker='.',label='Data')\n",
    "plt.plot(x_all_lim[xysorter], jackman(x_all_lim[xysorter],*jack_best_vals),label='Fit',color='red')\n",
    "\n",
    "plt.plot(x_all_lim[xysorter], jackman(x_all_lim[xysorter], *init_vals),color='orange',label='init_vals')\n",
    "\n",
    "plt.legend(loc='best')\n",
    "#plt.ylim(-0.25,1.05)\n",
    "plt.show()"
   ]
  },
  {
   "cell_type": "code",
   "execution_count": null,
   "metadata": {},
   "outputs": [],
   "source": [
    "#This is the fit when I limit x (-.1,.1) with bounds\n",
    "\n",
    "jackman_model = jackman(x_all,6.24809994e+01,  1.39618218e-02,  4.53257289e-03,  9.00039771e-01,8.99778040e-01, -2.26811923e+03)[xysorter]\n",
    "#jackman_model = jackman(x_all_ylim,0.02675881, 6.62072363, 6.51545681, 0.96707504, 0.92314355, -6.28890682)[ysorter]\n",
    "#init_vals = [6.5,.3,.1,1,1,-0.5]  \n",
    "init_vals = [6.24809994e+01,  1.39618218e-02,  4.53257289e-03,  9.00039771e-01,8.99778040e-01, -2.26811923e+03] \n",
    "jack_best_vals, jack_covar = curve_fit(jackman,  x_all_lim[xysorter], y_all_lim[xysorter],p0=init_vals,  bounds = ((6.24809994e+01,  1.39618218e-02,  4.53257289e-03,  9.00039771e-01,8.99778040e-01, -2.26811923e+03),(70,.03,.01,1,1,-2)),sigma=y_err[lim_xy])\n",
    "print('best_vals: {}'.format(jack_best_vals))\n",
    "\n",
    "#plt.figure(figsize=(6, 4))\n",
    "plt.scatter(x_all_lim[xysorter],y_all_lim[xysorter],alpha=.07,s=10,marker='.',label='Data')\n",
    "plt.plot(x_all_lim[xysorter], jackman(x_all_lim[xysorter],*jack_best_vals),label='Fit',color='red')\n",
    "\n",
    "plt.plot(x_all_lim[xysorter], jackman(x_all_lim[xysorter], *init_vals),color='orange',label='init_vals')\n",
    "\n",
    "plt.legend(loc='best')\n",
    "#plt.ylim(-0.25,1.05)\n",
    "plt.show()"
   ]
  },
  {
   "cell_type": "code",
   "execution_count": null,
   "metadata": {},
   "outputs": [],
   "source": [
    "#This is the fit when I limit x (-.1,.1) without bounds\n",
    "\n",
    "jackman_model = jackman(x_all,6.24809994e+01,  1.39618218e-02,  4.53257289e-03,  9.00039771e-01,8.99778040e-01, -2.26811923e+03)[xysorter]\n",
    "#jackman_model = jackman(x_all_ylim,0.02675881, 6.62072363, 6.51545681, 0.96707504, 0.92314355, -6.28890682)[ysorter]\n",
    "#init_vals = [6.5,.3,.1,1,1,-0.5]  \n",
    "init_vals = [6.24809994e+01,  1.39618218e-02,  4.53257289e-03,  9.00039771e-01,8.99778040e-01, -2.26811923e+03] \n",
    "jack_best_vals, jack_covar = curve_fit(jackman,  x_all_lim[xysorter], y_all_lim[xysorter],p0=init_vals,sigma=y_err[lim_xy])\n",
    "print('best_vals: {}'.format(jack_best_vals))\n",
    "\n",
    "#plt.figure(figsize=(6, 4))\n",
    "plt.scatter(x_all_lim[xysorter],y_all_lim[xysorter],alpha=.07,s=10,marker='.',label='Data')\n",
    "plt.plot(x_all_lim[xysorter], jackman(x_all_lim[xysorter],*jack_best_vals),label='Fit',color='red')\n",
    "\n",
    "plt.plot(x_all_lim[xysorter], jackman(x_all_lim[xysorter], *init_vals),color='orange',label='init_vals')\n",
    "\n",
    "plt.legend(loc='best')\n",
    "#plt.ylim(-0.25,1.05)\n",
    "plt.show()"
   ]
  },
  {
   "cell_type": "markdown",
   "metadata": {},
   "source": [
    "#### Single Exponential"
   ]
  },
  {
   "cell_type": "code",
   "execution_count": null,
   "metadata": {},
   "outputs": [],
   "source": [
    "#This is the fit when I limit x (-1,2)\n",
    "modified_model = ModifiedGaussian(x_all_lim,1.52525575, -0.35800783, -0.05 ,2.19077624)[xysorter]\n",
    "mod_init_vals =[1.52525575, -0.35800783, -0.05 ,2.19077624]\n",
    "mod_best_vals, mod_covar = curve_fit(ModifiedGaussian, x_all_lim[xysorter], y_all_lim[xysorter],p0=mod_init_vals,\n",
    "                                                                 bounds =((1.52525575, -0.35800783, -0.18889691, 2.19077624),(2,-.2,-.05,3)),sigma=y_err[lim_xy])\n",
    "print('best_vals: {}'.format(mod_best_vals))\n",
    "\n",
    "plt.scatter(x_all_lim[xysorter],y_all_lim[xysorter],alpha=.07,s=10,marker='.',label='Data')\n",
    "plt.plot(x_all_lim[xysorter], ModifiedGaussian(x_all_lim[xysorter],*mod_best_vals) ,\n",
    "         label='Fitted function',color='red')\n",
    "\n",
    "plt.plot(x_all_lim[xysorter], jackman(x_all_lim[xysorter], *init_vals),color='orange',label='init_vals')\n",
    "\n",
    "plt.legend(loc='best')\n",
    "plt.ylim(-0.25,1.05)\n",
    "plt.show()"
   ]
  },
  {
   "cell_type": "code",
   "execution_count": null,
   "metadata": {},
   "outputs": [],
   "source": [
    "#This is the fit when I limit x (-1,0.01)\n",
    "modified_model = ModifiedGaussian(x_all_lim,1.52525575, -0.35800783, -0.05 ,2.19077624)[xysorter]\n",
    "mod_init_vals =[1.52525575, -0.35800783, -0.05 ,2.19077624]\n",
    "mod_best_vals, mod_covar = curve_fit(ModifiedGaussian, x_all_lim[xysorter], y_all_lim[xysorter],p0=mod_init_vals,\n",
    "                                                                 bounds =((1.52525575, -0.35800783, -0.18889691, 2.19077624),(2,-.2,-.05,3)),sigma=y_err[lim_xy])\n",
    "print('best_vals: {}'.format(mod_best_vals))\n",
    "\n",
    "plt.scatter(x_all_lim[xysorter],y_all_lim[xysorter],alpha=.07,s=10,marker='.',label='Data')\n",
    "plt.plot(x_all_lim[xysorter], ModifiedGaussian(x_all_lim[xysorter],*mod_best_vals) ,\n",
    "         label='Fitted function',color='red')\n",
    "\n",
    "plt.plot(x_all_lim[xysorter], jackman(x_all_lim[xysorter], *init_vals),color='orange',label='init_vals')\n",
    "\n",
    "plt.legend(loc='best')\n",
    "plt.ylim(-0.25,1.05)\n",
    "plt.show()"
   ]
  },
  {
   "cell_type": "code",
   "execution_count": null,
   "metadata": {},
   "outputs": [],
   "source": [
    "#This is the fit when I limit x (-0.01,2)\n",
    "modified_model = ModifiedGaussian(x_all_lim,1.52525575, -0.35800783, -0.05 ,2.19077624)[xysorter]\n",
    "mod_init_vals =[1.52525575, -0.35800783, -0.05 ,2.19077624]\n",
    "mod_best_vals, mod_covar = curve_fit(ModifiedGaussian, x_all_lim[xysorter], y_all_lim[xysorter],p0=mod_init_vals,\n",
    "                                                                 bounds =((1.52525575, -0.35800783, -0.18889691, 2.19077624),(2,-.2,-.05,3)),sigma=y_err[lim_xy])\n",
    "print('best_vals: {}'.format(mod_best_vals))\n",
    "\n",
    "plt.scatter(x_all_lim[xysorter],y_all_lim[xysorter],alpha=.07,s=10,marker='.',label='Data')\n",
    "plt.plot(x_all_lim[xysorter], ModifiedGaussian(x_all_lim[xysorter],*mod_best_vals) ,\n",
    "         label='Fitted function',color='red')\n",
    "\n",
    "plt.plot(x_all_lim[xysorter], jackman(x_all_lim[xysorter], *init_vals),color='orange',label='init_vals')\n",
    "\n",
    "plt.legend(loc='best')\n",
    "plt.ylim(-0.25,1.05)\n",
    "plt.show()"
   ]
  },
  {
   "cell_type": "code",
   "execution_count": null,
   "metadata": {},
   "outputs": [],
   "source": [
    "#This is the fit when I limit x (-0.1,.1)\n",
    "modified_model = ModifiedGaussian(x_all_lim,1.52525575, -0.35800783, -0.05 ,2.19077624)[xysorter]\n",
    "mod_init_vals =[1.52525575, -0.35800783, -0.05 ,2.19077624]\n",
    "mod_best_vals, mod_covar = curve_fit(ModifiedGaussian, x_all_lim[xysorter], y_all_lim[xysorter],p0=mod_init_vals,\n",
    "                                                                 bounds =((1.52525575, -0.35800783, -0.18889691, 2.19077624),(2,-.01,-.05,3)),sigma=y_err[lim_xy])\n",
    "print('best_vals: {}'.format(mod_best_vals))\n",
    "\n",
    "plt.scatter(x_all_lim[xysorter],y_all_lim[xysorter],alpha=.07,s=10,marker='.',label='Data')\n",
    "plt.plot(x_all_lim[xysorter], ModifiedGaussian(x_all_lim[xysorter],*mod_best_vals) ,\n",
    "         label='Fitted function',color='red')\n",
    "\n",
    "plt.plot(x_all_lim[xysorter], jackman(x_all_lim[xysorter], *init_vals),color='orange',label='init_vals')\n",
    "\n",
    "plt.legend(loc='best')\n",
    "plt.ylim(-0.25,1.05)\n",
    "plt.show()"
   ]
  },
  {
   "cell_type": "code",
   "execution_count": null,
   "metadata": {},
   "outputs": [],
   "source": [
    "#This is the fit when I limit x (-0.1,.1) no bounds\n",
    "modified_model = ModifiedGaussian(x_all_lim,0.17056828, -0.03996861, -0.05410323,  0.05788997)[xysorter]\n",
    "mod_init_vals =[0.17056828, -0.03996861, -0.05410323,  0.05788997]\n",
    "mod_best_vals, mod_covar = curve_fit(ModifiedGaussian, x_all_lim[xysorter], y_all_lim[xysorter],p0=mod_init_vals,sigma=y_err[lim_xy],maxfev=10000)\n",
    "print('best_vals: {}'.format(mod_best_vals))\n",
    "\n",
    "plt.scatter(x_all_lim[xysorter],y_all_lim[xysorter],alpha=.07,s=10,marker='.',label='Data')\n",
    "plt.plot(x_all_lim[xysorter], ModifiedGaussian(x_all_lim[xysorter],*mod_best_vals) ,\n",
    "         label='Fitted function',color='red')\n",
    "\n",
    "plt.plot(x_all_lim[xysorter], jackman(x_all_lim[xysorter], *init_vals),color='orange',label='init_vals')\n",
    "\n",
    "plt.legend(loc='best')\n",
    "plt.ylim(-0.25,1.05)\n",
    "plt.show()"
   ]
  },
  {
   "cell_type": "code",
   "execution_count": null,
   "metadata": {},
   "outputs": [],
   "source": [
    "#import os\n",
    "#os.system(\"say “Finished”\") "
   ]
  },
  {
   "cell_type": "code",
   "execution_count": null,
   "metadata": {},
   "outputs": [],
   "source": [
    "print(len(lim_xy))\n",
    "print(len(xysorter))"
   ]
  },
  {
   "cell_type": "markdown",
   "metadata": {},
   "source": [
    "Chi residual check"
   ]
  },
  {
   "cell_type": "code",
   "execution_count": null,
   "metadata": {},
   "outputs": [],
   "source": [
    "#chi residual check\n",
    "plt.plot(x_all_lim[xysorter],((y_all_lim[xysorter]- ModifiedGaussian(x_all_lim[xysorter],*mod_best_vals))/y_err[xysorter]))"
   ]
  },
  {
   "cell_type": "code",
   "execution_count": null,
   "metadata": {},
   "outputs": [],
   "source": [
    "#chi residual check\n",
    "plt.plot(x_all_lim[xysorter],((y_all_lim[xysorter]- ModifiedGaussian(x_all_lim[xysorter],*mod_best_vals))/y_err[lim_xy][xysorter]))\n",
    "\n",
    "plt.ylim(-50,50)"
   ]
  },
  {
   "cell_type": "code",
   "execution_count": null,
   "metadata": {},
   "outputs": [],
   "source": [
    "#make this plot\n",
    "#This is the fit when I limit x (-1,2)\n",
    "\n",
    "lim_xy = np.where((x_all > -1) & (x_all <2) & (y_all > -0.15) & (y_all < 1.05))[0]\n",
    "\n",
    "x_all_lim = x_all[lim_xy]\n",
    "y_all_lim = y_all[lim_xy]\n",
    "xysorter = np.argsort(x_all_lim)\n",
    "\n",
    "modified_model = ModifiedGaussian(x_all_lim,0.17055418, -0.03995083, -0.05411289,  0.05785364)[xysorter]\n",
    "#mod_init_vals =[1.52525575, -0.35800783, -0.05 ,2.19077624]\n",
    "mod_init_vals =[0.17055418, -0.03995083, -0.05411289,  0.05785364]\n",
    "mod_best_vals, mod_covar = curve_fit(ModifiedGaussian, x_all_lim[xysorter], y_all_lim[xysorter],p0=mod_init_vals,sigma=y_err[lim_xy])\n",
    "print('best_vals: {}'.format(mod_best_vals))\n",
    "\n",
    "plt.scatter(x_all_lim[xysorter],y_all_lim[xysorter],alpha=.17,s=10,marker='.',label='Data')\n",
    "\n",
    "plt.plot(x_all_lim[xysorter], ModifiedGaussian(x_all_lim[xysorter],*mod_best_vals)*1.4 ,\n",
    "         label='Fitted function',color='red')\n",
    "\n",
    "#plt.plot(x_all_lim[xysorter], jackman(x_all_lim[xysorter], *init_vals),color='orange',label='init_vals')\n",
    "\n",
    "#This plot is using the values optimize gives when we only fit the peak at (-.1,.1)\n",
    "plt.plot(x_all_lim[xysorter], ModifiedGaussian(x_all_lim[xysorter],0.17055418, -0.03995083, -0.05411289,  0.05785364) ,\n",
    "         label='peak_fit',color='green')\n",
    "\n",
    "plt.legend(bbox_to_anchor=(1.05, 1), loc='upper left', borderaxespad=0.)\n",
    "plt.ylim(-0.25,1.05)\n",
    "plt.show()\n",
    "\n",
    "\n",
    "#but add in the bounds for the limited range of just the peak \n",
    "#This is the fit when I limit x (-0.1,.1) no bounds\n",
    "#modified_model = ModifiedGaussian(x_all_lim,0.17056828, -0.03996861, -0.05410323,  0.05788997)[xysorter]\n",
    "#mod_init_vals =[0.17056828, -0.03996861, -0.05410323,  0.05788997]\n",
    "#mod_best_vals, mod_covar = curve_fit(ModifiedGaussian, x_all_lim[xysorter], y_all_lim[xysorter],p0=mod_init_vals,sigma=y_err[lim_xy],maxfev=10000)\n",
    "#print('best_vals: {}'.format(mod_best_vals))\n",
    "\n",
    "#plt.scatter(x_all_lim[xysorter],y_all_lim[xysorter],alpha=.07,s=10,marker='.',label='Data')\n",
    "#plt.plot(x_all_lim[xysorter], ModifiedGaussian(x_all_lim[xysorter],0.17055418, -0.03995083, -0.05411289,  0.05785364) ,\n",
    "         #label='Fitted function',color='green')\n",
    "\n",
    "#plt.plot(x_all_lim[xysorter], jackman(x_all_lim[xysorter], *init_vals),color='orange',label='init_vals')\n",
    "\n",
    "#plt.legend(loc='best')\n",
    "#plt.ylim(-0.25,1.05)\n",
    "#plt.show()"
   ]
  },
  {
   "cell_type": "code",
   "execution_count": null,
   "metadata": {},
   "outputs": [],
   "source": []
  }
 ],
 "metadata": {
  "kernelspec": {
   "display_name": "Python3",
   "language": "python",
   "name": "python3"
  },
  "language_info": {
   "codemirror_mode": {
    "name": "ipython",
    "version": 3
   },
   "file_extension": ".py",
   "mimetype": "text/x-python",
   "name": "python",
   "nbconvert_exporter": "python",
   "pygments_lexer": "ipython3",
   "version": "3.7.3"
  }
 },
 "nbformat": 4,
 "nbformat_minor": 2
}
