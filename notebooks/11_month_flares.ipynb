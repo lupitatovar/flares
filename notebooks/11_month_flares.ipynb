{
 "cells": [
  {
   "cell_type": "code",
   "execution_count": null,
   "metadata": {},
   "outputs": [],
   "source": [
    "#gp_vals=pd.read_csv('gp_values_11mo.csv')\n",
    "fig = plt.figure(figsize=(12,8))\n",
    "font = {'size'   : 16}\n",
    "plt.rc('font', **font)\n",
    "\n",
    "color = \"#ff7f0e\"\n",
    "#plt.plot(gj1243lc.time[no_flare],gj1243lc.flux[no_flare]/np.nanmedian(gj1243lc.flux),  lw=1, alpha=0.5)\n",
    "#plt.errorbar(t, y, yerr=yerr, fmt=\".k\", capsize=0)\n",
    "plt.plot(gp_vals['time'], gp_vals['mean'], color=color)\n",
    "plt.fill_between(gp_vals['time'], gp_vals['mean']+gp_vals['std'], gp_vals['mean']-gp_vals['std'], color=color, alpha=0.5,\n",
    "                 edgecolor=\"none\",label='gp')\n",
    "plt.xlabel(\"Time\")\n",
    "plt.ylabel(\"Flux\")\n",
    "#plt.xlim(549,552)\n",
    "#plt.xlim(539.45,539.870)\n",
    "plt.ylim(0.99,1.1)\n",
    "plt.plot(gj1243lc.time[no_flares],medflux, lw=1,alpha=0.5,color='g',label='no_flares')\n",
    "plt.plot(gj1243lc.time,raw_flux,label='raw_data')\n",
    "plt.legend()"
   ]
  },
  {
   "cell_type": "code",
   "execution_count": null,
   "metadata": {},
   "outputs": [],
   "source": [
    "#add in gj1243lc.flux, np.nanmedian(gj1243lc.flux), detrended\n",
    "\n",
    "detrended = (1+((gj1243lc.flux - np.nanmedian(gj1243lc.flux))/(np.nanmedian(gj1243lc.flux))))-gp_vals['mean']\n",
    "plt.plot(gp_vals['time'],detrended_unmes)\n",
    "plt.plot(un_mes.time,detrended_unmes)"
   ]
  }
 ],
 "metadata": {
  "kernelspec": {
   "display_name": "Python3",
   "language": "python",
   "name": "python3"
  },
  "language_info": {
   "codemirror_mode": {
    "name": "ipython",
    "version": 3
   },
   "file_extension": ".py",
   "mimetype": "text/x-python",
   "name": "python",
   "nbconvert_exporter": "python",
   "pygments_lexer": "ipython3",
   "version": "3.7.3"
  }
 },
 "nbformat": 4,
 "nbformat_minor": 2
}
