{
 "cells": [
  {
   "cell_type": "code",
   "execution_count": null,
   "metadata": {},
   "outputs": [],
   "source": [
    "%matplotlib inline\n",
    "import numpy as np\n",
    "import matplotlib.pyplot as plt\n",
    "import pandas as pd\n",
    "from scipy import *\n",
    "import astropy\n",
    "from astropy import constants as ac\n",
    "from astroquery.mast import Observations\n",
    "import lightkurve\n",
    "import celerite\n",
    "from celerite import terms\n",
    "from scipy.optimize import minimize\n",
    "from astropy.io import fits\n",
    "from astropy.table import Table"
   ]
  },
  {
   "cell_type": "code",
   "execution_count": null,
   "metadata": {},
   "outputs": [],
   "source": [
    "flare_table=pd.read_csv('https://raw.githubusercontent.com/jradavenport/GJ1243-Flares/master/data/gj1243_master_flares.tbl',\n",
    "            skiprows=23,delim_whitespace=True,names=['index of flare start in \"gj1243_master_slc.dat\"',\n",
    "                                                   'index of flare stop in \"gj1243_master_slc.dat\"','t_start','t_stop'\n",
    "                                                   ,'t_peak','t_rise','t_decay','flux peak',\n",
    "                                                   'ED','Duration of rise',\n",
    "                                                   'Duration of decay','Complex flag',\n",
    "                                                   '# of people that identified flare event exists',\n",
    "                                                   '# of people that analyzed this month',\n",
    "                                                   '# of flare template components fit to event'])"
   ]
  },
  {
   "cell_type": "code",
   "execution_count": null,
   "metadata": {},
   "outputs": [],
   "source": [
    "t_starts=flare_table.loc[:,'t_start']\n",
    "t_stops=flare_table.loc[:,'t_stop']\n",
    "flux_peak = flare_table.loc[:,'flux peak']"
   ]
  },
  {
   "cell_type": "markdown",
   "metadata": {},
   "source": [
    "### Importing in GJ1243 light curve (DR-25)"
   ]
  },
  {
   "cell_type": "code",
   "execution_count": null,
   "metadata": {},
   "outputs": [],
   "source": [
    "from lightkurve import search_lightcurvefile\n",
    "from lightkurve import search_targetpixelfile\n",
    "target = '9726699'\n",
    "gj1243_collection = search_lightcurvefile(target,cadence='short').download_all()\n",
    "\n",
    "gj1243lc = gj1243_collection[0].PDCSAP_FLUX.remove_nans()\n",
    "\n",
    "#stitching together the full light curve\n",
    "for q in range(1,len(gj1243_collection)):\n",
    "    try:\n",
    "        gj1243lc = gj1243lc.append(gj1243_collection[q].PDCSAP_FLUX).remove_nans()\n",
    "    except:\n",
    "            print(q)"
   ]
  },
  {
   "cell_type": "code",
   "execution_count": null,
   "metadata": {},
   "outputs": [],
   "source": []
  },
  {
   "cell_type": "code",
   "execution_count": null,
   "metadata": {},
   "outputs": [],
   "source": []
  },
  {
   "cell_type": "code",
   "execution_count": null,
   "metadata": {},
   "outputs": [],
   "source": [
    "#gp_vals=pd.read_csv('gp_values_11mo.csv')\n",
    "fig = plt.figure(figsize=(12,8))\n",
    "font = {'size'   : 16}\n",
    "plt.rc('font', **font)\n",
    "\n",
    "color = \"#ff7f0e\"\n",
    "#plt.plot(gj1243lc.time[no_flare],gj1243lc.flux[no_flare]/np.nanmedian(gj1243lc.flux),  lw=1, alpha=0.5)\n",
    "#plt.errorbar(t, y, yerr=yerr, fmt=\".k\", capsize=0)\n",
    "plt.plot(gp_vals['time'], gp_vals['mean'], color=color)\n",
    "plt.fill_between(gp_vals['time'], gp_vals['mean']+gp_vals['std'], gp_vals['mean']-gp_vals['std'], color=color, alpha=0.5,\n",
    "                 edgecolor=\"none\",label='gp')\n",
    "plt.xlabel(\"Time\")\n",
    "plt.ylabel(\"Flux\")\n",
    "#plt.xlim(549,552)\n",
    "#plt.xlim(539.45,539.870)\n",
    "plt.ylim(0.99,1.1)\n",
    "plt.plot(gj1243lc.time[no_flares],medflux, lw=1,alpha=0.5,color='g',label='no_flares')\n",
    "plt.plot(gj1243lc.time,raw_flux,label='raw_data')\n",
    "plt.legend()"
   ]
  },
  {
   "cell_type": "code",
   "execution_count": null,
   "metadata": {},
   "outputs": [],
   "source": [
    "#add in gj1243lc.flux, np.nanmedian(gj1243lc.flux), detrended\n",
    "\n",
    "detrended = (1+((gj1243lc.flux - np.nanmedian(gj1243lc.flux))/(np.nanmedian(gj1243lc.flux))))-gp_vals['mean']\n",
    "plt.plot(gp_vals['time'],detrended_unmes)\n",
    "plt.plot(un_mes.time,detrended_unmes)"
   ]
  }
 ],
 "metadata": {
  "kernelspec": {
   "display_name": "Python3",
   "language": "python",
   "name": "python3"
  },
  "language_info": {
   "codemirror_mode": {
    "name": "ipython",
    "version": 3
   },
   "file_extension": ".py",
   "mimetype": "text/x-python",
   "name": "python",
   "nbconvert_exporter": "python",
   "pygments_lexer": "ipython3",
   "version": "3.7.3"
  }
 },
 "nbformat": 4,
 "nbformat_minor": 2
}
