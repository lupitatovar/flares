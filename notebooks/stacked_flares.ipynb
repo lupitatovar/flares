{
 "cells": [
  {
   "cell_type": "code",
   "execution_count": 1,
   "metadata": {},
   "outputs": [],
   "source": [
    "%matplotlib inline\n",
    "import numpy as np\n",
    "import matplotlib.pyplot as plt\n",
    "import pandas as pd\n",
    "from scipy import *\n",
    "import astropy\n",
    "from astropy import constants as ac\n",
    "from astroquery.mast import Observations\n",
    "import lightkurve\n",
    "import celerite\n",
    "from celerite import terms\n",
    "from scipy.optimize import minimize\n",
    "from astropy.io import fits\n",
    "from astropy.table import Table"
   ]
  },
  {
   "cell_type": "markdown",
   "metadata": {},
   "source": [
    "### Reading in flare data for GJ1243 from Davenport et al (2014)"
   ]
  },
  {
   "cell_type": "code",
   "execution_count": 2,
   "metadata": {},
   "outputs": [],
   "source": [
    "flare_table=pd.read_csv('https://raw.githubusercontent.com/jradavenport/GJ1243-Flares/master/data/gj1243_master_flares.tbl',\n",
    "            skiprows=23,delim_whitespace=True,names=['index of flare start in \"gj1243_master_slc.dat\"',\n",
    "                                                   'index of flare stop in \"gj1243_master_slc.dat\"','t_start','t_stop'\n",
    "                                                   ,'t_peak','t_rise','t_decay','flux peak',\n",
    "                                                   'ED','Duration of rise',\n",
    "                                                   'Duration of decay','Complex flag',\n",
    "                                                   '# of people that identified flare event exists',\n",
    "                                                   '# of people that analyzed this month',\n",
    "                                                   '# of flare template components fit to event'])"
   ]
  },
  {
   "cell_type": "code",
   "execution_count": 3,
   "metadata": {},
   "outputs": [],
   "source": [
    "t_starts=flare_table.loc[:,'t_start']\n",
    "t_stops=flare_table.loc[:,'t_stop']\n",
    "flux_peak = flare_table.loc[:,'flux peak']"
   ]
  },
  {
   "cell_type": "markdown",
   "metadata": {},
   "source": [
    "### Importing in GJ1243 light curve (DR-25)"
   ]
  },
  {
   "cell_type": "code",
   "execution_count": 4,
   "metadata": {},
   "outputs": [],
   "source": [
    "from lightkurve import search_lightcurvefile\n",
    "from lightkurve import search_targetpixelfile\n",
    "target = '9726699'\n",
    "gj1243_collection = search_lightcurvefile(target,cadence='short').download_all()"
   ]
  },
  {
   "cell_type": "code",
   "execution_count": 5,
   "metadata": {},
   "outputs": [],
   "source": [
    "gj1243lc = gj1243_collection[0].PDCSAP_FLUX.remove_nans()\n",
    "\n",
    "#stitching together the full light curve\n",
    "for q in range(1,len(gj1243_collection)):\n",
    "    try:\n",
    "        gj1243lc = gj1243lc.append(gj1243_collection[q].PDCSAP_FLUX).remove_nans()\n",
    "    except:\n",
    "            print(q)"
   ]
  },
  {
   "cell_type": "markdown",
   "metadata": {},
   "source": [
    "### Masking out the flares"
   ]
  },
  {
   "cell_type": "code",
   "execution_count": 6,
   "metadata": {},
   "outputs": [
    {
     "name": "stdout",
     "output_type": "stream",
     "text": [
      "[False False False ... False False False]\n"
     ]
    }
   ],
   "source": [
    "f_mask = np.zeros_like(gj1243lc.time, dtype=bool)\n",
    "for i in range(len(t_starts)):\n",
    "    dur = t_stops[i] - t_starts[i]\n",
    "    c1 = 0.25\n",
    "    c2 = 0.5 #play with these buffers \n",
    "    buffer = (gj1243lc.time >= t_starts[i] - c1*dur) & (gj1243lc.time <= t_stops[i] + c2*dur)\n",
    "    temp = (gj1243lc.time >= t_starts[i]) & (gj1243lc.time <= t_stops[i])\n",
    "    f_mask = f_mask + buffer\n",
    "print(f_mask)"
   ]
  },
  {
   "cell_type": "code",
   "execution_count": 7,
   "metadata": {},
   "outputs": [
    {
     "data": {
      "text/plain": [
       "Text(0, 0.5, 'Normalized Flux')"
      ]
     },
     "execution_count": 7,
     "metadata": {},
     "output_type": "execute_result"
    },
    {
     "data": {
      "image/png": "[encoded data removed]",
      "text/plain": [
       "<Figure size 864x576 with 1 Axes>"
      ]
     },
     "metadata": {
      "needs_background": "light"
     },
     "output_type": "display_data"
    }
   ],
   "source": [
    "fig = plt.figure(figsize=(12,8))\n",
    "font = {'size'   : 16}\n",
    "plt.rc('font', **font)\n",
    "\n",
    "no_flares = np.where((f_mask == False))[0]\n",
    "plt.scatter(gj1243lc.time[no_flares],gj1243lc.flux[no_flares]/np.nanmedian(gj1243lc.flux[no_flares]))\n",
    "#plt.xlim(539.4,540.4)\n",
    "#plt.ylim(1.17,1.22)\n",
    "#plt.xlim(1190,1200)\n",
    "plt.xlabel('Time')\n",
    "plt.ylabel('Normalized Flux')"
   ]
  },
  {
   "cell_type": "code",
   "execution_count": 8,
   "metadata": {},
   "outputs": [
    {
     "data": {
      "text/html": [
       "<div>\n",
       "<style scoped>\n",
       "    .dataframe tbody tr th:only-of-type {\n",
       "        vertical-align: middle;\n",
       "    }\n",
       "\n",
       "    .dataframe tbody tr th {\n",
       "        vertical-align: top;\n",
       "    }\n",
       "\n",
       "    .dataframe thead th {\n",
       "        text-align: right;\n",
       "    }\n",
       "</style>\n",
       "<table border=\"1\" class=\"dataframe\">\n",
       "  <thead>\n",
       "    <tr style=\"text-align: right;\">\n",
       "      <th></th>\n",
       "      <th>t_start</th>\n",
       "      <th>t_stop</th>\n",
       "    </tr>\n",
       "  </thead>\n",
       "  <tbody>\n",
       "    <tr>\n",
       "      <th>0</th>\n",
       "      <td>567.70</td>\n",
       "      <td>567.80</td>\n",
       "    </tr>\n",
       "    <tr>\n",
       "      <th>1</th>\n",
       "      <td>913.50</td>\n",
       "      <td>913.60</td>\n",
       "    </tr>\n",
       "    <tr>\n",
       "      <th>2</th>\n",
       "      <td>917.90</td>\n",
       "      <td>918.00</td>\n",
       "    </tr>\n",
       "    <tr>\n",
       "      <th>3</th>\n",
       "      <td>946.00</td>\n",
       "      <td>946.10</td>\n",
       "    </tr>\n",
       "    <tr>\n",
       "      <th>4</th>\n",
       "      <td>1178.80</td>\n",
       "      <td>1178.90</td>\n",
       "    </tr>\n",
       "    <tr>\n",
       "      <th>5</th>\n",
       "      <td>1181.58</td>\n",
       "      <td>1181.65</td>\n",
       "    </tr>\n",
       "    <tr>\n",
       "      <th>6</th>\n",
       "      <td>1185.50</td>\n",
       "      <td>1185.58</td>\n",
       "    </tr>\n",
       "  </tbody>\n",
       "</table>\n",
       "</div>"
      ],
      "text/plain": [
       "   t_start   t_stop\n",
       "0   567.70   567.80\n",
       "1   913.50   913.60\n",
       "2   917.90   918.00\n",
       "3   946.00   946.10\n",
       "4  1178.80  1178.90\n",
       "5  1181.58  1181.65\n",
       "6  1185.50  1185.58"
      ]
     },
     "execution_count": 8,
     "metadata": {},
     "output_type": "execute_result"
    }
   ],
   "source": [
    "extra_flares_table=pd.read_csv('extra_flares',skiprows=3,delim_whitespace=True,names=['t_start','t_stop'])\n",
    "t_starts_extra=extra_flares_table.loc[:,'t_start']\n",
    "t_stops_extra=extra_flares_table.loc[:,'t_stop']\n",
    "#first one might be outlier\n",
    "extra_flares_table"
   ]
  },
  {
   "cell_type": "code",
   "execution_count": 8,
   "metadata": {},
   "outputs": [
    {
     "name": "stdout",
     "output_type": "stream",
     "text": [
      "[False False False ...  True False False]\n"
     ]
    }
   ],
   "source": [
    "un_mes=gj1243_collection[0].PDCSAP_FLUX\n",
    "f_mask_un_mes = np.zeros_like(un_mes.time, dtype=bool)\n",
    "\n",
    "#mask array for one month of data\n",
    "for i in range(len(t_starts)):\n",
    "    dur = t_stops[i] - t_starts[i]\n",
    "    c1 = 0. #was.25 & .5\n",
    "    c2 = 0. #play with these buffers \n",
    "    buffer = (un_mes.time >= (t_starts[i] - c1*dur)) & (un_mes.time <= (t_stops[i] + c2*dur))\n",
    "    temp = (un_mes.time >= t_starts[i]) & (un_mes.time <= t_stops[i])\n",
    "    f_mask_un_mes = f_mask_un_mes + buffer\n",
    "print(f_mask_un_mes)\n",
    "no_flare_un_mes = np.where((f_mask_un_mes == False))[0]"
   ]
  },
  {
   "cell_type": "code",
   "execution_count": 11,
   "metadata": {},
   "outputs": [
    {
     "data": {
      "text/plain": [
       "array([    0,     1,     2, ..., 39623, 39628, 39629])"
      ]
     },
     "execution_count": 11,
     "metadata": {},
     "output_type": "execute_result"
    }
   ],
   "source": [
    "no_flare_un_mes"
   ]
  },
  {
   "cell_type": "markdown",
   "metadata": {},
   "source": [
    "### Light curve with highlighted flares"
   ]
  },
  {
   "cell_type": "code",
   "execution_count": 9,
   "metadata": {},
   "outputs": [
    {
     "data": {
      "text/plain": [
       "Text(0.5, 0, 'Time - 2457000 [BTJD days]')"
      ]
     },
     "execution_count": 9,
     "metadata": {},
     "output_type": "execute_result"
    },
    {
     "data": {
      "image/png": "[encoded data removed]",
      "text/plain": [
       "<Figure size 1440x720 with 1 Axes>"
      ]
     },
     "metadata": {
      "needs_background": "light"
     },
     "output_type": "display_data"
    }
   ],
   "source": [
    "flares_x=gj1243lc.time[f_mask]\n",
    "flares_y = gj1243lc.flux[f_mask]/np.nanmedian(gj1243lc.flux)\n",
    "\n",
    "fig = plt.figure(figsize=(20,10))\n",
    "import matplotlib\n",
    "matplotlib.rcParams.update({'font.size':30})\n",
    "matplotlib.rcParams.update({'font.family':'serif'})\n",
    "\n",
    "fig.subplots_adjust(hspace=0.3, wspace=0.4)\n",
    "\n",
    "\n",
    "\n",
    "plt.plot(gj1243lc.time[:84887],gj1243lc.flux[:84887]/np.nanmedian(gj1243lc.flux),linewidth=0.5,alpha=0.99,color='C0')\n",
    "plt.plot(gj1243lc.time[84888:217976],gj1243lc.flux[84888:217976]/np.nanmedian(gj1243lc.flux),linewidth=0.5,color='C0',alpha=0.99)\n",
    "plt.plot(gj1243lc.time[217976:],gj1243lc.flux[217976:]/np.nanmedian(gj1243lc.flux),linewidth=0.5,color='C0',alpha=0.99)\n",
    "\n",
    "\n",
    "plt.scatter(flares_x,flares_y,linewidth=0.7,color='darkorange',s=35)\n",
    "\n",
    "\n",
    "\n",
    "\n",
    "#Text\n",
    "plt.text(520, 3, 'DR 25', fontsize=18, color ='k')\n",
    "\n",
    "\n",
    "\n",
    "#fig.text(0.06, 0.5, 'Normalized Flux', ha='center', va='center', rotation='vertical')\n",
    "#fig.text(0.5, 0.05, 'Time - 2457000 [BTJD days]', ha='center', va='center')\n",
    "\n",
    "plt.ylabel(\"Normalized Flux\")\n",
    "plt.xlabel(\"Time - 2457000 [BTJD days]\")\n",
    "\n",
    "\n",
    "#plt.savefig('gj1243_keplerlc.pdf',dpi=300, bbox_inches='tight', pad_inches=0.5)"
   ]
  },
  {
   "cell_type": "markdown",
   "metadata": {},
   "source": [
    "### Accounting for quarterly discontinuities"
   ]
  },
  {
   "cell_type": "code",
   "execution_count": 13,
   "metadata": {},
   "outputs": [],
   "source": [
    "#month1 = 1+((gj1243_collection[0].PDCSAP_FLUX.flux[no_flare_un_mes] - np.nanmedian(gj1243_collection[0].PDCSAP_FLUX.flux[no_flare_un_mes]))/(np.nanmedian(gj1243lc.flux[no_flares])))\n",
    "#month2 = 1+((gj1243_collection[1].PDCSAP_FLUX.flux[no_flare_un_mes]  - np.nanmedian(gj1243_collection[1].PDCSAP_FLUX.flux[no_flare_un_mes] ))/(np.nanmedian(gj1243lc.flux[no_flares] )))\n",
    "#month3 = 1+((gj1243_collection[2].PDCSAP_FLUX.flux - np.nanmedian(gj1243_collection[2].PDCSAP_FLUX.flux))/(np.nanmedian(gj1243lc.flux)))\n",
    "#month4 = 1+((gj1243_collection[3].PDCSAP_FLUX.flux - np.nanmedian(gj1243_collection[3].PDCSAP_FLUX.flux))/(np.nanmedian(gj1243lc.flux)))"
   ]
  },
  {
   "cell_type": "code",
   "execution_count": 10,
   "metadata": {},
   "outputs": [],
   "source": [
    "i = 0\n",
    "month1_median = np.nanmedian(gj1243_collection[i].PDCSAP_FLUX.flux[no_flare_un_mes])\n",
    "total_median = np.nanmedian(gj1243lc.flux[no_flares])\n",
    "\n",
    "month1_flux = 1 + (gj1243_collection[i].PDCSAP_FLUX.flux[no_flare_un_mes] - month1_median) / total_median\n",
    "\n",
    "raw_flux = 1+((gj1243_collection[0].PDCSAP_FLUX.flux - np.nanmedian(gj1243_collection[0].PDCSAP_FLUX.flux[no_flare_un_mes]))/(np.nanmedian(gj1243lc.flux)))"
   ]
  },
  {
   "cell_type": "code",
   "execution_count": 41,
   "metadata": {},
   "outputs": [],
   "source": [
    "medflux=np.array([])\n",
    "for i in range(0,len(gj1243_collection)):\n",
    "    try:\n",
    "        med = 1+((gj1243_collection[i].PDCSAP_FLUX.flux - np.nanmedian(gj1243_collection[i].PDCSAP_FLUX.flux))/(np.nanmedian(gj1243lc.flux)))\n",
    "        medflux = np.append(medflux,med)\n",
    "    except:\n",
    "            print(i)"
   ]
  },
  {
   "cell_type": "code",
   "execution_count": 12,
   "metadata": {},
   "outputs": [
    {
     "name": "stdout",
     "output_type": "stream",
     "text": [
      "39630\n",
      "28000\n"
     ]
    }
   ],
   "source": [
    "print(len(un_mes.flux))#not averaged\n",
    "print(len(month1_flux)) #has the correct averaging for flareless data"
   ]
  },
  {
   "cell_type": "markdown",
   "metadata": {},
   "source": [
    "### GP"
   ]
  },
  {
   "cell_type": "code",
   "execution_count": 47,
   "metadata": {},
   "outputs": [],
   "source": [
    "import celerite\n",
    "y = month1_flux\n",
    "t = un_mes.time[no_flare_un_mes]\n",
    "yerr = 1+((gj1243_collection[0].PDCSAP_FLUX.flux_err[no_flare_un_mes] - np.nanmedian(gj1243_collection[0].PDCSAP_FLUX.flux[no_flare_un_mes]))/(np.nanmedian(gj1243lc.flux[no_flare_un_mes])))\n",
    "yerr = np.sqrt(yerr**2 + np.nanmedian(pd.Series(y).rolling(10,center=True).std())**2)\n",
    "\n",
    "\n",
    "# A non-periodic component\n",
    "Q = 0.001\n",
    "w0 = 2*np.pi/0.59\n",
    "S0 = np.var(y) / (w0 * Q)\n",
    "bounds = dict(log_S0=(-15,15), log_Q=(-15,15), log_omega0=(-15,15))\n",
    "kernel = terms.SHOTerm(log_S0=np.log(S0), log_Q=np.log(Q), log_omega0=np.log(w0),bounds=bounds)\n",
    "#kernel.freeze_parameter(\"log_Q\")  # We don't want to fit for \"Q\" in this term"
   ]
  },
  {
   "cell_type": "code",
   "execution_count": 48,
   "metadata": {},
   "outputs": [
    {
     "data": {
      "text/plain": [
       "array([83.01843 , 82.97698 , 82.96462 , ..., 79.520004, 78.98069 ,\n",
       "       78.729614], dtype=float32)"
      ]
     },
     "execution_count": 48,
     "metadata": {},
     "output_type": "execute_result"
    }
   ],
   "source": [
    "gj1243_collection[0].PDCSAP_FLUX.flux_err"
   ]
  },
  {
   "cell_type": "code",
   "execution_count": 49,
   "metadata": {},
   "outputs": [
    {
     "data": {
      "text/plain": [
       "[<matplotlib.lines.Line2D at 0x1c26ff39e8>]"
      ]
     },
     "execution_count": 49,
     "metadata": {},
     "output_type": "execute_result"
    },
    {
     "data": {
      "image/png": "[encoded data removed]",
      "text/plain": [
       "<Figure size 432x288 with 1 Axes>"
      ]
     },
     "metadata": {
      "needs_background": "light"
     },
     "output_type": "display_data"
    }
   ],
   "source": [
    "plt.plot(t,y)"
   ]
  },
  {
   "cell_type": "code",
   "execution_count": 50,
   "metadata": {},
   "outputs": [
    {
     "data": {
      "text/plain": [
       "<ErrorbarContainer object of 3 artists>"
      ]
     },
     "execution_count": 50,
     "metadata": {},
     "output_type": "execute_result"
    },
    {
     "data": {
      "image/png": "[encoded data removed]",
      "text/plain": [
       "<Figure size 432x288 with 1 Axes>"
      ]
     },
     "metadata": {
      "needs_background": "light"
     },
     "output_type": "display_data"
    }
   ],
   "source": [
    "plt.errorbar(t,y,yerr=yerr)\n",
    "plt.errorbar(t,y)"
   ]
  },
  {
   "cell_type": "code",
   "execution_count": 51,
   "metadata": {},
   "outputs": [
    {
     "name": "stdout",
     "output_type": "stream",
     "text": [
      "Initial log likelihood: 126498.12167499245\n",
      "parameter_dict:\n",
      "OrderedDict([('kernel:log_S0', -4.375628587868117), ('kernel:log_Q', -6.907755278982137), ('kernel:log_omega0', 2.3655098084917174), ('mean:value', 0.999515950679779)])\n",
      "\n",
      "parameter_names:\n",
      "('kernel:log_S0', 'kernel:log_Q', 'kernel:log_omega0', 'mean:value')\n",
      "\n",
      "parameter_vector:\n",
      "[-4.37562859 -6.90775528  2.36550981  0.99951595]\n",
      "\n",
      "parameter_bounds:\n",
      "[(-15, 15), (-15, 15), (-15, 15), (None, None)]\n",
      "\n"
     ]
    }
   ],
   "source": [
    "gp = celerite.GP(kernel, mean=np.mean(y),fit_mean=True)\n",
    "gp.compute(t, yerr)  # You always need to call compute once.\n",
    "print(\"Initial log likelihood: {0}\".format(gp.log_likelihood(y)))\n",
    "print(\"parameter_dict:\\n{0}\\n\".format(gp.get_parameter_dict()))\n",
    "print(\"parameter_names:\\n{0}\\n\".format(gp.get_parameter_names()))\n",
    "print(\"parameter_vector:\\n{0}\\n\".format(gp.get_parameter_vector()))\n",
    "print(\"parameter_bounds:\\n{0}\\n\".format(gp.get_parameter_bounds()))"
   ]
  },
  {
   "cell_type": "code",
   "execution_count": 52,
   "metadata": {},
   "outputs": [
    {
     "name": "stdout",
     "output_type": "stream",
     "text": [
      "      fun: -167922.37519706547\n",
      " hess_inv: <4x4 LbfgsInvHessProduct with dtype=float64>\n",
      "      jac: array([ 0.76252036, -0.13387762,  0.23283064,  0.        ])\n",
      "  message: b'CONVERGENCE: REL_REDUCTION_OF_F_<=_FACTR*EPSMCH'\n",
      "     nfev: 155\n",
      "      nit: 26\n",
      "   status: 0\n",
      "  success: True\n",
      "        x: array([-3.28164954, -3.02254714,  0.69309244,  1.00937299])\n"
     ]
    }
   ],
   "source": [
    "from scipy.optimize import minimize\n",
    "\n",
    "def neg_log_like(params, y, gp):\n",
    "    gp.set_parameter_vector(params)\n",
    "    return -gp.log_likelihood(y)\n",
    "\n",
    "initial_params = gp.get_parameter_vector()\n",
    "bounds = gp.get_parameter_bounds()\n",
    "\n",
    "r = minimize(neg_log_like, initial_params, method=\"L-BFGS-B\", bounds=bounds, args=(y, gp))\n",
    "gp.set_parameter_vector(r.x)\n",
    "print(r)\n"
   ]
  },
  {
   "cell_type": "code",
   "execution_count": 61,
   "metadata": {},
   "outputs": [],
   "source": [
    "#running pred_var takes a long time\n",
    "x= un_mes.time\n",
    "pred_mean, pred_var = gp.predict(y, x, return_var=True)\n",
    "pred_std = np.sqrt(pred_var)"
   ]
  },
  {
   "cell_type": "code",
   "execution_count": 13,
   "metadata": {},
   "outputs": [],
   "source": [
    "#Reading in the GP\n",
    "gp_vals=pd.read_csv('gp_values_1mo.csv')"
   ]
  },
  {
   "cell_type": "code",
   "execution_count": 26,
   "metadata": {},
   "outputs": [],
   "source": [
    "#gp_vals #(time,mean,std,var)"
   ]
  },
  {
   "cell_type": "code",
   "execution_count": 14,
   "metadata": {},
   "outputs": [
    {
     "ename": "NameError",
     "evalue": "name 't' is not defined",
     "output_type": "error",
     "traceback": [
      "\u001b[0;31m---------------------------------------------------------------------------\u001b[0m",
      "\u001b[0;31mNameError\u001b[0m                                 Traceback (most recent call last)",
      "\u001b[0;32m<ipython-input-14-3f6a7930ae5b>\u001b[0m in \u001b[0;36m<module>\u001b[0;34m\u001b[0m\n\u001b[1;32m      5\u001b[0m \u001b[0mcolor\u001b[0m \u001b[0;34m=\u001b[0m \u001b[0;34m\"#ff7f0e\"\u001b[0m\u001b[0;34m\u001b[0m\u001b[0;34m\u001b[0m\u001b[0m\n\u001b[1;32m      6\u001b[0m \u001b[0;31m#plt.plot(gj1243lc.time[no_flare],gj1243lc.flux[no_flare]/np.nanmedian(gj1243lc.flux),  lw=1, alpha=0.5)\u001b[0m\u001b[0;34m\u001b[0m\u001b[0;34m\u001b[0m\u001b[0;34m\u001b[0m\u001b[0m\n\u001b[0;32m----> 7\u001b[0;31m \u001b[0mplt\u001b[0m\u001b[0;34m.\u001b[0m\u001b[0merrorbar\u001b[0m\u001b[0;34m(\u001b[0m\u001b[0mt\u001b[0m\u001b[0;34m,\u001b[0m \u001b[0my\u001b[0m\u001b[0;34m,\u001b[0m \u001b[0myerr\u001b[0m\u001b[0;34m=\u001b[0m\u001b[0myerr\u001b[0m\u001b[0;34m,\u001b[0m \u001b[0mcolor\u001b[0m\u001b[0;34m=\u001b[0m\u001b[0;34m'g'\u001b[0m\u001b[0;34m)\u001b[0m\u001b[0;34m\u001b[0m\u001b[0;34m\u001b[0m\u001b[0m\n\u001b[0m\u001b[1;32m      8\u001b[0m \u001b[0mplt\u001b[0m\u001b[0;34m.\u001b[0m\u001b[0mplot\u001b[0m\u001b[0;34m(\u001b[0m\u001b[0mgp_vals\u001b[0m\u001b[0;34m[\u001b[0m\u001b[0;34m'time'\u001b[0m\u001b[0;34m]\u001b[0m\u001b[0;34m,\u001b[0m \u001b[0mgp_vals\u001b[0m\u001b[0;34m[\u001b[0m\u001b[0;34m'mean'\u001b[0m\u001b[0;34m]\u001b[0m\u001b[0;34m,\u001b[0m \u001b[0mcolor\u001b[0m\u001b[0;34m=\u001b[0m\u001b[0mcolor\u001b[0m\u001b[0;34m)\u001b[0m\u001b[0;34m\u001b[0m\u001b[0;34m\u001b[0m\u001b[0m\n\u001b[1;32m      9\u001b[0m plt.fill_between(gp_vals['time'], gp_vals['mean']+gp_vals['std'], gp_vals['mean']-gp_vals['std'], color=color, alpha=0.5,\n",
      "\u001b[0;31mNameError\u001b[0m: name 't' is not defined"
     ]
    },
    {
     "data": {
      "text/plain": [
       "<Figure size 864x576 with 0 Axes>"
      ]
     },
     "metadata": {},
     "output_type": "display_data"
    }
   ],
   "source": [
    "fig = plt.figure(figsize=(12,8))\n",
    "font = {'size'   : 16}\n",
    "plt.rc('font', **font)\n",
    "\n",
    "color = \"#ff7f0e\"\n",
    "#plt.plot(gj1243lc.time[no_flare],gj1243lc.flux[no_flare]/np.nanmedian(gj1243lc.flux),  lw=1, alpha=0.5)\n",
    "plt.errorbar(t, y, yerr=yerr, color='g')\n",
    "plt.plot(gp_vals['time'], gp_vals['mean'], color=color)\n",
    "plt.fill_between(gp_vals['time'], gp_vals['mean']+gp_vals['std'], gp_vals['mean']-gp_vals['std'], color=color, alpha=0.5,\n",
    "                 edgecolor=\"none\")\n",
    "plt.xlabel(\"Time\")\n",
    "plt.ylabel(\"Flux\")\n",
    "#plt.xlim(539.5,565)\n",
    "plt.xlim(539.45,539.870)\n",
    "#plt.ylim(-2.5, 2.5);\n",
    "\n",
    "\n",
    "plt.plot(un_mes.time[no_flare_un_mes],month1_flux, lw=1,alpha=0.5)"
   ]
  },
  {
   "cell_type": "code",
   "execution_count": 15,
   "metadata": {},
   "outputs": [
    {
     "data": {
      "text/plain": [
       "<matplotlib.legend.Legend at 0x1c2bc75be0>"
      ]
     },
     "execution_count": 15,
     "metadata": {},
     "output_type": "execute_result"
    },
    {
     "data": {
      "image/png": "[encoded data removed]",
      "text/plain": [
       "<Figure size 864x576 with 1 Axes>"
      ]
     },
     "metadata": {
      "needs_background": "light"
     },
     "output_type": "display_data"
    }
   ],
   "source": [
    "# A zoom in on just one month of the gp\n",
    "fig = plt.figure(figsize=(12,8))\n",
    "font = {'size'   : 16}\n",
    "plt.rc('font', **font)\n",
    "\n",
    "color = \"#ff7f0e\"\n",
    "#plt.plot(gj1243lc.time[no_flare],gj1243lc.flux[no_flare]/np.nanmedian(gj1243lc.flux),  lw=1, alpha=0.5)\n",
    "#plt.errorbar(t, y, yerr=yerr, fmt=\".k\", capsize=0)\n",
    "plt.plot(gp_vals['time'], gp_vals['mean'], color=color)\n",
    "plt.fill_between(gp_vals['time'], gp_vals['mean']+gp_vals['std'], gp_vals['mean']-gp_vals['std'], color=color, alpha=0.5,\n",
    "                 edgecolor=\"none\",label='gp')\n",
    "plt.xlabel(\"Time\")\n",
    "plt.ylabel(\"Flux\")\n",
    "plt.xlim(549,552)\n",
    "#plt.xlim(539.45,539.870)\n",
    "plt.ylim(0.99,1.1)\n",
    "plt.plot(un_mes.time[no_flare_un_mes],month1_flux, lw=1,alpha=0.5,color='g',label='no_flares')\n",
    "plt.plot(un_mes.time,raw_flux\n",
    "        ,label='raw_data')\n",
    "plt.legend()"
   ]
  },
  {
   "cell_type": "markdown",
   "metadata": {},
   "source": [
    "### Saving gp outputs for Q1 to .csv file"
   ]
  },
  {
   "cell_type": "code",
   "execution_count": 27,
   "metadata": {},
   "outputs": [
    {
     "ename": "NameError",
     "evalue": "name 'x' is not defined",
     "output_type": "error",
     "traceback": [
      "\u001b[0;31m---------------------------------------------------------------------------\u001b[0m",
      "\u001b[0;31mNameError\u001b[0m                                 Traceback (most recent call last)",
      "\u001b[0;32m<ipython-input-27-54b051a083a6>\u001b[0m in \u001b[0;36m<module>\u001b[0;34m\u001b[0m\n\u001b[1;32m      1\u001b[0m \u001b[0;31m# dictionary of lists\u001b[0m\u001b[0;34m\u001b[0m\u001b[0;34m\u001b[0m\u001b[0;34m\u001b[0m\u001b[0m\n\u001b[0;32m----> 2\u001b[0;31m \u001b[0mdict\u001b[0m \u001b[0;34m=\u001b[0m \u001b[0;34m{\u001b[0m\u001b[0;34m'time'\u001b[0m\u001b[0;34m:\u001b[0m\u001b[0mx\u001b[0m\u001b[0;34m,\u001b[0m\u001b[0;34m'mean'\u001b[0m\u001b[0;34m:\u001b[0m \u001b[0mpred_mean\u001b[0m\u001b[0;34m,\u001b[0m \u001b[0;34m'std'\u001b[0m\u001b[0;34m:\u001b[0m \u001b[0mpred_std\u001b[0m\u001b[0;34m,\u001b[0m \u001b[0;34m'var'\u001b[0m\u001b[0;34m:\u001b[0m \u001b[0mpred_var\u001b[0m\u001b[0;34m}\u001b[0m\u001b[0;34m\u001b[0m\u001b[0;34m\u001b[0m\u001b[0m\n\u001b[0m\u001b[1;32m      3\u001b[0m \u001b[0mgp_out\u001b[0m \u001b[0;34m=\u001b[0m \u001b[0mpd\u001b[0m\u001b[0;34m.\u001b[0m\u001b[0mDataFrame\u001b[0m\u001b[0;34m(\u001b[0m\u001b[0mdict\u001b[0m\u001b[0;34m)\u001b[0m\u001b[0;34m\u001b[0m\u001b[0;34m\u001b[0m\u001b[0m\n\u001b[1;32m      4\u001b[0m \u001b[0mgp_out\u001b[0m\u001b[0;34m.\u001b[0m\u001b[0mto_csv\u001b[0m\u001b[0;34m(\u001b[0m\u001b[0;34mr'/Users/lupitatovar/flares/notebooks/gp_values_1mo.csv'\u001b[0m\u001b[0;34m,\u001b[0m\u001b[0mheader\u001b[0m\u001b[0;34m=\u001b[0m\u001b[0;32mTrue\u001b[0m\u001b[0;34m,\u001b[0m\u001b[0mindex\u001b[0m\u001b[0;34m=\u001b[0m\u001b[0;32mTrue\u001b[0m\u001b[0;34m)\u001b[0m\u001b[0;34m\u001b[0m\u001b[0;34m\u001b[0m\u001b[0m\n",
      "\u001b[0;31mNameError\u001b[0m: name 'x' is not defined"
     ]
    }
   ],
   "source": [
    "# dictionary of lists  \n",
    "# will not run w/o running the gp first \n",
    "dict = {'time':x,'mean': pred_mean, 'std': pred_std, 'var': pred_var}  \n",
    "gp_out = pd.DataFrame(dict) \n",
    "gp_out.to_csv(r'/Users/lupitatovar/flares/notebooks/gp_values_1mo.csv',header=True,index=True)"
   ]
  },
  {
   "cell_type": "markdown",
   "metadata": {},
   "source": [
    "### Fixing quarterly discontinuties"
   ]
  },
  {
   "cell_type": "markdown",
   "metadata": {},
   "source": [
    "### Sample of Flares to stack\n",
    "#### Criteria:\n",
    "- 20-75 minutes duration\n",
    "- no complex flares"
   ]
  },
  {
   "cell_type": "code",
   "execution_count": 16,
   "metadata": {},
   "outputs": [],
   "source": [
    "complex_flag = flare_table['Complex flag'] #2=complex, 1 = classical\n",
    "ED = flare_table['ED'] #units=seconds\n",
    "flare_table['Flare_Duration'] = 1440.*(t_stops-t_starts) #units = minutes"
   ]
  },
  {
   "cell_type": "code",
   "execution_count": 30,
   "metadata": {},
   "outputs": [],
   "source": [
    "#flare_table"
   ]
  },
  {
   "cell_type": "code",
   "execution_count": 17,
   "metadata": {},
   "outputs": [
    {
     "name": "stdout",
     "output_type": "stream",
     "text": [
      "The number of classical flares : 5162\n",
      "The number of complex flares : 945\n",
      "The number of total flares with a duration between 20-75min : 1641\n"
     ]
    }
   ],
   "source": [
    "# Separating the types of flares\n",
    "classical = len([i for i in complex_flag if i < 2.0]) \n",
    "print (\"The number of classical flares : \" + str(classical)) \n",
    "\n",
    "cmplx = len([i for i in complex_flag if i > 1.0]) \n",
    "print (\"The number of complex flares : \" + str(cmplx)) \n",
    "\n",
    "complex_flares = flare_table[flare_table['Complex flag'] == 2.0]\n",
    "classical_flares = flare_table[flare_table['Complex flag'] == 1.0]\n",
    "\n",
    "#-----------------------------------------------------------------------------------------\n",
    "min_dur = 20.0 #minutes\n",
    "max_dur = 75.0\n",
    "\n",
    "dur_limit = len([i for i in flare_table['Flare_Duration'] if i >= min_dur and i<max_dur]) \n",
    "print (\"The number of total flares with a duration between 20-75min : \" + str(dur_limit))"
   ]
  },
  {
   "cell_type": "code",
   "execution_count": 55,
   "metadata": {},
   "outputs": [
    {
     "data": {
      "text/plain": [
       "5162"
      ]
     },
     "execution_count": 55,
     "metadata": {},
     "output_type": "execute_result"
    }
   ],
   "source": [
    "len(classical_flares)"
   ]
  },
  {
   "cell_type": "code",
   "execution_count": 18,
   "metadata": {},
   "outputs": [
    {
     "name": "stderr",
     "output_type": "stream",
     "text": [
      "/Users/lupitatovar/anaconda3/lib/python3.7/site-packages/ipykernel_launcher.py:2: SettingWithCopyWarning: \n",
      "A value is trying to be set on a copy of a slice from a DataFrame.\n",
      "Try using .loc[row_indexer,col_indexer] = value instead\n",
      "\n",
      "See the caveats in the documentation: http://pandas.pydata.org/pandas-docs/stable/indexing.html#indexing-view-versus-copy\n",
      "  \n"
     ]
    },
    {
     "data": {
      "text/plain": [
       "902"
      ]
     },
     "execution_count": 18,
     "metadata": {},
     "output_type": "execute_result"
    }
   ],
   "source": [
    "#adding in a column that is the flare duration into the table \n",
    "classical_flares['Flare_Duration'] = 1440.*(classical_flares['t_stop'] - classical_flares['t_start'])\n",
    "#classical_flares\n",
    "\n",
    "#classic_flare_dur = 1440.*(classical_flares['t_stop'] - classical_flares['t_start'])\n",
    "len([i for i in classical_flares['Flare_Duration'] if i >= min_dur and i < max_dur])"
   ]
  },
  {
   "cell_type": "markdown",
   "metadata": {},
   "source": [
    "### Stacking the Flares for one month"
   ]
  },
  {
   "cell_type": "markdown",
   "metadata": {},
   "source": [
    "Stack the flares just in the first month (for now)\n",
    "\n",
    "Plot [x,y] where x = time - peak time/ (t_(1/2) \n",
    "\n",
    "Y = detrended data / peak amplitude "
   ]
  },
  {
   "cell_type": "code",
   "execution_count": 19,
   "metadata": {
    "scrolled": true
   },
   "outputs": [
    {
     "data": {
      "text/plain": [
       "<matplotlib.legend.Legend at 0x1c28829630>"
      ]
     },
     "execution_count": 19,
     "metadata": {},
     "output_type": "execute_result"
    },
    {
     "data": {
      "image/png": "[encoded data removed]",
      "text/plain": [
       "<Figure size 432x288 with 1 Axes>"
      ]
     },
     "metadata": {
      "needs_background": "light"
     },
     "output_type": "display_data"
    }
   ],
   "source": [
    "#zoom in on the first classical flare in the first quarter of data\n",
    "\n",
    "oneflare_x = gj1243_collection[0].time\n",
    "#oneflare_y = 1+((gj1243_collection[0].PDCSAP_FLUX.flux - np.nanmedian(gj1243_collection[0].PDCSAP_FLUX.flux))/(np.nanmedian(gj1243lc.flux)))\n",
    "#plt.plot(oneflare_x,oneflare_y)\n",
    "#plt.plot(gj1243_collection[0].time[f_mask_un_mes],\n",
    "         #1+((gj1243_collection[0].PDCSAP_FLUX.flux[f_mask_un_mes] - np.nanmedian(gj1243_collection[0].PDCSAP_FLUX.flux[f_mask_un_mes]))/(np.nanmedian(gj1243lc.flux))), \n",
    "         #color='orange', alpha=0.5)\n",
    "\n",
    "#plt.xlim(539.646668,539.671143)\n",
    "plt.xlim(539.45,539.870)\n",
    "plt.ylim(1.01,1.04)\n",
    "plt.plot(gp_vals['time'], gp_vals['mean'], color=color)\n",
    "plt.fill_between(gp_vals['time'], gp_vals['mean']+gp_vals['std'], gp_vals['mean']-gp_vals['std'], color=color, alpha=0.5,\n",
    "                 edgecolor=\"none\",label='gp')\n",
    "plt.xlabel(\"Time\")\n",
    "plt.ylabel(\"Flux\")\n",
    "\n",
    "plt.plot(un_mes.time[no_flare_un_mes],month1_flux,color='g',label='no_flares')\n",
    "plt.plot(un_mes.time,raw_flux,label='raw_data')\n",
    "plt.legend()"
   ]
  },
  {
   "cell_type": "code",
   "execution_count": 20,
   "metadata": {},
   "outputs": [
    {
     "data": {
      "text/plain": [
       "<matplotlib.legend.Legend at 0x1120f4588>"
      ]
     },
     "execution_count": 20,
     "metadata": {},
     "output_type": "execute_result"
    },
    {
     "data": {
      "image/png": "[encoded data removed]",
      "text/plain": [
       "<Figure size 432x288 with 1 Axes>"
      ]
     },
     "metadata": {
      "needs_background": "light"
     },
     "output_type": "display_data"
    }
   ],
   "source": [
    "plt.xlim(539.55,539.88)\n",
    "plt.ylim(1.01,1.04)\n",
    "plt.xlabel(\"Time\")\n",
    "plt.ylabel(\"Flux\")\n",
    "\n",
    "plt.plot(un_mes.time[no_flare_un_mes],month1_flux,color='g',label='no_flares')\n",
    "plt.plot(un_mes.time,raw_flux,label='raw_data')\n",
    "plt.legend()"
   ]
  },
  {
   "cell_type": "code",
   "execution_count": 22,
   "metadata": {},
   "outputs": [
    {
     "data": {
      "text/plain": [
       "[<matplotlib.lines.Line2D at 0x1c2f3e6630>]"
      ]
     },
     "execution_count": 22,
     "metadata": {},
     "output_type": "execute_result"
    },
    {
     "data": {
      "image/png": "[encoded data removed]",
      "text/plain": [
       "<Figure size 432x288 with 1 Axes>"
      ]
     },
     "metadata": {
      "needs_background": "light"
     },
     "output_type": "display_data"
    }
   ],
   "source": [
    "plt.plot(raw_flux,label='raw_data')\n",
    "plt.plot(month1_flux)\n",
    "\n",
    "#could it be buffer added to the start/end of the flares that is causing the offset?"
   ]
  },
  {
   "cell_type": "markdown",
   "metadata": {},
   "source": [
    "flare-less data matches with the gp but there is an offset with the raw data still.."
   ]
  },
  {
   "cell_type": "code",
   "execution_count": null,
   "metadata": {},
   "outputs": [],
   "source": [
    "i = 0\n",
    "month1_median = np.nanmedian(gj1243_collection[i].PDCSAP_FLUX.flux[no_flare_un_mes])\n",
    "total_median = np.nanmedian(gj1243lc.flux[no_flares])\n",
    "\n",
    "month1_flux = 1 + (gj1243_collection[i].PDCSAP_FLUX.flux[no_flare_un_mes] - month1_median) / total_median\n",
    "\n",
    "raw_flux = 1+((gj1243_collection[0].PDCSAP_FLUX.flux - np.nanmedian(gj1243_collection[0].PDCSAP_FLUX.flux[no_flare_un_mes]))/(np.nanmedian(gj1243lc.flux)))"
   ]
  },
  {
   "cell_type": "code",
   "execution_count": 23,
   "metadata": {},
   "outputs": [
    {
     "data": {
      "text/plain": [
       "[<matplotlib.lines.Line2D at 0x1c2f589748>]"
      ]
     },
     "execution_count": 23,
     "metadata": {},
     "output_type": "execute_result"
    },
    {
     "data": {
      "image/png": "[encoded data removed]",
      "text/plain": [
       "<Figure size 432x288 with 1 Axes>"
      ]
     },
     "metadata": {
      "needs_background": "light"
     },
     "output_type": "display_data"
    }
   ],
   "source": [
    "#detrended_unmes still includes the flares\n",
    "\n",
    "detrended_unmes = (1+((gj1243_collection[0].PDCSAP_FLUX.flux - np.nanmedian(gj1243_collection[0].PDCSAP_FLUX.flux))/(np.nanmedian(gj1243lc.flux))))-gp_vals['mean']\n",
    "plt.plot(gp_vals['time'],detrended_unmes)\n",
    "plt.plot(un_mes.time,detrended_unmes)\n",
    "#plt.xlim(539,540)\n",
    "#plt.ylim(-0.01,0.01)"
   ]
  },
  {
   "cell_type": "code",
   "execution_count": 25,
   "metadata": {},
   "outputs": [
    {
     "data": {
      "text/plain": [
       "[<matplotlib.lines.Line2D at 0x1c2cb5aa58>]"
      ]
     },
     "execution_count": 25,
     "metadata": {},
     "output_type": "execute_result"
    },
    {
     "data": {
      "image/png": "[encoded data removed]",
      "text/plain": [
       "<Figure size 432x288 with 1 Axes>"
      ]
     },
     "metadata": {
      "needs_background": "light"
     },
     "output_type": "display_data"
    }
   ],
   "source": [
    "#subtracting the gp\n",
    "oneflare_x = gj1243_collection[0].time\n",
    "plt.scatter(oneflare_x,detrended_unmes)\n",
    "#avg that includes the flares\n",
    "\n",
    "#plt.xlim(539.646668,539.671143)\n",
    "plt.xlim(539.645,539.670)\n",
    "plt.ylim(-.01,0.01)\n",
    "\n",
    "#plt.plot(x, pred_mean, color=color)\n",
    "#plt.fill_between(x, pred_mean+pred_std, pred_mean-pred_std, color=color, alpha=0.5,\n",
    "                 #edgecolor=\"none\")\n",
    "plt.xlabel(\"Time\")\n",
    "plt.ylabel(\"Flux\")\n",
    "\n",
    "xvals = np.linspace(539.645, 539.67, 500)\n",
    "yinterp = np.interp(xvals, oneflare_x, detrended_unmes)\n",
    "plt.plot(xvals,yinterp,'-x',color='orange')"
   ]
  },
  {
   "cell_type": "code",
   "execution_count": 103,
   "metadata": {},
   "outputs": [
    {
     "name": "stdout",
     "output_type": "stream",
     "text": [
      "0.0016784499999857871\n",
      "-0.010559100000023136\n",
      "539.64834595\n",
      "539.6605835\n"
     ]
    }
   ],
   "source": [
    "#flux position of t_half\n",
    "print((classical_flares.t_peak[1] - classical_flares.t_start[1])/2)\n",
    "\n",
    "print((classical_flares.t_peak[1] - classical_flares.t_stop[1])/2)\n",
    "\n",
    "#time position of t_half\n",
    "print((classical_flares.t_peak[1] + classical_flares.t_start[1])/2)\n",
    "print((classical_flares.t_peak[1] + classical_flares.t_stop[1])/2)"
   ]
  },
  {
   "cell_type": "code",
   "execution_count": 30,
   "metadata": {},
   "outputs": [
    {
     "name": "stdout",
     "output_type": "stream",
     "text": [
      "98 123\n"
     ]
    }
   ],
   "source": [
    "peak = max(yinterp)  # Find the maximum y value\n",
    "xs = [x for x in range(500) if yinterp[x] > peak/2.0]\n",
    "print(min(xs), max(xs)) # Print the points at half-maximum\n",
    "\n",
    "#T_1/2 is the duration of last from the first one  (now that I have found the midpoints)"
   ]
  },
  {
   "cell_type": "code",
   "execution_count": 133,
   "metadata": {},
   "outputs": [
    {
     "name": "stdout",
     "output_type": "stream",
     "text": [
      "0.003928015098724153\n",
      "0.0035028304141460458\n",
      "539.6499098196392\n",
      "539.6511623246492\n"
     ]
    }
   ],
   "source": [
    "print(yinterp[98]) #furthest point on the one flare of the t_half on the interpolated data\n",
    "print(yinterp[123])\n",
    "print(np.interp(yinterp[98], yinterp,xvals,period=1))\n",
    "print(np.interp(yinterp[123], yinterp,xvals,period=1))"
   ]
  },
  {
   "cell_type": "code",
   "execution_count": 26,
   "metadata": {},
   "outputs": [
    {
     "name": "stdout",
     "output_type": "stream",
     "text": [
      "0.001252505010029381\n"
     ]
    }
   ],
   "source": [
    "x_thalf1= np.interp(yinterp[98], yinterp,xvals,period=1)\n",
    "x_thalf2= np.interp(yinterp[123], yinterp,xvals,period=1)\n",
    "print(x_thalf2 - x_thalf1) #this gives the difference in time between the t_half points of the interpolation"
   ]
  },
  {
   "cell_type": "code",
   "execution_count": 32,
   "metadata": {},
   "outputs": [
    {
     "data": {
      "text/plain": [
       "<matplotlib.lines.Line2D at 0x1c2f62fba8>"
      ]
     },
     "execution_count": 32,
     "metadata": {},
     "output_type": "execute_result"
    },
    {
     "data": {
      "image/png": "[encoded data removed]",
      "text/plain": [
       "<Figure size 432x288 with 1 Axes>"
      ]
     },
     "metadata": {
      "needs_background": "light"
     },
     "output_type": "display_data"
    }
   ],
   "source": [
    "#subtracting the gp\n",
    "\n",
    "plt.scatter(oneflare_x,detrended_unmes)\n",
    "#avg that includes the flares\n",
    "\n",
    "#plt.xlim(539.646668,539.671143)\n",
    "plt.xlim(539.645,539.670)\n",
    "plt.ylim(-.01,0.01)\n",
    "\n",
    "#plt.plot(x, pred_mean, color=color)\n",
    "#plt.fill_between(x, pred_mean+pred_std, pred_mean-pred_std, color=color, alpha=0.5,\n",
    "                 #edgecolor=\"none\")\n",
    "plt.xlabel(\"Time\")\n",
    "plt.ylabel(\"Flux\")\n",
    "\n",
    "xvals = np.linspace(539.645, 539.67, 500)\n",
    "yinterp = np.interp(xvals, oneflare_x, detrended_unmes)\n",
    "plt.plot(xvals,yinterp,'-x',color='orange')\n",
    "plt.axhline(y=yinterp[123], color='r', linestyle='-')\n",
    "plt.axvline(x=x_thalf1, color='b', linestyle='-')\n",
    "plt.axvline(x=x_thalf2, color='g', linestyle='-')"
   ]
  },
  {
   "cell_type": "code",
   "execution_count": 33,
   "metadata": {},
   "outputs": [],
   "source": [
    "#classical_flares"
   ]
  },
  {
   "cell_type": "code",
   "execution_count": 34,
   "metadata": {},
   "outputs": [
    {
     "name": "stdout",
     "output_type": "stream",
     "text": [
      "35.2441440000257\n",
      "539.6500244\n",
      "0.005732800000000001\n"
     ]
    }
   ],
   "source": [
    "print(classical_flares['Flare_Duration'][1]) #minutes\n",
    "print(classical_flares['t_peak'][1]) #days\n",
    "print(classical_flares['flux peak'][1])"
   ]
  },
  {
   "cell_type": "code",
   "execution_count": 44,
   "metadata": {},
   "outputs": [
    {
     "data": {
      "text/plain": [
       "39630"
      ]
     },
     "execution_count": 44,
     "metadata": {},
     "output_type": "execute_result"
    }
   ],
   "source": [
    "len(oneflare_x)"
   ]
  },
  {
   "cell_type": "markdown",
   "metadata": {},
   "source": [
    "One stacked flare"
   ]
  },
  {
   "cell_type": "code",
   "execution_count": 37,
   "metadata": {},
   "outputs": [
    {
     "data": {
      "text/plain": [
       "[<matplotlib.lines.Line2D at 0x1c2f5755f8>]"
      ]
     },
     "execution_count": 37,
     "metadata": {},
     "output_type": "execute_result"
    },
    {
     "data": {
      "image/png": "[encoded data removed]",
      "text/plain": [
       "<Figure size 432x288 with 1 Axes>"
      ]
     },
     "metadata": {
      "needs_background": "light"
     },
     "output_type": "display_data"
    }
   ],
   "source": [
    "# t_half = half of the max (peak)\n",
    "# similar to fwhm on photometry\n",
    "#x_stack = (classical_flares['Flare_Duration'] - classical_flares['t_peak']) / (x_thalf2 - x_thalf1)\n",
    "#y_stack = x_stack / classical_flares['t_peak']\n",
    "\n",
    "tempx = (oneflare_x - classical_flares['t_peak'][1]) / (x_thalf2 - x_thalf1)\n",
    "tempy = (detrended_unmes)/peak\n",
    "plt.plot(tempx,tempy,color='b',alpha=1)\n",
    "\n",
    "\n",
    "plt.xlabel('Time')\n",
    "plt.ylabel('Relative Flux')\n",
    "plt.ylim(-0.4,1)\n",
    "plt.xlim(-5,20)\n",
    "#plt.xlim(-5,20)\n",
    "# peak time is in the fbeye file (that is what is used for Jim's plot)\n",
    "# peak amplitude (also in the fbeye file but we want to calculate it for future work)\n",
    "\n",
    "interp_xvals = np.linspace(-5,20, 500)\n",
    "interp_yvals = np.interp(interp_xvals, tempx, (detrended_unmes/peak))\n",
    "plt.plot(interp_xvals,interp_yvals,'-x',color='orange',alpha=.3)"
   ]
  },
  {
   "cell_type": "markdown",
   "metadata": {},
   "source": [
    "### Interpolating over one month of data"
   ]
  },
  {
   "cell_type": "code",
   "execution_count": 45,
   "metadata": {},
   "outputs": [
    {
     "data": {
      "text/plain": [
       "[<matplotlib.lines.Line2D at 0x1c2fa148d0>]"
      ]
     },
     "execution_count": 45,
     "metadata": {},
     "output_type": "execute_result"
    },
    {
     "data": {
      "image/png": "[encoded data removed]",
      "text/plain": [
       "<Figure size 432x288 with 1 Axes>"
      ]
     },
     "metadata": {
      "needs_background": "light"
     },
     "output_type": "display_data"
    }
   ],
   "source": [
    "#interpolating the full light curve\n",
    "plt.scatter(oneflare_x,detrended_unmes)\n",
    "#avg that includes the flares\n",
    "\n",
    "#plt.xlim(539.645,539.69)\n",
    "#plt.xlim(539.645,539.670)\n",
    "#plt.ylim(-.01,0.01)\n",
    "\n",
    "#plt.plot(x, pred_mean, color=color)\n",
    "#plt.fill_between(x, pred_mean+pred_std, pred_mean-pred_std, color=color, alpha=0.5,\n",
    "                 #edgecolor=\"none\")\n",
    "plt.xlabel(\"Time\")\n",
    "plt.ylabel(\"Flux\")\n",
    "\n",
    "padding_factor = 10\n",
    "steps = padding_factor*len(detrended_unmes)\n",
    "\n",
    "month1_xvals = np.linspace(539.460, 566.534, steps)\n",
    "month1_yinterp = np.interp(month1_xvals, oneflare_x, detrended_unmes)\n",
    "plt.plot(month1_xvals,month1_yinterp,'-x',color='orange',alpha=0.5)"
   ]
  },
  {
   "cell_type": "markdown",
   "metadata": {},
   "source": [
    "### Stacking one month of flares"
   ]
  },
  {
   "cell_type": "markdown",
   "metadata": {},
   "source": [
    "First we need to find the peaks of the interpolated data (i.e the max flux of all the flares)"
   ]
  },
  {
   "cell_type": "code",
   "execution_count": 65,
   "metadata": {},
   "outputs": [
    {
     "name": "stdout",
     "output_type": "stream",
     "text": [
      "The number of total flares with a duration between 20-75min : 127\n"
     ]
    }
   ],
   "source": [
    "#first quarter of flares runs from times ~539-567\n",
    "\n",
    "#creating a table of month 1 flares\n",
    "\n",
    "month1_flares = classical_flares[classical_flares['t_stop'] < 567]\n",
    "\n",
    "#quarter one classical flares that are between 20-75 minutes\n",
    "m1_dur_limit = len([i for i in month1_flares['Flare_Duration'] if i >= min_dur and i<max_dur]) \n",
    "print (\"The number of total flares with a duration between 20-75min : \" + str(month1_flares_dur_limit))\n",
    "\n",
    "## This is a table of the first month of flares between the time limits set in Davenport (2014)\n",
    "m1_flares_dur_limit = month1_flares[(month1_flares['Flare_Duration'] >= min_dur) & (month1_flares['Flare_Duration'] < max_dur)]\n",
    "#m1_flares_dur_limit"
   ]
  },
  {
   "cell_type": "code",
   "execution_count": 92,
   "metadata": {},
   "outputs": [
    {
     "data": {
      "text/html": [
       "<div>\n",
       "<style scoped>\n",
       "    .dataframe tbody tr th:only-of-type {\n",
       "        vertical-align: middle;\n",
       "    }\n",
       "\n",
       "    .dataframe tbody tr th {\n",
       "        vertical-align: top;\n",
       "    }\n",
       "\n",
       "    .dataframe thead th {\n",
       "        text-align: right;\n",
       "    }\n",
       "</style>\n",
       "<table border=\"1\" class=\"dataframe\">\n",
       "  <thead>\n",
       "    <tr style=\"text-align: right;\">\n",
       "      <th></th>\n",
       "      <th>index of flare start in \"gj1243_master_slc.dat\"</th>\n",
       "      <th>index of flare stop in \"gj1243_master_slc.dat\"</th>\n",
       "      <th>t_start</th>\n",
       "      <th>t_stop</th>\n",
       "      <th>t_peak</th>\n",
       "      <th>t_rise</th>\n",
       "      <th>t_decay</th>\n",
       "      <th>flux peak</th>\n",
       "      <th>ED</th>\n",
       "      <th>Duration of rise</th>\n",
       "      <th>Duration of decay</th>\n",
       "      <th>Complex flag</th>\n",
       "      <th># of people that identified flare event exists</th>\n",
       "      <th># of people that analyzed this month</th>\n",
       "      <th># of flare template components fit to event</th>\n",
       "      <th>Flare_Duration</th>\n",
       "    </tr>\n",
       "  </thead>\n",
       "  <tbody>\n",
       "    <tr>\n",
       "      <th>1</th>\n",
       "      <td>275.0</td>\n",
       "      <td>310.0</td>\n",
       "      <td>539.646668</td>\n",
       "      <td>539.671143</td>\n",
       "      <td>539.650024</td>\n",
       "      <td>0.003357</td>\n",
       "      <td>0.021118</td>\n",
       "      <td>0.005733</td>\n",
       "      <td>2.601320</td>\n",
       "      <td>0.291359</td>\n",
       "      <td>2.309961</td>\n",
       "      <td>1.0</td>\n",
       "      <td>8.0</td>\n",
       "      <td>8.0</td>\n",
       "      <td>2.0</td>\n",
       "      <td>35.244144</td>\n",
       "    </tr>\n",
       "    <tr>\n",
       "      <th>5</th>\n",
       "      <td>594.0</td>\n",
       "      <td>614.0</td>\n",
       "      <td>539.865967</td>\n",
       "      <td>539.880249</td>\n",
       "      <td>539.870056</td>\n",
       "      <td>0.004089</td>\n",
       "      <td>0.010193</td>\n",
       "      <td>0.004795</td>\n",
       "      <td>0.978497</td>\n",
       "      <td>0.187819</td>\n",
       "      <td>0.790678</td>\n",
       "      <td>1.0</td>\n",
       "      <td>8.0</td>\n",
       "      <td>8.0</td>\n",
       "      <td>1.0</td>\n",
       "      <td>20.566368</td>\n",
       "    </tr>\n",
       "    <tr>\n",
       "      <th>16</th>\n",
       "      <td>1262.0</td>\n",
       "      <td>1288.0</td>\n",
       "      <td>540.326416</td>\n",
       "      <td>540.344788</td>\n",
       "      <td>540.328491</td>\n",
       "      <td>0.002075</td>\n",
       "      <td>0.016296</td>\n",
       "      <td>0.002447</td>\n",
       "      <td>1.303812</td>\n",
       "      <td>0.137945</td>\n",
       "      <td>1.165867</td>\n",
       "      <td>1.0</td>\n",
       "      <td>5.0</td>\n",
       "      <td>8.0</td>\n",
       "      <td>1.0</td>\n",
       "      <td>26.455104</td>\n",
       "    </tr>\n",
       "    <tr>\n",
       "      <th>17</th>\n",
       "      <td>1305.0</td>\n",
       "      <td>1337.0</td>\n",
       "      <td>540.356384</td>\n",
       "      <td>540.378174</td>\n",
       "      <td>540.358459</td>\n",
       "      <td>0.002075</td>\n",
       "      <td>0.019714</td>\n",
       "      <td>0.003394</td>\n",
       "      <td>2.770375</td>\n",
       "      <td>0.084208</td>\n",
       "      <td>2.686167</td>\n",
       "      <td>1.0</td>\n",
       "      <td>8.0</td>\n",
       "      <td>8.0</td>\n",
       "      <td>1.0</td>\n",
       "      <td>31.376880</td>\n",
       "    </tr>\n",
       "    <tr>\n",
       "      <th>33</th>\n",
       "      <td>2146.0</td>\n",
       "      <td>2170.0</td>\n",
       "      <td>540.934692</td>\n",
       "      <td>540.951050</td>\n",
       "      <td>540.944214</td>\n",
       "      <td>0.009522</td>\n",
       "      <td>0.006836</td>\n",
       "      <td>0.002977</td>\n",
       "      <td>1.155527</td>\n",
       "      <td>0.483659</td>\n",
       "      <td>0.671868</td>\n",
       "      <td>1.0</td>\n",
       "      <td>8.0</td>\n",
       "      <td>8.0</td>\n",
       "      <td>1.0</td>\n",
       "      <td>23.554656</td>\n",
       "    </tr>\n",
       "    <tr>\n",
       "      <th>41</th>\n",
       "      <td>2438.0</td>\n",
       "      <td>2459.0</td>\n",
       "      <td>541.142456</td>\n",
       "      <td>541.156738</td>\n",
       "      <td>541.144470</td>\n",
       "      <td>0.002014</td>\n",
       "      <td>0.012268</td>\n",
       "      <td>0.006591</td>\n",
       "      <td>2.378301</td>\n",
       "      <td>0.567651</td>\n",
       "      <td>1.810650</td>\n",
       "      <td>1.0</td>\n",
       "      <td>8.0</td>\n",
       "      <td>8.0</td>\n",
       "      <td>1.0</td>\n",
       "      <td>20.566368</td>\n",
       "    </tr>\n",
       "    <tr>\n",
       "      <th>42</th>\n",
       "      <td>2475.0</td>\n",
       "      <td>2517.0</td>\n",
       "      <td>541.167664</td>\n",
       "      <td>541.196899</td>\n",
       "      <td>541.173096</td>\n",
       "      <td>0.005432</td>\n",
       "      <td>0.023804</td>\n",
       "      <td>0.010578</td>\n",
       "      <td>4.931096</td>\n",
       "      <td>1.413226</td>\n",
       "      <td>3.517869</td>\n",
       "      <td>1.0</td>\n",
       "      <td>8.0</td>\n",
       "      <td>8.0</td>\n",
       "      <td>1.0</td>\n",
       "      <td>42.099552</td>\n",
       "    </tr>\n",
       "    <tr>\n",
       "      <th>43</th>\n",
       "      <td>2565.0</td>\n",
       "      <td>2587.0</td>\n",
       "      <td>541.229614</td>\n",
       "      <td>541.245300</td>\n",
       "      <td>541.232361</td>\n",
       "      <td>0.002747</td>\n",
       "      <td>0.012940</td>\n",
       "      <td>0.005510</td>\n",
       "      <td>1.937838</td>\n",
       "      <td>0.650844</td>\n",
       "      <td>1.286994</td>\n",
       "      <td>1.0</td>\n",
       "      <td>8.0</td>\n",
       "      <td>8.0</td>\n",
       "      <td>1.0</td>\n",
       "      <td>22.587840</td>\n",
       "    </tr>\n",
       "    <tr>\n",
       "      <th>46</th>\n",
       "      <td>2702.0</td>\n",
       "      <td>2725.0</td>\n",
       "      <td>541.323608</td>\n",
       "      <td>541.339294</td>\n",
       "      <td>541.325684</td>\n",
       "      <td>0.002075</td>\n",
       "      <td>0.013611</td>\n",
       "      <td>0.015069</td>\n",
       "      <td>3.637085</td>\n",
       "      <td>0.949929</td>\n",
       "      <td>2.687156</td>\n",
       "      <td>1.0</td>\n",
       "      <td>8.0</td>\n",
       "      <td>8.0</td>\n",
       "      <td>1.0</td>\n",
       "      <td>22.587840</td>\n",
       "    </tr>\n",
       "    <tr>\n",
       "      <th>48</th>\n",
       "      <td>2825.0</td>\n",
       "      <td>2852.0</td>\n",
       "      <td>541.408081</td>\n",
       "      <td>541.426453</td>\n",
       "      <td>541.410095</td>\n",
       "      <td>0.002014</td>\n",
       "      <td>0.016357</td>\n",
       "      <td>0.010596</td>\n",
       "      <td>3.733333</td>\n",
       "      <td>0.904708</td>\n",
       "      <td>2.828625</td>\n",
       "      <td>1.0</td>\n",
       "      <td>8.0</td>\n",
       "      <td>8.0</td>\n",
       "      <td>1.0</td>\n",
       "      <td>26.454960</td>\n",
       "    </tr>\n",
       "    <tr>\n",
       "      <th>53</th>\n",
       "      <td>3022.0</td>\n",
       "      <td>3072.0</td>\n",
       "      <td>541.542969</td>\n",
       "      <td>541.578369</td>\n",
       "      <td>541.546326</td>\n",
       "      <td>0.003357</td>\n",
       "      <td>0.032044</td>\n",
       "      <td>0.015992</td>\n",
       "      <td>11.158404</td>\n",
       "      <td>1.359274</td>\n",
       "      <td>9.799130</td>\n",
       "      <td>1.0</td>\n",
       "      <td>8.0</td>\n",
       "      <td>8.0</td>\n",
       "      <td>2.0</td>\n",
       "      <td>50.976432</td>\n",
       "    </tr>\n",
       "    <tr>\n",
       "      <th>56</th>\n",
       "      <td>3379.0</td>\n",
       "      <td>3406.0</td>\n",
       "      <td>541.790222</td>\n",
       "      <td>541.808594</td>\n",
       "      <td>541.791565</td>\n",
       "      <td>0.001343</td>\n",
       "      <td>0.017029</td>\n",
       "      <td>0.011324</td>\n",
       "      <td>4.100434</td>\n",
       "      <td>0.348273</td>\n",
       "      <td>3.752161</td>\n",
       "      <td>1.0</td>\n",
       "      <td>8.0</td>\n",
       "      <td>8.0</td>\n",
       "      <td>2.0</td>\n",
       "      <td>26.455104</td>\n",
       "    </tr>\n",
       "    <tr>\n",
       "      <th>58</th>\n",
       "      <td>3458.0</td>\n",
       "      <td>3480.0</td>\n",
       "      <td>541.843994</td>\n",
       "      <td>541.859680</td>\n",
       "      <td>541.846741</td>\n",
       "      <td>0.002747</td>\n",
       "      <td>0.012940</td>\n",
       "      <td>0.013099</td>\n",
       "      <td>3.826268</td>\n",
       "      <td>0.813227</td>\n",
       "      <td>3.013042</td>\n",
       "      <td>1.0</td>\n",
       "      <td>8.0</td>\n",
       "      <td>8.0</td>\n",
       "      <td>1.0</td>\n",
       "      <td>22.587984</td>\n",
       "    </tr>\n",
       "    <tr>\n",
       "      <th>60</th>\n",
       "      <td>3552.0</td>\n",
       "      <td>3604.0</td>\n",
       "      <td>541.909424</td>\n",
       "      <td>541.945496</td>\n",
       "      <td>541.911438</td>\n",
       "      <td>0.002014</td>\n",
       "      <td>0.034058</td>\n",
       "      <td>0.100088</td>\n",
       "      <td>39.243309</td>\n",
       "      <td>2.838378</td>\n",
       "      <td>36.404930</td>\n",
       "      <td>1.0</td>\n",
       "      <td>8.0</td>\n",
       "      <td>8.0</td>\n",
       "      <td>2.0</td>\n",
       "      <td>51.943392</td>\n",
       "    </tr>\n",
       "    <tr>\n",
       "      <th>63</th>\n",
       "      <td>3689.0</td>\n",
       "      <td>3756.0</td>\n",
       "      <td>542.003418</td>\n",
       "      <td>542.049744</td>\n",
       "      <td>542.005432</td>\n",
       "      <td>0.002014</td>\n",
       "      <td>0.044312</td>\n",
       "      <td>0.015230</td>\n",
       "      <td>12.736857</td>\n",
       "      <td>0.440242</td>\n",
       "      <td>12.296616</td>\n",
       "      <td>1.0</td>\n",
       "      <td>8.0</td>\n",
       "      <td>8.0</td>\n",
       "      <td>2.0</td>\n",
       "      <td>66.709008</td>\n",
       "    </tr>\n",
       "    <tr>\n",
       "      <th>67</th>\n",
       "      <td>3974.0</td>\n",
       "      <td>4030.0</td>\n",
       "      <td>542.198181</td>\n",
       "      <td>542.236328</td>\n",
       "      <td>542.221375</td>\n",
       "      <td>0.023193</td>\n",
       "      <td>0.014954</td>\n",
       "      <td>0.004748</td>\n",
       "      <td>6.108929</td>\n",
       "      <td>2.923305</td>\n",
       "      <td>3.185624</td>\n",
       "      <td>1.0</td>\n",
       "      <td>8.0</td>\n",
       "      <td>8.0</td>\n",
       "      <td>2.0</td>\n",
       "      <td>54.931536</td>\n",
       "    </tr>\n",
       "    <tr>\n",
       "      <th>79</th>\n",
       "      <td>4666.0</td>\n",
       "      <td>4686.0</td>\n",
       "      <td>542.672974</td>\n",
       "      <td>542.687256</td>\n",
       "      <td>542.675659</td>\n",
       "      <td>0.002685</td>\n",
       "      <td>0.011597</td>\n",
       "      <td>0.003832</td>\n",
       "      <td>1.940115</td>\n",
       "      <td>0.415662</td>\n",
       "      <td>1.524452</td>\n",
       "      <td>1.0</td>\n",
       "      <td>8.0</td>\n",
       "      <td>8.0</td>\n",
       "      <td>1.0</td>\n",
       "      <td>20.566512</td>\n",
       "    </tr>\n",
       "    <tr>\n",
       "      <th>93</th>\n",
       "      <td>5484.0</td>\n",
       "      <td>5512.0</td>\n",
       "      <td>543.236267</td>\n",
       "      <td>543.255310</td>\n",
       "      <td>543.241028</td>\n",
       "      <td>0.004761</td>\n",
       "      <td>0.014282</td>\n",
       "      <td>0.010868</td>\n",
       "      <td>4.246199</td>\n",
       "      <td>1.080954</td>\n",
       "      <td>3.165245</td>\n",
       "      <td>1.0</td>\n",
       "      <td>8.0</td>\n",
       "      <td>8.0</td>\n",
       "      <td>2.0</td>\n",
       "      <td>27.421920</td>\n",
       "    </tr>\n",
       "    <tr>\n",
       "      <th>94</th>\n",
       "      <td>5553.0</td>\n",
       "      <td>5580.0</td>\n",
       "      <td>543.283264</td>\n",
       "      <td>543.301636</td>\n",
       "      <td>543.287353</td>\n",
       "      <td>0.004089</td>\n",
       "      <td>0.014282</td>\n",
       "      <td>0.013837</td>\n",
       "      <td>4.357216</td>\n",
       "      <td>0.542604</td>\n",
       "      <td>3.814611</td>\n",
       "      <td>1.0</td>\n",
       "      <td>8.0</td>\n",
       "      <td>8.0</td>\n",
       "      <td>2.0</td>\n",
       "      <td>26.454960</td>\n",
       "    </tr>\n",
       "    <tr>\n",
       "      <th>101</th>\n",
       "      <td>6146.0</td>\n",
       "      <td>6168.0</td>\n",
       "      <td>543.687195</td>\n",
       "      <td>543.702148</td>\n",
       "      <td>543.694702</td>\n",
       "      <td>0.007507</td>\n",
       "      <td>0.007446</td>\n",
       "      <td>0.002760</td>\n",
       "      <td>1.368067</td>\n",
       "      <td>0.876132</td>\n",
       "      <td>0.491936</td>\n",
       "      <td>1.0</td>\n",
       "      <td>6.0</td>\n",
       "      <td>8.0</td>\n",
       "      <td>1.0</td>\n",
       "      <td>21.533184</td>\n",
       "    </tr>\n",
       "    <tr>\n",
       "      <th>102</th>\n",
       "      <td>6214.0</td>\n",
       "      <td>6243.0</td>\n",
       "      <td>543.733521</td>\n",
       "      <td>543.753235</td>\n",
       "      <td>543.736206</td>\n",
       "      <td>0.002685</td>\n",
       "      <td>0.017029</td>\n",
       "      <td>0.007309</td>\n",
       "      <td>3.501087</td>\n",
       "      <td>0.487977</td>\n",
       "      <td>3.013111</td>\n",
       "      <td>1.0</td>\n",
       "      <td>8.0</td>\n",
       "      <td>8.0</td>\n",
       "      <td>2.0</td>\n",
       "      <td>28.388736</td>\n",
       "    </tr>\n",
       "    <tr>\n",
       "      <th>104</th>\n",
       "      <td>6392.0</td>\n",
       "      <td>6420.0</td>\n",
       "      <td>543.856079</td>\n",
       "      <td>543.875183</td>\n",
       "      <td>543.859497</td>\n",
       "      <td>0.003418</td>\n",
       "      <td>0.015686</td>\n",
       "      <td>0.004798</td>\n",
       "      <td>3.771358</td>\n",
       "      <td>0.511134</td>\n",
       "      <td>3.260224</td>\n",
       "      <td>1.0</td>\n",
       "      <td>8.0</td>\n",
       "      <td>8.0</td>\n",
       "      <td>2.0</td>\n",
       "      <td>27.509760</td>\n",
       "    </tr>\n",
       "    <tr>\n",
       "      <th>108</th>\n",
       "      <td>6612.0</td>\n",
       "      <td>6637.0</td>\n",
       "      <td>544.006653</td>\n",
       "      <td>544.023682</td>\n",
       "      <td>544.009338</td>\n",
       "      <td>0.002685</td>\n",
       "      <td>0.014343</td>\n",
       "      <td>0.003223</td>\n",
       "      <td>2.299203</td>\n",
       "      <td>0.249405</td>\n",
       "      <td>2.049799</td>\n",
       "      <td>1.0</td>\n",
       "      <td>8.0</td>\n",
       "      <td>8.0</td>\n",
       "      <td>2.0</td>\n",
       "      <td>24.521472</td>\n",
       "    </tr>\n",
       "    <tr>\n",
       "      <th>109</th>\n",
       "      <td>6652.0</td>\n",
       "      <td>6675.0</td>\n",
       "      <td>544.034546</td>\n",
       "      <td>544.050232</td>\n",
       "      <td>544.036621</td>\n",
       "      <td>0.002075</td>\n",
       "      <td>0.013611</td>\n",
       "      <td>0.008240</td>\n",
       "      <td>3.549930</td>\n",
       "      <td>0.446279</td>\n",
       "      <td>3.103651</td>\n",
       "      <td>1.0</td>\n",
       "      <td>8.0</td>\n",
       "      <td>8.0</td>\n",
       "      <td>1.0</td>\n",
       "      <td>22.587840</td>\n",
       "    </tr>\n",
       "    <tr>\n",
       "      <th>121</th>\n",
       "      <td>7642.0</td>\n",
       "      <td>7696.0</td>\n",
       "      <td>544.720459</td>\n",
       "      <td>544.758606</td>\n",
       "      <td>544.725220</td>\n",
       "      <td>0.004761</td>\n",
       "      <td>0.033386</td>\n",
       "      <td>0.003446</td>\n",
       "      <td>2.135067</td>\n",
       "      <td>0.012355</td>\n",
       "      <td>2.122712</td>\n",
       "      <td>1.0</td>\n",
       "      <td>8.0</td>\n",
       "      <td>8.0</td>\n",
       "      <td>1.0</td>\n",
       "      <td>54.931680</td>\n",
       "    </tr>\n",
       "    <tr>\n",
       "      <th>124</th>\n",
       "      <td>7897.0</td>\n",
       "      <td>7919.0</td>\n",
       "      <td>544.897583</td>\n",
       "      <td>544.913208</td>\n",
       "      <td>544.901672</td>\n",
       "      <td>0.004089</td>\n",
       "      <td>0.011536</td>\n",
       "      <td>0.004979</td>\n",
       "      <td>1.299311</td>\n",
       "      <td>0.184655</td>\n",
       "      <td>1.114656</td>\n",
       "      <td>1.0</td>\n",
       "      <td>8.0</td>\n",
       "      <td>8.0</td>\n",
       "      <td>1.0</td>\n",
       "      <td>22.500000</td>\n",
       "    </tr>\n",
       "    <tr>\n",
       "      <th>125</th>\n",
       "      <td>7964.0</td>\n",
       "      <td>7986.0</td>\n",
       "      <td>544.943909</td>\n",
       "      <td>544.958862</td>\n",
       "      <td>544.946594</td>\n",
       "      <td>0.002685</td>\n",
       "      <td>0.012268</td>\n",
       "      <td>0.001398</td>\n",
       "      <td>0.554480</td>\n",
       "      <td>0.044889</td>\n",
       "      <td>0.509591</td>\n",
       "      <td>1.0</td>\n",
       "      <td>3.0</td>\n",
       "      <td>8.0</td>\n",
       "      <td>1.0</td>\n",
       "      <td>21.533184</td>\n",
       "    </tr>\n",
       "    <tr>\n",
       "      <th>128</th>\n",
       "      <td>8126.0</td>\n",
       "      <td>8148.0</td>\n",
       "      <td>545.055603</td>\n",
       "      <td>545.071228</td>\n",
       "      <td>545.056946</td>\n",
       "      <td>0.001343</td>\n",
       "      <td>0.014282</td>\n",
       "      <td>0.005915</td>\n",
       "      <td>3.236086</td>\n",
       "      <td>0.197931</td>\n",
       "      <td>3.038156</td>\n",
       "      <td>1.0</td>\n",
       "      <td>8.0</td>\n",
       "      <td>8.0</td>\n",
       "      <td>2.0</td>\n",
       "      <td>22.500000</td>\n",
       "    </tr>\n",
       "    <tr>\n",
       "      <th>129</th>\n",
       "      <td>8243.0</td>\n",
       "      <td>8282.0</td>\n",
       "      <td>545.135986</td>\n",
       "      <td>545.163879</td>\n",
       "      <td>545.141418</td>\n",
       "      <td>0.005432</td>\n",
       "      <td>0.022461</td>\n",
       "      <td>0.008127</td>\n",
       "      <td>4.918304</td>\n",
       "      <td>0.784454</td>\n",
       "      <td>4.133850</td>\n",
       "      <td>1.0</td>\n",
       "      <td>8.0</td>\n",
       "      <td>8.0</td>\n",
       "      <td>1.0</td>\n",
       "      <td>40.166064</td>\n",
       "    </tr>\n",
       "    <tr>\n",
       "      <th>130</th>\n",
       "      <td>8314.0</td>\n",
       "      <td>8362.0</td>\n",
       "      <td>545.185669</td>\n",
       "      <td>545.218384</td>\n",
       "      <td>545.189087</td>\n",
       "      <td>0.003418</td>\n",
       "      <td>0.029297</td>\n",
       "      <td>0.055919</td>\n",
       "      <td>23.030153</td>\n",
       "      <td>1.742525</td>\n",
       "      <td>21.287628</td>\n",
       "      <td>1.0</td>\n",
       "      <td>8.0</td>\n",
       "      <td>8.0</td>\n",
       "      <td>3.0</td>\n",
       "      <td>47.109456</td>\n",
       "    </tr>\n",
       "    <tr>\n",
       "      <th>...</th>\n",
       "      <td>...</td>\n",
       "      <td>...</td>\n",
       "      <td>...</td>\n",
       "      <td>...</td>\n",
       "      <td>...</td>\n",
       "      <td>...</td>\n",
       "      <td>...</td>\n",
       "      <td>...</td>\n",
       "      <td>...</td>\n",
       "      <td>...</td>\n",
       "      <td>...</td>\n",
       "      <td>...</td>\n",
       "      <td>...</td>\n",
       "      <td>...</td>\n",
       "      <td>...</td>\n",
       "      <td>...</td>\n",
       "    </tr>\n",
       "    <tr>\n",
       "      <th>427</th>\n",
       "      <td>29029.0</td>\n",
       "      <td>29050.0</td>\n",
       "      <td>560.087647</td>\n",
       "      <td>560.101929</td>\n",
       "      <td>560.090332</td>\n",
       "      <td>0.002685</td>\n",
       "      <td>0.011597</td>\n",
       "      <td>0.003759</td>\n",
       "      <td>1.052473</td>\n",
       "      <td>0.280307</td>\n",
       "      <td>0.772166</td>\n",
       "      <td>1.0</td>\n",
       "      <td>7.0</td>\n",
       "      <td>8.0</td>\n",
       "      <td>2.0</td>\n",
       "      <td>20.566368</td>\n",
       "    </tr>\n",
       "    <tr>\n",
       "      <th>436</th>\n",
       "      <td>29753.0</td>\n",
       "      <td>29776.0</td>\n",
       "      <td>560.582153</td>\n",
       "      <td>560.597778</td>\n",
       "      <td>560.585571</td>\n",
       "      <td>0.003418</td>\n",
       "      <td>0.012207</td>\n",
       "      <td>0.002268</td>\n",
       "      <td>1.730658</td>\n",
       "      <td>0.138489</td>\n",
       "      <td>1.592169</td>\n",
       "      <td>1.0</td>\n",
       "      <td>8.0</td>\n",
       "      <td>8.0</td>\n",
       "      <td>1.0</td>\n",
       "      <td>22.500000</td>\n",
       "    </tr>\n",
       "    <tr>\n",
       "      <th>444</th>\n",
       "      <td>30301.0</td>\n",
       "      <td>30322.0</td>\n",
       "      <td>560.957459</td>\n",
       "      <td>560.972412</td>\n",
       "      <td>560.960144</td>\n",
       "      <td>0.002685</td>\n",
       "      <td>0.012268</td>\n",
       "      <td>0.005300</td>\n",
       "      <td>1.972742</td>\n",
       "      <td>0.576267</td>\n",
       "      <td>1.396475</td>\n",
       "      <td>1.0</td>\n",
       "      <td>8.0</td>\n",
       "      <td>8.0</td>\n",
       "      <td>1.0</td>\n",
       "      <td>21.533184</td>\n",
       "    </tr>\n",
       "    <tr>\n",
       "      <th>446</th>\n",
       "      <td>30337.0</td>\n",
       "      <td>30358.0</td>\n",
       "      <td>560.983337</td>\n",
       "      <td>560.998291</td>\n",
       "      <td>560.985352</td>\n",
       "      <td>0.002014</td>\n",
       "      <td>0.012940</td>\n",
       "      <td>0.003978</td>\n",
       "      <td>1.722590</td>\n",
       "      <td>0.136632</td>\n",
       "      <td>1.585958</td>\n",
       "      <td>1.0</td>\n",
       "      <td>8.0</td>\n",
       "      <td>8.0</td>\n",
       "      <td>1.0</td>\n",
       "      <td>21.533184</td>\n",
       "    </tr>\n",
       "    <tr>\n",
       "      <th>448</th>\n",
       "      <td>30468.0</td>\n",
       "      <td>30495.0</td>\n",
       "      <td>561.073914</td>\n",
       "      <td>561.092285</td>\n",
       "      <td>561.076660</td>\n",
       "      <td>0.002747</td>\n",
       "      <td>0.015625</td>\n",
       "      <td>0.004788</td>\n",
       "      <td>2.300903</td>\n",
       "      <td>0.049175</td>\n",
       "      <td>2.251728</td>\n",
       "      <td>1.0</td>\n",
       "      <td>8.0</td>\n",
       "      <td>8.0</td>\n",
       "      <td>1.0</td>\n",
       "      <td>26.455104</td>\n",
       "    </tr>\n",
       "    <tr>\n",
       "      <th>449</th>\n",
       "      <td>30505.0</td>\n",
       "      <td>30526.0</td>\n",
       "      <td>561.099121</td>\n",
       "      <td>561.113403</td>\n",
       "      <td>561.102539</td>\n",
       "      <td>0.003418</td>\n",
       "      <td>0.010864</td>\n",
       "      <td>0.010537</td>\n",
       "      <td>2.323531</td>\n",
       "      <td>0.503407</td>\n",
       "      <td>1.820124</td>\n",
       "      <td>1.0</td>\n",
       "      <td>8.0</td>\n",
       "      <td>8.0</td>\n",
       "      <td>1.0</td>\n",
       "      <td>20.566368</td>\n",
       "    </tr>\n",
       "    <tr>\n",
       "      <th>450</th>\n",
       "      <td>30560.0</td>\n",
       "      <td>30581.0</td>\n",
       "      <td>561.136597</td>\n",
       "      <td>561.150879</td>\n",
       "      <td>561.140686</td>\n",
       "      <td>0.004089</td>\n",
       "      <td>0.010193</td>\n",
       "      <td>0.003791</td>\n",
       "      <td>1.582538</td>\n",
       "      <td>0.492156</td>\n",
       "      <td>1.090382</td>\n",
       "      <td>1.0</td>\n",
       "      <td>8.0</td>\n",
       "      <td>8.0</td>\n",
       "      <td>1.0</td>\n",
       "      <td>20.566368</td>\n",
       "    </tr>\n",
       "    <tr>\n",
       "      <th>452</th>\n",
       "      <td>30671.0</td>\n",
       "      <td>30694.0</td>\n",
       "      <td>561.212219</td>\n",
       "      <td>561.227844</td>\n",
       "      <td>561.219666</td>\n",
       "      <td>0.007446</td>\n",
       "      <td>0.008179</td>\n",
       "      <td>0.002533</td>\n",
       "      <td>0.887040</td>\n",
       "      <td>0.292578</td>\n",
       "      <td>0.594462</td>\n",
       "      <td>1.0</td>\n",
       "      <td>8.0</td>\n",
       "      <td>8.0</td>\n",
       "      <td>1.0</td>\n",
       "      <td>22.500000</td>\n",
       "    </tr>\n",
       "    <tr>\n",
       "      <th>454</th>\n",
       "      <td>30864.0</td>\n",
       "      <td>30905.0</td>\n",
       "      <td>561.345032</td>\n",
       "      <td>561.374329</td>\n",
       "      <td>561.347046</td>\n",
       "      <td>0.002014</td>\n",
       "      <td>0.027283</td>\n",
       "      <td>0.032691</td>\n",
       "      <td>13.190105</td>\n",
       "      <td>2.625112</td>\n",
       "      <td>10.564993</td>\n",
       "      <td>1.0</td>\n",
       "      <td>8.0</td>\n",
       "      <td>8.0</td>\n",
       "      <td>1.0</td>\n",
       "      <td>42.187536</td>\n",
       "    </tr>\n",
       "    <tr>\n",
       "      <th>459</th>\n",
       "      <td>31185.0</td>\n",
       "      <td>31207.0</td>\n",
       "      <td>561.567078</td>\n",
       "      <td>561.582031</td>\n",
       "      <td>561.577271</td>\n",
       "      <td>0.010193</td>\n",
       "      <td>0.004761</td>\n",
       "      <td>0.002272</td>\n",
       "      <td>0.743682</td>\n",
       "      <td>0.344326</td>\n",
       "      <td>0.399356</td>\n",
       "      <td>1.0</td>\n",
       "      <td>8.0</td>\n",
       "      <td>8.0</td>\n",
       "      <td>1.0</td>\n",
       "      <td>21.533184</td>\n",
       "    </tr>\n",
       "    <tr>\n",
       "      <th>464</th>\n",
       "      <td>31527.0</td>\n",
       "      <td>31550.0</td>\n",
       "      <td>561.799988</td>\n",
       "      <td>561.815674</td>\n",
       "      <td>561.802734</td>\n",
       "      <td>0.002747</td>\n",
       "      <td>0.012940</td>\n",
       "      <td>0.004669</td>\n",
       "      <td>2.366500</td>\n",
       "      <td>0.310254</td>\n",
       "      <td>2.056247</td>\n",
       "      <td>1.0</td>\n",
       "      <td>8.0</td>\n",
       "      <td>8.0</td>\n",
       "      <td>1.0</td>\n",
       "      <td>22.587840</td>\n",
       "    </tr>\n",
       "    <tr>\n",
       "      <th>472</th>\n",
       "      <td>32060.0</td>\n",
       "      <td>32081.0</td>\n",
       "      <td>562.173950</td>\n",
       "      <td>562.188232</td>\n",
       "      <td>562.176697</td>\n",
       "      <td>0.002747</td>\n",
       "      <td>0.011536</td>\n",
       "      <td>0.003561</td>\n",
       "      <td>0.816610</td>\n",
       "      <td>0.398176</td>\n",
       "      <td>0.418434</td>\n",
       "      <td>1.0</td>\n",
       "      <td>8.0</td>\n",
       "      <td>8.0</td>\n",
       "      <td>1.0</td>\n",
       "      <td>20.566368</td>\n",
       "    </tr>\n",
       "    <tr>\n",
       "      <th>474</th>\n",
       "      <td>32150.0</td>\n",
       "      <td>32169.0</td>\n",
       "      <td>562.235962</td>\n",
       "      <td>562.250244</td>\n",
       "      <td>562.238647</td>\n",
       "      <td>0.002685</td>\n",
       "      <td>0.011597</td>\n",
       "      <td>0.005315</td>\n",
       "      <td>1.826938</td>\n",
       "      <td>0.280872</td>\n",
       "      <td>1.546066</td>\n",
       "      <td>1.0</td>\n",
       "      <td>8.0</td>\n",
       "      <td>8.0</td>\n",
       "      <td>1.0</td>\n",
       "      <td>20.566368</td>\n",
       "    </tr>\n",
       "    <tr>\n",
       "      <th>477</th>\n",
       "      <td>32308.0</td>\n",
       "      <td>32330.0</td>\n",
       "      <td>562.344910</td>\n",
       "      <td>562.360596</td>\n",
       "      <td>562.346313</td>\n",
       "      <td>0.001404</td>\n",
       "      <td>0.014282</td>\n",
       "      <td>0.006794</td>\n",
       "      <td>2.018873</td>\n",
       "      <td>0.390976</td>\n",
       "      <td>1.627897</td>\n",
       "      <td>1.0</td>\n",
       "      <td>8.0</td>\n",
       "      <td>8.0</td>\n",
       "      <td>2.0</td>\n",
       "      <td>22.587840</td>\n",
       "    </tr>\n",
       "    <tr>\n",
       "      <th>478</th>\n",
       "      <td>32356.0</td>\n",
       "      <td>32388.0</td>\n",
       "      <td>562.378296</td>\n",
       "      <td>562.400757</td>\n",
       "      <td>562.381714</td>\n",
       "      <td>0.003418</td>\n",
       "      <td>0.019043</td>\n",
       "      <td>0.010727</td>\n",
       "      <td>4.772790</td>\n",
       "      <td>0.435166</td>\n",
       "      <td>4.337624</td>\n",
       "      <td>1.0</td>\n",
       "      <td>8.0</td>\n",
       "      <td>8.0</td>\n",
       "      <td>2.0</td>\n",
       "      <td>32.343696</td>\n",
       "    </tr>\n",
       "    <tr>\n",
       "      <th>483</th>\n",
       "      <td>32665.0</td>\n",
       "      <td>32717.0</td>\n",
       "      <td>562.592834</td>\n",
       "      <td>562.628296</td>\n",
       "      <td>562.597595</td>\n",
       "      <td>0.004761</td>\n",
       "      <td>0.030701</td>\n",
       "      <td>0.020078</td>\n",
       "      <td>10.044655</td>\n",
       "      <td>1.345882</td>\n",
       "      <td>8.698772</td>\n",
       "      <td>1.0</td>\n",
       "      <td>8.0</td>\n",
       "      <td>8.0</td>\n",
       "      <td>2.0</td>\n",
       "      <td>51.064416</td>\n",
       "    </tr>\n",
       "    <tr>\n",
       "      <th>484</th>\n",
       "      <td>32811.0</td>\n",
       "      <td>32844.0</td>\n",
       "      <td>562.692993</td>\n",
       "      <td>562.716797</td>\n",
       "      <td>562.695679</td>\n",
       "      <td>0.002685</td>\n",
       "      <td>0.021118</td>\n",
       "      <td>0.003470</td>\n",
       "      <td>1.983722</td>\n",
       "      <td>-0.020262</td>\n",
       "      <td>2.003984</td>\n",
       "      <td>1.0</td>\n",
       "      <td>8.0</td>\n",
       "      <td>8.0</td>\n",
       "      <td>3.0</td>\n",
       "      <td>34.277328</td>\n",
       "    </tr>\n",
       "    <tr>\n",
       "      <th>489</th>\n",
       "      <td>33234.0</td>\n",
       "      <td>33259.0</td>\n",
       "      <td>562.987915</td>\n",
       "      <td>563.004944</td>\n",
       "      <td>562.989258</td>\n",
       "      <td>0.001343</td>\n",
       "      <td>0.015686</td>\n",
       "      <td>0.008574</td>\n",
       "      <td>3.419922</td>\n",
       "      <td>0.266069</td>\n",
       "      <td>3.153854</td>\n",
       "      <td>1.0</td>\n",
       "      <td>8.0</td>\n",
       "      <td>8.0</td>\n",
       "      <td>2.0</td>\n",
       "      <td>24.521472</td>\n",
       "    </tr>\n",
       "    <tr>\n",
       "      <th>498</th>\n",
       "      <td>33782.0</td>\n",
       "      <td>33819.0</td>\n",
       "      <td>563.364563</td>\n",
       "      <td>563.389771</td>\n",
       "      <td>563.367981</td>\n",
       "      <td>0.003418</td>\n",
       "      <td>0.021790</td>\n",
       "      <td>0.016620</td>\n",
       "      <td>6.083875</td>\n",
       "      <td>0.861576</td>\n",
       "      <td>5.222299</td>\n",
       "      <td>1.0</td>\n",
       "      <td>8.0</td>\n",
       "      <td>8.0</td>\n",
       "      <td>1.0</td>\n",
       "      <td>36.298800</td>\n",
       "    </tr>\n",
       "    <tr>\n",
       "      <th>501</th>\n",
       "      <td>34284.0</td>\n",
       "      <td>34307.0</td>\n",
       "      <td>563.710571</td>\n",
       "      <td>563.726257</td>\n",
       "      <td>563.713318</td>\n",
       "      <td>0.002747</td>\n",
       "      <td>0.012940</td>\n",
       "      <td>0.009548</td>\n",
       "      <td>1.928957</td>\n",
       "      <td>0.118688</td>\n",
       "      <td>1.810269</td>\n",
       "      <td>1.0</td>\n",
       "      <td>8.0</td>\n",
       "      <td>8.0</td>\n",
       "      <td>1.0</td>\n",
       "      <td>22.587840</td>\n",
       "    </tr>\n",
       "    <tr>\n",
       "      <th>506</th>\n",
       "      <td>34719.0</td>\n",
       "      <td>34749.0</td>\n",
       "      <td>564.007568</td>\n",
       "      <td>564.028015</td>\n",
       "      <td>564.009644</td>\n",
       "      <td>0.002075</td>\n",
       "      <td>0.018372</td>\n",
       "      <td>0.021079</td>\n",
       "      <td>6.489861</td>\n",
       "      <td>1.414008</td>\n",
       "      <td>5.075853</td>\n",
       "      <td>1.0</td>\n",
       "      <td>8.0</td>\n",
       "      <td>8.0</td>\n",
       "      <td>1.0</td>\n",
       "      <td>29.443248</td>\n",
       "    </tr>\n",
       "    <tr>\n",
       "      <th>513</th>\n",
       "      <td>35178.0</td>\n",
       "      <td>35201.0</td>\n",
       "      <td>564.321594</td>\n",
       "      <td>564.337219</td>\n",
       "      <td>564.324280</td>\n",
       "      <td>0.002685</td>\n",
       "      <td>0.012940</td>\n",
       "      <td>0.005692</td>\n",
       "      <td>3.036009</td>\n",
       "      <td>0.379665</td>\n",
       "      <td>2.656344</td>\n",
       "      <td>1.0</td>\n",
       "      <td>8.0</td>\n",
       "      <td>8.0</td>\n",
       "      <td>1.0</td>\n",
       "      <td>22.500000</td>\n",
       "    </tr>\n",
       "    <tr>\n",
       "      <th>517</th>\n",
       "      <td>35417.0</td>\n",
       "      <td>35446.0</td>\n",
       "      <td>564.486389</td>\n",
       "      <td>564.506165</td>\n",
       "      <td>564.491150</td>\n",
       "      <td>0.004761</td>\n",
       "      <td>0.015015</td>\n",
       "      <td>0.009052</td>\n",
       "      <td>4.150510</td>\n",
       "      <td>0.500818</td>\n",
       "      <td>3.649692</td>\n",
       "      <td>1.0</td>\n",
       "      <td>8.0</td>\n",
       "      <td>8.0</td>\n",
       "      <td>1.0</td>\n",
       "      <td>28.476576</td>\n",
       "    </tr>\n",
       "    <tr>\n",
       "      <th>522</th>\n",
       "      <td>35610.0</td>\n",
       "      <td>35641.0</td>\n",
       "      <td>564.617859</td>\n",
       "      <td>564.639648</td>\n",
       "      <td>564.628784</td>\n",
       "      <td>0.010925</td>\n",
       "      <td>0.010864</td>\n",
       "      <td>0.002431</td>\n",
       "      <td>2.159085</td>\n",
       "      <td>1.001440</td>\n",
       "      <td>1.157645</td>\n",
       "      <td>1.0</td>\n",
       "      <td>7.0</td>\n",
       "      <td>8.0</td>\n",
       "      <td>1.0</td>\n",
       "      <td>31.376880</td>\n",
       "    </tr>\n",
       "    <tr>\n",
       "      <th>524</th>\n",
       "      <td>35755.0</td>\n",
       "      <td>35776.0</td>\n",
       "      <td>564.718018</td>\n",
       "      <td>564.732300</td>\n",
       "      <td>564.723450</td>\n",
       "      <td>0.005432</td>\n",
       "      <td>0.008850</td>\n",
       "      <td>0.003414</td>\n",
       "      <td>1.528362</td>\n",
       "      <td>0.378017</td>\n",
       "      <td>1.150345</td>\n",
       "      <td>1.0</td>\n",
       "      <td>8.0</td>\n",
       "      <td>8.0</td>\n",
       "      <td>1.0</td>\n",
       "      <td>20.566368</td>\n",
       "    </tr>\n",
       "    <tr>\n",
       "      <th>525</th>\n",
       "      <td>35999.0</td>\n",
       "      <td>36030.0</td>\n",
       "      <td>564.884888</td>\n",
       "      <td>564.906006</td>\n",
       "      <td>564.886231</td>\n",
       "      <td>0.001343</td>\n",
       "      <td>0.019775</td>\n",
       "      <td>0.001813</td>\n",
       "      <td>1.247484</td>\n",
       "      <td>0.048516</td>\n",
       "      <td>1.198968</td>\n",
       "      <td>1.0</td>\n",
       "      <td>4.0</td>\n",
       "      <td>8.0</td>\n",
       "      <td>1.0</td>\n",
       "      <td>30.410208</td>\n",
       "    </tr>\n",
       "    <tr>\n",
       "      <th>532</th>\n",
       "      <td>36453.0</td>\n",
       "      <td>36481.0</td>\n",
       "      <td>565.239075</td>\n",
       "      <td>565.258118</td>\n",
       "      <td>565.247253</td>\n",
       "      <td>0.008179</td>\n",
       "      <td>0.010864</td>\n",
       "      <td>0.002279</td>\n",
       "      <td>2.254199</td>\n",
       "      <td>0.912653</td>\n",
       "      <td>1.341545</td>\n",
       "      <td>1.0</td>\n",
       "      <td>7.0</td>\n",
       "      <td>8.0</td>\n",
       "      <td>1.0</td>\n",
       "      <td>27.421920</td>\n",
       "    </tr>\n",
       "    <tr>\n",
       "      <th>547</th>\n",
       "      <td>37492.0</td>\n",
       "      <td>37520.0</td>\n",
       "      <td>565.949463</td>\n",
       "      <td>565.969238</td>\n",
       "      <td>565.952881</td>\n",
       "      <td>0.003418</td>\n",
       "      <td>0.016357</td>\n",
       "      <td>0.024049</td>\n",
       "      <td>6.450674</td>\n",
       "      <td>1.210525</td>\n",
       "      <td>5.240150</td>\n",
       "      <td>1.0</td>\n",
       "      <td>8.0</td>\n",
       "      <td>8.0</td>\n",
       "      <td>1.0</td>\n",
       "      <td>28.476576</td>\n",
       "    </tr>\n",
       "    <tr>\n",
       "      <th>551</th>\n",
       "      <td>37782.0</td>\n",
       "      <td>37805.0</td>\n",
       "      <td>566.149719</td>\n",
       "      <td>566.166077</td>\n",
       "      <td>566.153809</td>\n",
       "      <td>0.004089</td>\n",
       "      <td>0.012268</td>\n",
       "      <td>0.003344</td>\n",
       "      <td>1.332107</td>\n",
       "      <td>0.097017</td>\n",
       "      <td>1.235091</td>\n",
       "      <td>1.0</td>\n",
       "      <td>8.0</td>\n",
       "      <td>8.0</td>\n",
       "      <td>1.0</td>\n",
       "      <td>23.554800</td>\n",
       "    </tr>\n",
       "    <tr>\n",
       "      <th>554</th>\n",
       "      <td>37973.0</td>\n",
       "      <td>38007.0</td>\n",
       "      <td>566.281860</td>\n",
       "      <td>566.305725</td>\n",
       "      <td>566.283936</td>\n",
       "      <td>0.002075</td>\n",
       "      <td>0.021790</td>\n",
       "      <td>0.009930</td>\n",
       "      <td>4.753105</td>\n",
       "      <td>0.160116</td>\n",
       "      <td>4.592989</td>\n",
       "      <td>1.0</td>\n",
       "      <td>8.0</td>\n",
       "      <td>8.0</td>\n",
       "      <td>2.0</td>\n",
       "      <td>34.365168</td>\n",
       "    </tr>\n",
       "  </tbody>\n",
       "</table>\n",
       "<p>127 rows × 16 columns</p>\n",
       "</div>"
      ],
      "text/plain": [
       "     index of flare start in \"gj1243_master_slc.dat\"  \\\n",
       "1                                              275.0   \n",
       "5                                              594.0   \n",
       "16                                            1262.0   \n",
       "17                                            1305.0   \n",
       "33                                            2146.0   \n",
       "41                                            2438.0   \n",
       "42                                            2475.0   \n",
       "43                                            2565.0   \n",
       "46                                            2702.0   \n",
       "48                                            2825.0   \n",
       "53                                            3022.0   \n",
       "56                                            3379.0   \n",
       "58                                            3458.0   \n",
       "60                                            3552.0   \n",
       "63                                            3689.0   \n",
       "67                                            3974.0   \n",
       "79                                            4666.0   \n",
       "93                                            5484.0   \n",
       "94                                            5553.0   \n",
       "101                                           6146.0   \n",
       "102                                           6214.0   \n",
       "104                                           6392.0   \n",
       "108                                           6612.0   \n",
       "109                                           6652.0   \n",
       "121                                           7642.0   \n",
       "124                                           7897.0   \n",
       "125                                           7964.0   \n",
       "128                                           8126.0   \n",
       "129                                           8243.0   \n",
       "130                                           8314.0   \n",
       "..                                               ...   \n",
       "427                                          29029.0   \n",
       "436                                          29753.0   \n",
       "444                                          30301.0   \n",
       "446                                          30337.0   \n",
       "448                                          30468.0   \n",
       "449                                          30505.0   \n",
       "450                                          30560.0   \n",
       "452                                          30671.0   \n",
       "454                                          30864.0   \n",
       "459                                          31185.0   \n",
       "464                                          31527.0   \n",
       "472                                          32060.0   \n",
       "474                                          32150.0   \n",
       "477                                          32308.0   \n",
       "478                                          32356.0   \n",
       "483                                          32665.0   \n",
       "484                                          32811.0   \n",
       "489                                          33234.0   \n",
       "498                                          33782.0   \n",
       "501                                          34284.0   \n",
       "506                                          34719.0   \n",
       "513                                          35178.0   \n",
       "517                                          35417.0   \n",
       "522                                          35610.0   \n",
       "524                                          35755.0   \n",
       "525                                          35999.0   \n",
       "532                                          36453.0   \n",
       "547                                          37492.0   \n",
       "551                                          37782.0   \n",
       "554                                          37973.0   \n",
       "\n",
       "     index of flare stop in \"gj1243_master_slc.dat\"     t_start      t_stop  \\\n",
       "1                                             310.0  539.646668  539.671143   \n",
       "5                                             614.0  539.865967  539.880249   \n",
       "16                                           1288.0  540.326416  540.344788   \n",
       "17                                           1337.0  540.356384  540.378174   \n",
       "33                                           2170.0  540.934692  540.951050   \n",
       "41                                           2459.0  541.142456  541.156738   \n",
       "42                                           2517.0  541.167664  541.196899   \n",
       "43                                           2587.0  541.229614  541.245300   \n",
       "46                                           2725.0  541.323608  541.339294   \n",
       "48                                           2852.0  541.408081  541.426453   \n",
       "53                                           3072.0  541.542969  541.578369   \n",
       "56                                           3406.0  541.790222  541.808594   \n",
       "58                                           3480.0  541.843994  541.859680   \n",
       "60                                           3604.0  541.909424  541.945496   \n",
       "63                                           3756.0  542.003418  542.049744   \n",
       "67                                           4030.0  542.198181  542.236328   \n",
       "79                                           4686.0  542.672974  542.687256   \n",
       "93                                           5512.0  543.236267  543.255310   \n",
       "94                                           5580.0  543.283264  543.301636   \n",
       "101                                          6168.0  543.687195  543.702148   \n",
       "102                                          6243.0  543.733521  543.753235   \n",
       "104                                          6420.0  543.856079  543.875183   \n",
       "108                                          6637.0  544.006653  544.023682   \n",
       "109                                          6675.0  544.034546  544.050232   \n",
       "121                                          7696.0  544.720459  544.758606   \n",
       "124                                          7919.0  544.897583  544.913208   \n",
       "125                                          7986.0  544.943909  544.958862   \n",
       "128                                          8148.0  545.055603  545.071228   \n",
       "129                                          8282.0  545.135986  545.163879   \n",
       "130                                          8362.0  545.185669  545.218384   \n",
       "..                                              ...         ...         ...   \n",
       "427                                         29050.0  560.087647  560.101929   \n",
       "436                                         29776.0  560.582153  560.597778   \n",
       "444                                         30322.0  560.957459  560.972412   \n",
       "446                                         30358.0  560.983337  560.998291   \n",
       "448                                         30495.0  561.073914  561.092285   \n",
       "449                                         30526.0  561.099121  561.113403   \n",
       "450                                         30581.0  561.136597  561.150879   \n",
       "452                                         30694.0  561.212219  561.227844   \n",
       "454                                         30905.0  561.345032  561.374329   \n",
       "459                                         31207.0  561.567078  561.582031   \n",
       "464                                         31550.0  561.799988  561.815674   \n",
       "472                                         32081.0  562.173950  562.188232   \n",
       "474                                         32169.0  562.235962  562.250244   \n",
       "477                                         32330.0  562.344910  562.360596   \n",
       "478                                         32388.0  562.378296  562.400757   \n",
       "483                                         32717.0  562.592834  562.628296   \n",
       "484                                         32844.0  562.692993  562.716797   \n",
       "489                                         33259.0  562.987915  563.004944   \n",
       "498                                         33819.0  563.364563  563.389771   \n",
       "501                                         34307.0  563.710571  563.726257   \n",
       "506                                         34749.0  564.007568  564.028015   \n",
       "513                                         35201.0  564.321594  564.337219   \n",
       "517                                         35446.0  564.486389  564.506165   \n",
       "522                                         35641.0  564.617859  564.639648   \n",
       "524                                         35776.0  564.718018  564.732300   \n",
       "525                                         36030.0  564.884888  564.906006   \n",
       "532                                         36481.0  565.239075  565.258118   \n",
       "547                                         37520.0  565.949463  565.969238   \n",
       "551                                         37805.0  566.149719  566.166077   \n",
       "554                                         38007.0  566.281860  566.305725   \n",
       "\n",
       "         t_peak    t_rise   t_decay  flux peak         ED  Duration of rise  \\\n",
       "1    539.650024  0.003357  0.021118   0.005733   2.601320          0.291359   \n",
       "5    539.870056  0.004089  0.010193   0.004795   0.978497          0.187819   \n",
       "16   540.328491  0.002075  0.016296   0.002447   1.303812          0.137945   \n",
       "17   540.358459  0.002075  0.019714   0.003394   2.770375          0.084208   \n",
       "33   540.944214  0.009522  0.006836   0.002977   1.155527          0.483659   \n",
       "41   541.144470  0.002014  0.012268   0.006591   2.378301          0.567651   \n",
       "42   541.173096  0.005432  0.023804   0.010578   4.931096          1.413226   \n",
       "43   541.232361  0.002747  0.012940   0.005510   1.937838          0.650844   \n",
       "46   541.325684  0.002075  0.013611   0.015069   3.637085          0.949929   \n",
       "48   541.410095  0.002014  0.016357   0.010596   3.733333          0.904708   \n",
       "53   541.546326  0.003357  0.032044   0.015992  11.158404          1.359274   \n",
       "56   541.791565  0.001343  0.017029   0.011324   4.100434          0.348273   \n",
       "58   541.846741  0.002747  0.012940   0.013099   3.826268          0.813227   \n",
       "60   541.911438  0.002014  0.034058   0.100088  39.243309          2.838378   \n",
       "63   542.005432  0.002014  0.044312   0.015230  12.736857          0.440242   \n",
       "67   542.221375  0.023193  0.014954   0.004748   6.108929          2.923305   \n",
       "79   542.675659  0.002685  0.011597   0.003832   1.940115          0.415662   \n",
       "93   543.241028  0.004761  0.014282   0.010868   4.246199          1.080954   \n",
       "94   543.287353  0.004089  0.014282   0.013837   4.357216          0.542604   \n",
       "101  543.694702  0.007507  0.007446   0.002760   1.368067          0.876132   \n",
       "102  543.736206  0.002685  0.017029   0.007309   3.501087          0.487977   \n",
       "104  543.859497  0.003418  0.015686   0.004798   3.771358          0.511134   \n",
       "108  544.009338  0.002685  0.014343   0.003223   2.299203          0.249405   \n",
       "109  544.036621  0.002075  0.013611   0.008240   3.549930          0.446279   \n",
       "121  544.725220  0.004761  0.033386   0.003446   2.135067          0.012355   \n",
       "124  544.901672  0.004089  0.011536   0.004979   1.299311          0.184655   \n",
       "125  544.946594  0.002685  0.012268   0.001398   0.554480          0.044889   \n",
       "128  545.056946  0.001343  0.014282   0.005915   3.236086          0.197931   \n",
       "129  545.141418  0.005432  0.022461   0.008127   4.918304          0.784454   \n",
       "130  545.189087  0.003418  0.029297   0.055919  23.030153          1.742525   \n",
       "..          ...       ...       ...        ...        ...               ...   \n",
       "427  560.090332  0.002685  0.011597   0.003759   1.052473          0.280307   \n",
       "436  560.585571  0.003418  0.012207   0.002268   1.730658          0.138489   \n",
       "444  560.960144  0.002685  0.012268   0.005300   1.972742          0.576267   \n",
       "446  560.985352  0.002014  0.012940   0.003978   1.722590          0.136632   \n",
       "448  561.076660  0.002747  0.015625   0.004788   2.300903          0.049175   \n",
       "449  561.102539  0.003418  0.010864   0.010537   2.323531          0.503407   \n",
       "450  561.140686  0.004089  0.010193   0.003791   1.582538          0.492156   \n",
       "452  561.219666  0.007446  0.008179   0.002533   0.887040          0.292578   \n",
       "454  561.347046  0.002014  0.027283   0.032691  13.190105          2.625112   \n",
       "459  561.577271  0.010193  0.004761   0.002272   0.743682          0.344326   \n",
       "464  561.802734  0.002747  0.012940   0.004669   2.366500          0.310254   \n",
       "472  562.176697  0.002747  0.011536   0.003561   0.816610          0.398176   \n",
       "474  562.238647  0.002685  0.011597   0.005315   1.826938          0.280872   \n",
       "477  562.346313  0.001404  0.014282   0.006794   2.018873          0.390976   \n",
       "478  562.381714  0.003418  0.019043   0.010727   4.772790          0.435166   \n",
       "483  562.597595  0.004761  0.030701   0.020078  10.044655          1.345882   \n",
       "484  562.695679  0.002685  0.021118   0.003470   1.983722         -0.020262   \n",
       "489  562.989258  0.001343  0.015686   0.008574   3.419922          0.266069   \n",
       "498  563.367981  0.003418  0.021790   0.016620   6.083875          0.861576   \n",
       "501  563.713318  0.002747  0.012940   0.009548   1.928957          0.118688   \n",
       "506  564.009644  0.002075  0.018372   0.021079   6.489861          1.414008   \n",
       "513  564.324280  0.002685  0.012940   0.005692   3.036009          0.379665   \n",
       "517  564.491150  0.004761  0.015015   0.009052   4.150510          0.500818   \n",
       "522  564.628784  0.010925  0.010864   0.002431   2.159085          1.001440   \n",
       "524  564.723450  0.005432  0.008850   0.003414   1.528362          0.378017   \n",
       "525  564.886231  0.001343  0.019775   0.001813   1.247484          0.048516   \n",
       "532  565.247253  0.008179  0.010864   0.002279   2.254199          0.912653   \n",
       "547  565.952881  0.003418  0.016357   0.024049   6.450674          1.210525   \n",
       "551  566.153809  0.004089  0.012268   0.003344   1.332107          0.097017   \n",
       "554  566.283936  0.002075  0.021790   0.009930   4.753105          0.160116   \n",
       "\n",
       "     Duration of decay  Complex flag  \\\n",
       "1             2.309961           1.0   \n",
       "5             0.790678           1.0   \n",
       "16            1.165867           1.0   \n",
       "17            2.686167           1.0   \n",
       "33            0.671868           1.0   \n",
       "41            1.810650           1.0   \n",
       "42            3.517869           1.0   \n",
       "43            1.286994           1.0   \n",
       "46            2.687156           1.0   \n",
       "48            2.828625           1.0   \n",
       "53            9.799130           1.0   \n",
       "56            3.752161           1.0   \n",
       "58            3.013042           1.0   \n",
       "60           36.404930           1.0   \n",
       "63           12.296616           1.0   \n",
       "67            3.185624           1.0   \n",
       "79            1.524452           1.0   \n",
       "93            3.165245           1.0   \n",
       "94            3.814611           1.0   \n",
       "101           0.491936           1.0   \n",
       "102           3.013111           1.0   \n",
       "104           3.260224           1.0   \n",
       "108           2.049799           1.0   \n",
       "109           3.103651           1.0   \n",
       "121           2.122712           1.0   \n",
       "124           1.114656           1.0   \n",
       "125           0.509591           1.0   \n",
       "128           3.038156           1.0   \n",
       "129           4.133850           1.0   \n",
       "130          21.287628           1.0   \n",
       "..                 ...           ...   \n",
       "427           0.772166           1.0   \n",
       "436           1.592169           1.0   \n",
       "444           1.396475           1.0   \n",
       "446           1.585958           1.0   \n",
       "448           2.251728           1.0   \n",
       "449           1.820124           1.0   \n",
       "450           1.090382           1.0   \n",
       "452           0.594462           1.0   \n",
       "454          10.564993           1.0   \n",
       "459           0.399356           1.0   \n",
       "464           2.056247           1.0   \n",
       "472           0.418434           1.0   \n",
       "474           1.546066           1.0   \n",
       "477           1.627897           1.0   \n",
       "478           4.337624           1.0   \n",
       "483           8.698772           1.0   \n",
       "484           2.003984           1.0   \n",
       "489           3.153854           1.0   \n",
       "498           5.222299           1.0   \n",
       "501           1.810269           1.0   \n",
       "506           5.075853           1.0   \n",
       "513           2.656344           1.0   \n",
       "517           3.649692           1.0   \n",
       "522           1.157645           1.0   \n",
       "524           1.150345           1.0   \n",
       "525           1.198968           1.0   \n",
       "532           1.341545           1.0   \n",
       "547           5.240150           1.0   \n",
       "551           1.235091           1.0   \n",
       "554           4.592989           1.0   \n",
       "\n",
       "     # of people that identified flare event exists  \\\n",
       "1                                               8.0   \n",
       "5                                               8.0   \n",
       "16                                              5.0   \n",
       "17                                              8.0   \n",
       "33                                              8.0   \n",
       "41                                              8.0   \n",
       "42                                              8.0   \n",
       "43                                              8.0   \n",
       "46                                              8.0   \n",
       "48                                              8.0   \n",
       "53                                              8.0   \n",
       "56                                              8.0   \n",
       "58                                              8.0   \n",
       "60                                              8.0   \n",
       "63                                              8.0   \n",
       "67                                              8.0   \n",
       "79                                              8.0   \n",
       "93                                              8.0   \n",
       "94                                              8.0   \n",
       "101                                             6.0   \n",
       "102                                             8.0   \n",
       "104                                             8.0   \n",
       "108                                             8.0   \n",
       "109                                             8.0   \n",
       "121                                             8.0   \n",
       "124                                             8.0   \n",
       "125                                             3.0   \n",
       "128                                             8.0   \n",
       "129                                             8.0   \n",
       "130                                             8.0   \n",
       "..                                              ...   \n",
       "427                                             7.0   \n",
       "436                                             8.0   \n",
       "444                                             8.0   \n",
       "446                                             8.0   \n",
       "448                                             8.0   \n",
       "449                                             8.0   \n",
       "450                                             8.0   \n",
       "452                                             8.0   \n",
       "454                                             8.0   \n",
       "459                                             8.0   \n",
       "464                                             8.0   \n",
       "472                                             8.0   \n",
       "474                                             8.0   \n",
       "477                                             8.0   \n",
       "478                                             8.0   \n",
       "483                                             8.0   \n",
       "484                                             8.0   \n",
       "489                                             8.0   \n",
       "498                                             8.0   \n",
       "501                                             8.0   \n",
       "506                                             8.0   \n",
       "513                                             8.0   \n",
       "517                                             8.0   \n",
       "522                                             7.0   \n",
       "524                                             8.0   \n",
       "525                                             4.0   \n",
       "532                                             7.0   \n",
       "547                                             8.0   \n",
       "551                                             8.0   \n",
       "554                                             8.0   \n",
       "\n",
       "     # of people that analyzed this month  \\\n",
       "1                                     8.0   \n",
       "5                                     8.0   \n",
       "16                                    8.0   \n",
       "17                                    8.0   \n",
       "33                                    8.0   \n",
       "41                                    8.0   \n",
       "42                                    8.0   \n",
       "43                                    8.0   \n",
       "46                                    8.0   \n",
       "48                                    8.0   \n",
       "53                                    8.0   \n",
       "56                                    8.0   \n",
       "58                                    8.0   \n",
       "60                                    8.0   \n",
       "63                                    8.0   \n",
       "67                                    8.0   \n",
       "79                                    8.0   \n",
       "93                                    8.0   \n",
       "94                                    8.0   \n",
       "101                                   8.0   \n",
       "102                                   8.0   \n",
       "104                                   8.0   \n",
       "108                                   8.0   \n",
       "109                                   8.0   \n",
       "121                                   8.0   \n",
       "124                                   8.0   \n",
       "125                                   8.0   \n",
       "128                                   8.0   \n",
       "129                                   8.0   \n",
       "130                                   8.0   \n",
       "..                                    ...   \n",
       "427                                   8.0   \n",
       "436                                   8.0   \n",
       "444                                   8.0   \n",
       "446                                   8.0   \n",
       "448                                   8.0   \n",
       "449                                   8.0   \n",
       "450                                   8.0   \n",
       "452                                   8.0   \n",
       "454                                   8.0   \n",
       "459                                   8.0   \n",
       "464                                   8.0   \n",
       "472                                   8.0   \n",
       "474                                   8.0   \n",
       "477                                   8.0   \n",
       "478                                   8.0   \n",
       "483                                   8.0   \n",
       "484                                   8.0   \n",
       "489                                   8.0   \n",
       "498                                   8.0   \n",
       "501                                   8.0   \n",
       "506                                   8.0   \n",
       "513                                   8.0   \n",
       "517                                   8.0   \n",
       "522                                   8.0   \n",
       "524                                   8.0   \n",
       "525                                   8.0   \n",
       "532                                   8.0   \n",
       "547                                   8.0   \n",
       "551                                   8.0   \n",
       "554                                   8.0   \n",
       "\n",
       "     # of flare template components fit to event  Flare_Duration  \n",
       "1                                            2.0       35.244144  \n",
       "5                                            1.0       20.566368  \n",
       "16                                           1.0       26.455104  \n",
       "17                                           1.0       31.376880  \n",
       "33                                           1.0       23.554656  \n",
       "41                                           1.0       20.566368  \n",
       "42                                           1.0       42.099552  \n",
       "43                                           1.0       22.587840  \n",
       "46                                           1.0       22.587840  \n",
       "48                                           1.0       26.454960  \n",
       "53                                           2.0       50.976432  \n",
       "56                                           2.0       26.455104  \n",
       "58                                           1.0       22.587984  \n",
       "60                                           2.0       51.943392  \n",
       "63                                           2.0       66.709008  \n",
       "67                                           2.0       54.931536  \n",
       "79                                           1.0       20.566512  \n",
       "93                                           2.0       27.421920  \n",
       "94                                           2.0       26.454960  \n",
       "101                                          1.0       21.533184  \n",
       "102                                          2.0       28.388736  \n",
       "104                                          2.0       27.509760  \n",
       "108                                          2.0       24.521472  \n",
       "109                                          1.0       22.587840  \n",
       "121                                          1.0       54.931680  \n",
       "124                                          1.0       22.500000  \n",
       "125                                          1.0       21.533184  \n",
       "128                                          2.0       22.500000  \n",
       "129                                          1.0       40.166064  \n",
       "130                                          3.0       47.109456  \n",
       "..                                           ...             ...  \n",
       "427                                          2.0       20.566368  \n",
       "436                                          1.0       22.500000  \n",
       "444                                          1.0       21.533184  \n",
       "446                                          1.0       21.533184  \n",
       "448                                          1.0       26.455104  \n",
       "449                                          1.0       20.566368  \n",
       "450                                          1.0       20.566368  \n",
       "452                                          1.0       22.500000  \n",
       "454                                          1.0       42.187536  \n",
       "459                                          1.0       21.533184  \n",
       "464                                          1.0       22.587840  \n",
       "472                                          1.0       20.566368  \n",
       "474                                          1.0       20.566368  \n",
       "477                                          2.0       22.587840  \n",
       "478                                          2.0       32.343696  \n",
       "483                                          2.0       51.064416  \n",
       "484                                          3.0       34.277328  \n",
       "489                                          2.0       24.521472  \n",
       "498                                          1.0       36.298800  \n",
       "501                                          1.0       22.587840  \n",
       "506                                          1.0       29.443248  \n",
       "513                                          1.0       22.500000  \n",
       "517                                          1.0       28.476576  \n",
       "522                                          1.0       31.376880  \n",
       "524                                          1.0       20.566368  \n",
       "525                                          1.0       30.410208  \n",
       "532                                          1.0       27.421920  \n",
       "547                                          1.0       28.476576  \n",
       "551                                          1.0       23.554800  \n",
       "554                                          2.0       34.365168  \n",
       "\n",
       "[127 rows x 16 columns]"
      ]
     },
     "execution_count": 92,
     "metadata": {},
     "output_type": "execute_result"
    }
   ],
   "source": [
    "m1_flares_dur_limit"
   ]
  },
  {
   "cell_type": "code",
   "execution_count": 105,
   "metadata": {},
   "outputs": [
    {
     "data": {
      "text/plain": [
       "0.005732800000000001"
      ]
     },
     "execution_count": 105,
     "metadata": {},
     "output_type": "execute_result"
    }
   ],
   "source": [
    "m1_flares_dur_limit['flux peak'][1] "
   ]
  },
  {
   "cell_type": "code",
   "execution_count": 114,
   "metadata": {},
   "outputs": [
    {
     "data": {
      "text/plain": [
       "0.45901534008668887"
      ]
     },
     "execution_count": 114,
     "metadata": {},
     "output_type": "execute_result"
    }
   ],
   "source": [
    "np.amax(month1_yinterp)"
   ]
  },
  {
   "cell_type": "code",
   "execution_count": 120,
   "metadata": {},
   "outputs": [
    {
     "data": {
      "text/plain": [
       "[<matplotlib.lines.Line2D at 0x119a64d68>]"
      ]
     },
     "execution_count": 120,
     "metadata": {},
     "output_type": "execute_result"
    },
    {
     "data": {
      "image/png": "[encoded data removed]",
      "text/plain": [
       "<Figure size 432x288 with 1 Axes>"
      ]
     },
     "metadata": {
      "needs_background": "light"
     },
     "output_type": "display_data"
    }
   ],
   "source": [
    "plt.plot(month1_yinterp)"
   ]
  },
  {
   "cell_type": "code",
   "execution_count": 127,
   "metadata": {},
   "outputs": [
    {
     "data": {
      "text/plain": [
       "array([0.00084874, 0.00084874, 0.00077353, ..., 0.02457517, 0.02270762,\n",
       "       0.02109411])"
      ]
     },
     "execution_count": 127,
     "metadata": {},
     "output_type": "execute_result"
    }
   ],
   "source": [
    "month1_yinterp"
   ]
  },
  {
   "cell_type": "code",
   "execution_count": 124,
   "metadata": {},
   "outputs": [
    {
     "name": "stdout",
     "output_type": "stream",
     "text": [
      "0.45901534008668887\n",
      "0.45901534008668887\n",
      "0.45901534008668887\n",
      "0.45901534008668887\n",
      "0.45901534008668887\n",
      "0.45901534008668887\n",
      "0.45901534008668887\n",
      "0.45901534008668887\n",
      "0.45901534008668887\n",
      "0.45901534008668887\n"
     ]
    }
   ],
   "source": [
    "#i=1\n",
    "#m1_flares_dur_limit['t_start'][i],m1_flares_dur_limit['t_stop'][i]\n",
    "#m1_peaks=np.array([])\n",
    "#m1_peaks = np.append(m1_peaks,p)\n",
    "for i in range (0,10):\n",
    "    print(np.amax(month1_yinterp))"
   ]
  },
  {
   "cell_type": "code",
   "execution_count": null,
   "metadata": {},
   "outputs": [],
   "source": [
    "def t_half():\n",
    "    peak = max(yinterp)  # Find the maximum y value\n",
    "    xs = [x for x in range(500) if yinterp[x] > peak/2.0]\n",
    "    print(min(xs), max(xs)) # Print the points at half-maximum\n",
    "    thalf_x1 = print(np.interp(yinterp[min(xs)], yinterp,xvals,period=1))\n",
    "    thalf_x2 = print(np.interp(yinterp[max(xs)], yinterp,xvals,period=1))\n",
    "    return thalf_x2-thalf_x1"
   ]
  },
  {
   "cell_type": "code",
   "execution_count": null,
   "metadata": {},
   "outputs": [],
   "source": []
  },
  {
   "cell_type": "code",
   "execution_count": null,
   "metadata": {},
   "outputs": [],
   "source": [
    "''''\n",
    "m1_x = (oneflare_x - classical_flares['t_peak'][1]) / (x_thalf2 - x_thalf1)\n",
    "m1_y = (detrended_unmes)/peak\n",
    "plt.plot(m1_x,m1_y,color='b',alpha=1)\n",
    "\n",
    "\n",
    "plt.xlabel('Time')\n",
    "plt.ylabel('Relative Flux')\n",
    "plt.ylim(-0.4,1)\n",
    "plt.xlim(-5,20)\n",
    "\n",
    "\n",
    "int_xvals = np.linspace(-5,20, 500)\n",
    "int_yvals = np.interp(month1_xvals, m1_x, (detrended_unmes/)#peak))\n",
    "plt.plot(int_xvals,int_yvals,'-x',color='orange',alpha=.3)\n",
    "''''"
   ]
  },
  {
   "cell_type": "code",
   "execution_count": null,
   "metadata": {},
   "outputs": [],
   "source": []
  }
 ],
 "metadata": {
  "kernelspec": {
   "display_name": "Python3",
   "language": "python",
   "name": "python3"
  },
  "language_info": {
   "codemirror_mode": {
    "name": "ipython",
    "version": 3
   },
   "file_extension": ".py",
   "mimetype": "text/x-python",
   "name": "python",
   "nbconvert_exporter": "python",
   "pygments_lexer": "ipython3",
   "version": "3.7.3"
  }
 },
 "nbformat": 4,
 "nbformat_minor": 2
}
